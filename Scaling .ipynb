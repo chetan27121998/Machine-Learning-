{
 "cells": [
  {
   "cell_type": "markdown",
   "id": "09ab1e8b",
   "metadata": {},
   "source": [
    "# 1. MinMaxScaler : \n",
    "      Formula of MinMaxScaler  = (X-min(X)) / (Max(X) - min(X))"
   ]
  },
  {
   "cell_type": "code",
   "execution_count": 1,
   "id": "4b39f87a",
   "metadata": {},
   "outputs": [],
   "source": [
    "# This necessary library used in data science \n",
    "import numpy as np\n",
    "import pandas as pd\n",
    "import matplotlib.pyplot as plt\n",
    "import seaborn as sns\n",
    "import warnings   # to avoid the warnings during executing the program\n",
    "warnings.filterwarnings('ignore')"
   ]
  },
  {
   "cell_type": "code",
   "execution_count": 2,
   "id": "0bd7890f",
   "metadata": {},
   "outputs": [
    {
     "name": "stdout",
     "output_type": "stream",
     "text": [
      "a : \n",
      "[10 20 30 40 50]\n",
      "b : \n",
      "[100 200 300 400 500]\n"
     ]
    }
   ],
   "source": [
    "#Suppose create 1D numpy array a and b\n",
    "a= np.array([10,20,30,40,50])\n",
    "b= np.array([100,200,300,400,500])\n",
    "print('a : ')\n",
    "print(a)\n",
    "print('b : ')\n",
    "print(b)"
   ]
  },
  {
   "cell_type": "markdown",
   "id": "9d7e510d",
   "metadata": {},
   "source": [
    "### Create User Defined function for MinMaxScaler "
   ]
  },
  {
   "cell_type": "code",
   "execution_count": 3,
   "id": "4660c51d",
   "metadata": {},
   "outputs": [],
   "source": [
    "def minmax(X):\n",
    "    new_output = (X-X.min())/(X.max() - X.min())\n",
    "    return new_output\n"
   ]
  },
  {
   "cell_type": "code",
   "execution_count": 4,
   "id": "76d6a47b",
   "metadata": {},
   "outputs": [
    {
     "name": "stdout",
     "output_type": "stream",
     "text": [
      "[0.   0.25 0.5  0.75 1.  ]\n"
     ]
    }
   ],
   "source": [
    "# Call in main Program\n",
    "a = minmax(a)   # Call function\n",
    "print(a)"
   ]
  },
  {
   "cell_type": "code",
   "execution_count": 5,
   "id": "70fb0c49",
   "metadata": {},
   "outputs": [
    {
     "name": "stdout",
     "output_type": "stream",
     "text": [
      "[0.   0.25 0.5  0.75 1.  ]\n"
     ]
    }
   ],
   "source": [
    "# Call in main Program\n",
    "b = minmax(b)   # Call function\n",
    "print(b)"
   ]
  },
  {
   "cell_type": "markdown",
   "id": "84343d65",
   "metadata": {},
   "source": [
    "# 2.) StandardScaler "
   ]
  },
  {
   "cell_type": "code",
   "execution_count": 6,
   "id": "4e868cf5",
   "metadata": {},
   "outputs": [
    {
     "name": "stdout",
     "output_type": "stream",
     "text": [
      "a : \n",
      "[10 20 30 40 50]\n",
      "b : \n",
      "[100 200 300 400 500]\n"
     ]
    }
   ],
   "source": [
    "#Suppose create 1D numpy array a and b\n",
    "a= np.array([10,20,30,40,50])\n",
    "b= np.array([100,200,300,400,500])\n",
    "print('a : ')\n",
    "print(a)\n",
    "print('b : ')\n",
    "print(b)"
   ]
  },
  {
   "cell_type": "markdown",
   "id": "bc40eb87",
   "metadata": {},
   "source": [
    "### Create User Defined function for StandardScaler"
   ]
  },
  {
   "cell_type": "code",
   "execution_count": 7,
   "id": "ae040bc2",
   "metadata": {},
   "outputs": [],
   "source": [
    "def standardscaler(X):\n",
    "    new_output = (X-X.mean())/X.std()\n",
    "    return new_output\n"
   ]
  },
  {
   "cell_type": "code",
   "execution_count": 8,
   "id": "c342fe54",
   "metadata": {},
   "outputs": [
    {
     "name": "stdout",
     "output_type": "stream",
     "text": [
      "[-1.41421356 -0.70710678  0.          0.70710678  1.41421356]\n"
     ]
    }
   ],
   "source": [
    "# Call in main Program\n",
    "a = standardscaler(a)   # Call function\n",
    "print(a)"
   ]
  },
  {
   "cell_type": "code",
   "execution_count": 9,
   "id": "fd4e4b2b",
   "metadata": {},
   "outputs": [
    {
     "name": "stdout",
     "output_type": "stream",
     "text": [
      "[-1.41421356 -0.70710678  0.          0.70710678  1.41421356]\n"
     ]
    }
   ],
   "source": [
    "# Call in main Program\n",
    "b = standardscaler(b)   # Call function\n",
    "print(b)"
   ]
  },
  {
   "cell_type": "code",
   "execution_count": null,
   "id": "317a435f",
   "metadata": {},
   "outputs": [],
   "source": []
  },
  {
   "cell_type": "code",
   "execution_count": null,
   "id": "c8ecac68",
   "metadata": {},
   "outputs": [],
   "source": []
  },
  {
   "cell_type": "code",
   "execution_count": null,
   "id": "2bb4846e",
   "metadata": {},
   "outputs": [],
   "source": []
  },
  {
   "cell_type": "code",
   "execution_count": null,
   "id": "e30af8a2",
   "metadata": {},
   "outputs": [],
   "source": []
  },
  {
   "cell_type": "code",
   "execution_count": null,
   "id": "8de4b9b1",
   "metadata": {},
   "outputs": [],
   "source": []
  },
  {
   "cell_type": "code",
   "execution_count": null,
   "id": "7d167d60",
   "metadata": {},
   "outputs": [],
   "source": []
  },
  {
   "cell_type": "code",
   "execution_count": null,
   "id": "c640f69d",
   "metadata": {},
   "outputs": [],
   "source": []
  }
 ],
 "metadata": {
  "kernelspec": {
   "display_name": "Python 3",
   "language": "python",
   "name": "python3"
  },
  "language_info": {
   "codemirror_mode": {
    "name": "ipython",
    "version": 3
   },
   "file_extension": ".py",
   "mimetype": "text/x-python",
   "name": "python",
   "nbconvert_exporter": "python",
   "pygments_lexer": "ipython3",
   "version": "3.8.8"
  }
 },
 "nbformat": 4,
 "nbformat_minor": 5
}
