{
 "cells": [
  {
   "cell_type": "code",
   "execution_count": 1,
   "id": "4000c752",
   "metadata": {},
   "outputs": [],
   "source": [
    "# This necessary library used in data science \n",
    "import numpy as np\n",
    "import pandas as pd\n",
    "import matplotlib.pyplot as plt\n",
    "import seaborn as sns\n",
    "import warnings   # to avoid the warnings during executing the program\n",
    "warnings.filterwarnings('ignore')"
   ]
  },
  {
   "cell_type": "markdown",
   "id": "85fa856a",
   "metadata": {},
   "source": [
    "### To load the dataset"
   ]
  },
  {
   "cell_type": "code",
   "execution_count": 2,
   "id": "edc7a149",
   "metadata": {},
   "outputs": [
    {
     "data": {
      "text/html": [
       "<div>\n",
       "<style scoped>\n",
       "    .dataframe tbody tr th:only-of-type {\n",
       "        vertical-align: middle;\n",
       "    }\n",
       "\n",
       "    .dataframe tbody tr th {\n",
       "        vertical-align: top;\n",
       "    }\n",
       "\n",
       "    .dataframe thead th {\n",
       "        text-align: right;\n",
       "    }\n",
       "</style>\n",
       "<table border=\"1\" class=\"dataframe\">\n",
       "  <thead>\n",
       "    <tr style=\"text-align: right;\">\n",
       "      <th></th>\n",
       "      <th>Unnamed: 0</th>\n",
       "      <th>TV</th>\n",
       "      <th>radio</th>\n",
       "      <th>newspaper</th>\n",
       "      <th>sales</th>\n",
       "    </tr>\n",
       "  </thead>\n",
       "  <tbody>\n",
       "    <tr>\n",
       "      <th>0</th>\n",
       "      <td>1</td>\n",
       "      <td>230.1</td>\n",
       "      <td>37.8</td>\n",
       "      <td>69.2</td>\n",
       "      <td>22.1</td>\n",
       "    </tr>\n",
       "    <tr>\n",
       "      <th>1</th>\n",
       "      <td>2</td>\n",
       "      <td>44.5</td>\n",
       "      <td>39.3</td>\n",
       "      <td>45.1</td>\n",
       "      <td>10.4</td>\n",
       "    </tr>\n",
       "    <tr>\n",
       "      <th>2</th>\n",
       "      <td>3</td>\n",
       "      <td>17.2</td>\n",
       "      <td>45.9</td>\n",
       "      <td>69.3</td>\n",
       "      <td>9.3</td>\n",
       "    </tr>\n",
       "    <tr>\n",
       "      <th>3</th>\n",
       "      <td>4</td>\n",
       "      <td>151.5</td>\n",
       "      <td>41.3</td>\n",
       "      <td>58.5</td>\n",
       "      <td>18.5</td>\n",
       "    </tr>\n",
       "    <tr>\n",
       "      <th>4</th>\n",
       "      <td>5</td>\n",
       "      <td>180.8</td>\n",
       "      <td>10.8</td>\n",
       "      <td>58.4</td>\n",
       "      <td>12.9</td>\n",
       "    </tr>\n",
       "    <tr>\n",
       "      <th>...</th>\n",
       "      <td>...</td>\n",
       "      <td>...</td>\n",
       "      <td>...</td>\n",
       "      <td>...</td>\n",
       "      <td>...</td>\n",
       "    </tr>\n",
       "    <tr>\n",
       "      <th>195</th>\n",
       "      <td>196</td>\n",
       "      <td>38.2</td>\n",
       "      <td>3.7</td>\n",
       "      <td>13.8</td>\n",
       "      <td>7.6</td>\n",
       "    </tr>\n",
       "    <tr>\n",
       "      <th>196</th>\n",
       "      <td>197</td>\n",
       "      <td>94.2</td>\n",
       "      <td>4.9</td>\n",
       "      <td>8.1</td>\n",
       "      <td>9.7</td>\n",
       "    </tr>\n",
       "    <tr>\n",
       "      <th>197</th>\n",
       "      <td>198</td>\n",
       "      <td>177.0</td>\n",
       "      <td>9.3</td>\n",
       "      <td>6.4</td>\n",
       "      <td>12.8</td>\n",
       "    </tr>\n",
       "    <tr>\n",
       "      <th>198</th>\n",
       "      <td>199</td>\n",
       "      <td>283.6</td>\n",
       "      <td>42.0</td>\n",
       "      <td>66.2</td>\n",
       "      <td>25.5</td>\n",
       "    </tr>\n",
       "    <tr>\n",
       "      <th>199</th>\n",
       "      <td>200</td>\n",
       "      <td>232.1</td>\n",
       "      <td>8.6</td>\n",
       "      <td>8.7</td>\n",
       "      <td>13.4</td>\n",
       "    </tr>\n",
       "  </tbody>\n",
       "</table>\n",
       "<p>200 rows × 5 columns</p>\n",
       "</div>"
      ],
      "text/plain": [
       "     Unnamed: 0     TV  radio  newspaper  sales\n",
       "0             1  230.1   37.8       69.2   22.1\n",
       "1             2   44.5   39.3       45.1   10.4\n",
       "2             3   17.2   45.9       69.3    9.3\n",
       "3             4  151.5   41.3       58.5   18.5\n",
       "4             5  180.8   10.8       58.4   12.9\n",
       "..          ...    ...    ...        ...    ...\n",
       "195         196   38.2    3.7       13.8    7.6\n",
       "196         197   94.2    4.9        8.1    9.7\n",
       "197         198  177.0    9.3        6.4   12.8\n",
       "198         199  283.6   42.0       66.2   25.5\n",
       "199         200  232.1    8.6        8.7   13.4\n",
       "\n",
       "[200 rows x 5 columns]"
      ]
     },
     "execution_count": 2,
     "metadata": {},
     "output_type": "execute_result"
    }
   ],
   "source": [
    "df = pd.read_csv(\"advertising.csv\")\n",
    "df"
   ]
  },
  {
   "cell_type": "markdown",
   "id": "aeccbc54",
   "metadata": {},
   "source": [
    "## Delete the \" Unnamed : 0 \" column permanently from the dataset."
   ]
  },
  {
   "cell_type": "code",
   "execution_count": 3,
   "id": "70737357",
   "metadata": {},
   "outputs": [],
   "source": [
    "df.drop(\"Unnamed: 0\",axis=1,inplace=True)"
   ]
  },
  {
   "cell_type": "code",
   "execution_count": 4,
   "id": "0778a7a1",
   "metadata": {},
   "outputs": [
    {
     "data": {
      "text/html": [
       "<div>\n",
       "<style scoped>\n",
       "    .dataframe tbody tr th:only-of-type {\n",
       "        vertical-align: middle;\n",
       "    }\n",
       "\n",
       "    .dataframe tbody tr th {\n",
       "        vertical-align: top;\n",
       "    }\n",
       "\n",
       "    .dataframe thead th {\n",
       "        text-align: right;\n",
       "    }\n",
       "</style>\n",
       "<table border=\"1\" class=\"dataframe\">\n",
       "  <thead>\n",
       "    <tr style=\"text-align: right;\">\n",
       "      <th></th>\n",
       "      <th>TV</th>\n",
       "      <th>radio</th>\n",
       "      <th>newspaper</th>\n",
       "      <th>sales</th>\n",
       "    </tr>\n",
       "  </thead>\n",
       "  <tbody>\n",
       "    <tr>\n",
       "      <th>0</th>\n",
       "      <td>230.1</td>\n",
       "      <td>37.8</td>\n",
       "      <td>69.2</td>\n",
       "      <td>22.1</td>\n",
       "    </tr>\n",
       "    <tr>\n",
       "      <th>1</th>\n",
       "      <td>44.5</td>\n",
       "      <td>39.3</td>\n",
       "      <td>45.1</td>\n",
       "      <td>10.4</td>\n",
       "    </tr>\n",
       "    <tr>\n",
       "      <th>2</th>\n",
       "      <td>17.2</td>\n",
       "      <td>45.9</td>\n",
       "      <td>69.3</td>\n",
       "      <td>9.3</td>\n",
       "    </tr>\n",
       "    <tr>\n",
       "      <th>3</th>\n",
       "      <td>151.5</td>\n",
       "      <td>41.3</td>\n",
       "      <td>58.5</td>\n",
       "      <td>18.5</td>\n",
       "    </tr>\n",
       "    <tr>\n",
       "      <th>4</th>\n",
       "      <td>180.8</td>\n",
       "      <td>10.8</td>\n",
       "      <td>58.4</td>\n",
       "      <td>12.9</td>\n",
       "    </tr>\n",
       "    <tr>\n",
       "      <th>...</th>\n",
       "      <td>...</td>\n",
       "      <td>...</td>\n",
       "      <td>...</td>\n",
       "      <td>...</td>\n",
       "    </tr>\n",
       "    <tr>\n",
       "      <th>195</th>\n",
       "      <td>38.2</td>\n",
       "      <td>3.7</td>\n",
       "      <td>13.8</td>\n",
       "      <td>7.6</td>\n",
       "    </tr>\n",
       "    <tr>\n",
       "      <th>196</th>\n",
       "      <td>94.2</td>\n",
       "      <td>4.9</td>\n",
       "      <td>8.1</td>\n",
       "      <td>9.7</td>\n",
       "    </tr>\n",
       "    <tr>\n",
       "      <th>197</th>\n",
       "      <td>177.0</td>\n",
       "      <td>9.3</td>\n",
       "      <td>6.4</td>\n",
       "      <td>12.8</td>\n",
       "    </tr>\n",
       "    <tr>\n",
       "      <th>198</th>\n",
       "      <td>283.6</td>\n",
       "      <td>42.0</td>\n",
       "      <td>66.2</td>\n",
       "      <td>25.5</td>\n",
       "    </tr>\n",
       "    <tr>\n",
       "      <th>199</th>\n",
       "      <td>232.1</td>\n",
       "      <td>8.6</td>\n",
       "      <td>8.7</td>\n",
       "      <td>13.4</td>\n",
       "    </tr>\n",
       "  </tbody>\n",
       "</table>\n",
       "<p>200 rows × 4 columns</p>\n",
       "</div>"
      ],
      "text/plain": [
       "        TV  radio  newspaper  sales\n",
       "0    230.1   37.8       69.2   22.1\n",
       "1     44.5   39.3       45.1   10.4\n",
       "2     17.2   45.9       69.3    9.3\n",
       "3    151.5   41.3       58.5   18.5\n",
       "4    180.8   10.8       58.4   12.9\n",
       "..     ...    ...        ...    ...\n",
       "195   38.2    3.7       13.8    7.6\n",
       "196   94.2    4.9        8.1    9.7\n",
       "197  177.0    9.3        6.4   12.8\n",
       "198  283.6   42.0       66.2   25.5\n",
       "199  232.1    8.6        8.7   13.4\n",
       "\n",
       "[200 rows x 4 columns]"
      ]
     },
     "execution_count": 4,
     "metadata": {},
     "output_type": "execute_result"
    }
   ],
   "source": [
    "df"
   ]
  },
  {
   "cell_type": "markdown",
   "id": "c10bd482",
   "metadata": {},
   "source": [
    "### Check the null values."
   ]
  },
  {
   "cell_type": "code",
   "execution_count": 5,
   "id": "aa439a4e",
   "metadata": {},
   "outputs": [
    {
     "data": {
      "text/plain": [
       "TV           0\n",
       "radio        0\n",
       "newspaper    0\n",
       "sales        0\n",
       "dtype: int64"
      ]
     },
     "execution_count": 5,
     "metadata": {},
     "output_type": "execute_result"
    }
   ],
   "source": [
    "df.isnull().sum()"
   ]
  },
  {
   "cell_type": "code",
   "execution_count": 6,
   "id": "f3a222b5",
   "metadata": {},
   "outputs": [
    {
     "data": {
      "image/png": "[encoded data removed]",
      "text/plain": [
       "<Figure size 432x288 with 2 Axes>"
      ]
     },
     "metadata": {
      "needs_background": "light"
     },
     "output_type": "display_data"
    }
   ],
   "source": [
    "sns.heatmap(df.isnull())\n",
    "plt.show()"
   ]
  },
  {
   "cell_type": "code",
   "execution_count": 7,
   "id": "706b1784",
   "metadata": {},
   "outputs": [
    {
     "name": "stdout",
     "output_type": "stream",
     "text": [
      "<class 'pandas.core.frame.DataFrame'>\n",
      "RangeIndex: 200 entries, 0 to 199\n",
      "Data columns (total 4 columns):\n",
      " #   Column     Non-Null Count  Dtype  \n",
      "---  ------     --------------  -----  \n",
      " 0   TV         200 non-null    float64\n",
      " 1   radio      200 non-null    float64\n",
      " 2   newspaper  200 non-null    float64\n",
      " 3   sales      200 non-null    float64\n",
      "dtypes: float64(4)\n",
      "memory usage: 6.4 KB\n"
     ]
    }
   ],
   "source": [
    "df.info()"
   ]
  },
  {
   "cell_type": "markdown",
   "id": "2670da13",
   "metadata": {},
   "source": [
    "# First check the relation between input and output.\n",
    "### use scatterplot  : 2D graph\n",
    "###### Draw scatter plot between indepedent means input varibales TV  and Targer variable means Output means Depedent Variable SALES "
   ]
  },
  {
   "cell_type": "code",
   "execution_count": 8,
   "id": "a58edffb",
   "metadata": {},
   "outputs": [
    {
     "data": {
      "image/png": "[encoded data removed]",
      "text/plain": [
       "<Figure size 432x288 with 1 Axes>"
      ]
     },
     "metadata": {
      "needs_background": "light"
     },
     "output_type": "display_data"
    }
   ],
   "source": [
    "sns.scatterplot(data=df,x=\"TV\",y=\"sales\")\n",
    "plt.show()"
   ]
  },
  {
   "cell_type": "markdown",
   "id": "433a4988",
   "metadata": {},
   "source": [
    "### Draw scatter plot between indepedent means input varibales ' radio ' and Targer variable means Output means Depedent Variable ' SALES '"
   ]
  },
  {
   "cell_type": "code",
   "execution_count": 9,
   "id": "415e244d",
   "metadata": {},
   "outputs": [
    {
     "data": {
      "image/png": "[encoded data removed]",
      "text/plain": [
       "<Figure size 432x288 with 1 Axes>"
      ]
     },
     "metadata": {
      "needs_background": "light"
     },
     "output_type": "display_data"
    }
   ],
   "source": [
    "sns.scatterplot(data=df,x=\"radio\",y=\"sales\")\n",
    "plt.show()"
   ]
  },
  {
   "cell_type": "markdown",
   "id": "af35277d",
   "metadata": {},
   "source": [
    "### Draw scatter plot between indepedent means input varibales ' newspaper ' and Targer variable means Output means Depedent Variable ' SALES '"
   ]
  },
  {
   "cell_type": "code",
   "execution_count": 10,
   "id": "15051258",
   "metadata": {},
   "outputs": [
    {
     "data": {
      "image/png": "[encoded data removed]",
      "text/plain": [
       "<Figure size 432x288 with 1 Axes>"
      ]
     },
     "metadata": {
      "needs_background": "light"
     },
     "output_type": "display_data"
    }
   ],
   "source": [
    "sns.scatterplot(data=df,x=\"newspaper\",y=\"sales\")\n",
    "plt.show()"
   ]
  },
  {
   "cell_type": "code",
   "execution_count": 11,
   "id": "688a1ac0",
   "metadata": {},
   "outputs": [
    {
     "data": {
      "text/plain": [
       "Index(['TV', 'radio', 'newspaper', 'sales'], dtype='object')"
      ]
     },
     "execution_count": 11,
     "metadata": {},
     "output_type": "execute_result"
    }
   ],
   "source": [
    "df.columns"
   ]
  },
  {
   "cell_type": "code",
   "execution_count": 12,
   "id": "971d2763",
   "metadata": {},
   "outputs": [
    {
     "data": {
      "image/png": "[encoded data removed]",
      "text/plain": [
       "<Figure size 720x576 with 3 Axes>"
      ]
     },
     "metadata": {
      "needs_background": "light"
     },
     "output_type": "display_data"
    }
   ],
   "source": [
    "X = ['TV', 'radio', 'newspaper']\n",
    "Y = df['sales']\n",
    "plt.figure(figsize=(10,8))\n",
    "for i,col in enumerate(X): # Enumerate() : return 2 values from list\n",
    "    # 1. Index  2. Value at index\n",
    "    plt.subplot(2,2,i+1)   # Subplot (rows,cols)\n",
    "    sns.scatterplot(df[col],Y) \n",
    "plt.show()"
   ]
  },
  {
   "cell_type": "markdown",
   "id": "a165d244",
   "metadata": {},
   "source": [
    "#### Nice upword growth that means as we investment more on TV the sales is also increasing that means +ve correlation means good +ve correlation between TV(input) with sales(output)\n",
    "\n",
    "#### see the scatter plot radio with sales : - looks better but lot of data is  scattered but scatter data overhere +ve correlation, But correlation is less as compared to TV\n",
    "\n",
    "#### the scatter plot newspaper with sales is very bed correlation means no +ve  corr and no -ve corr means no correlation newspaper with sales because data point are scattered"
   ]
  },
  {
   "cell_type": "markdown",
   "id": "085d5a90",
   "metadata": {},
   "source": [
    "## Check the correlation between Input and Ouput"
   ]
  },
  {
   "cell_type": "code",
   "execution_count": 13,
   "id": "4339e030",
   "metadata": {},
   "outputs": [
    {
     "data": {
      "image/png": "[encoded data removed]",
      "text/plain": [
       "<Figure size 432x288 with 2 Axes>"
      ]
     },
     "metadata": {
      "needs_background": "light"
     },
     "output_type": "display_data"
    }
   ],
   "source": [
    "sns.heatmap(df.corr(),annot=True)\n",
    "plt.show()"
   ]
  },
  {
   "cell_type": "markdown",
   "id": "45729b77",
   "metadata": {},
   "source": [
    "### correlation values with TV and sales=0.78 , It is very good\n",
    "### correlation values with radio and sales=0.58 , It is good(ok)\n",
    "### correlation values with newspaper and sales=0.23 , It is very bad"
   ]
  },
  {
   "cell_type": "raw",
   "id": "fbff071c",
   "metadata": {},
   "source": []
  },
  {
   "cell_type": "markdown",
   "id": "3ee85b25",
   "metadata": {},
   "source": [
    "## Performing the modelling "
   ]
  },
  {
   "cell_type": "code",
   "execution_count": 14,
   "id": "639d9dab",
   "metadata": {},
   "outputs": [],
   "source": [
    "# Modeling with input : TV and output : sales\n",
    "# Simple Linear Regression (SLR) : Only one input\n",
    "# Select input and output from dataset\n",
    "X = df[[\"TV\"]]   # Independent variable (input) always input 2D array\n",
    "Y = df['sales']  # Depedent Variable (Output) means target variable which want to predict"
   ]
  },
  {
   "cell_type": "code",
   "execution_count": 15,
   "id": "0a818c85",
   "metadata": {},
   "outputs": [
    {
     "data": {
      "text/plain": [
       "(200, 4)"
      ]
     },
     "execution_count": 15,
     "metadata": {},
     "output_type": "execute_result"
    }
   ],
   "source": [
    "df.shape"
   ]
  },
  {
   "cell_type": "markdown",
   "id": "8a732e7a",
   "metadata": {},
   "source": [
    "### Train Test Split"
   ]
  },
  {
   "cell_type": "code",
   "execution_count": 16,
   "id": "5e759c62",
   "metadata": {},
   "outputs": [],
   "source": [
    "from sklearn.model_selection import train_test_split"
   ]
  },
  {
   "cell_type": "code",
   "execution_count": 17,
   "id": "94f53af1",
   "metadata": {},
   "outputs": [],
   "source": [
    "# Create an Object of train_test_split\n",
    "X_train,X_test,Y_train,Y_test=train_test_split(X,Y,test_size = 0.3,random_state=1)"
   ]
  },
  {
   "cell_type": "code",
   "execution_count": 18,
   "id": "7661392a",
   "metadata": {},
   "outputs": [
    {
     "data": {
      "text/plain": [
       "(140, 1)"
      ]
     },
     "execution_count": 18,
     "metadata": {},
     "output_type": "execute_result"
    }
   ],
   "source": [
    "X_train.shape"
   ]
  },
  {
   "cell_type": "code",
   "execution_count": 19,
   "id": "2643f105",
   "metadata": {},
   "outputs": [
    {
     "data": {
      "text/html": [
       "<div>\n",
       "<style scoped>\n",
       "    .dataframe tbody tr th:only-of-type {\n",
       "        vertical-align: middle;\n",
       "    }\n",
       "\n",
       "    .dataframe tbody tr th {\n",
       "        vertical-align: top;\n",
       "    }\n",
       "\n",
       "    .dataframe thead th {\n",
       "        text-align: right;\n",
       "    }\n",
       "</style>\n",
       "<table border=\"1\" class=\"dataframe\">\n",
       "  <thead>\n",
       "    <tr style=\"text-align: right;\">\n",
       "      <th></th>\n",
       "      <th>TV</th>\n",
       "    </tr>\n",
       "  </thead>\n",
       "  <tbody>\n",
       "    <tr>\n",
       "      <th>116</th>\n",
       "      <td>139.2</td>\n",
       "    </tr>\n",
       "    <tr>\n",
       "      <th>67</th>\n",
       "      <td>139.3</td>\n",
       "    </tr>\n",
       "    <tr>\n",
       "      <th>78</th>\n",
       "      <td>5.4</td>\n",
       "    </tr>\n",
       "    <tr>\n",
       "      <th>42</th>\n",
       "      <td>293.6</td>\n",
       "    </tr>\n",
       "    <tr>\n",
       "      <th>17</th>\n",
       "      <td>281.4</td>\n",
       "    </tr>\n",
       "  </tbody>\n",
       "</table>\n",
       "</div>"
      ],
      "text/plain": [
       "        TV\n",
       "116  139.2\n",
       "67   139.3\n",
       "78     5.4\n",
       "42   293.6\n",
       "17   281.4"
      ]
     },
     "execution_count": 19,
     "metadata": {},
     "output_type": "execute_result"
    }
   ],
   "source": [
    "X_train.head(5)"
   ]
  },
  {
   "cell_type": "code",
   "execution_count": 20,
   "id": "2089defb",
   "metadata": {},
   "outputs": [
    {
     "data": {
      "text/plain": [
       "116    12.2\n",
       "67     13.4\n",
       "78      5.3\n",
       "42     20.7\n",
       "17     24.4\n",
       "5       7.2\n",
       "127     8.8\n",
       "105    19.2\n",
       "48     14.8\n",
       "66      9.5\n",
       "54     20.2\n",
       "84     21.7\n",
       "183    26.2\n",
       "158     7.3\n",
       "166     8.0\n",
       "113    15.9\n",
       "12      9.2\n",
       "117     9.4\n",
       "93     22.2\n",
       "120    15.5\n",
       "Name: sales, dtype: float64"
      ]
     },
     "execution_count": 20,
     "metadata": {},
     "output_type": "execute_result"
    }
   ],
   "source": [
    "Y_train.head(20)"
   ]
  },
  {
   "cell_type": "markdown",
   "id": "be565b0c",
   "metadata": {},
   "source": [
    "## train_test_split() : inbuilt  function It is used to split dataset into training and testing , 70% data use in training and 30% data used in testing"
   ]
  },
  {
   "cell_type": "raw",
   "id": "69e8f475",
   "metadata": {},
   "source": []
  },
  {
   "cell_type": "markdown",
   "id": "16dc2c5c",
   "metadata": {},
   "source": [
    "##  Peform the linear Regression model"
   ]
  },
  {
   "cell_type": "code",
   "execution_count": 21,
   "id": "3618834a",
   "metadata": {},
   "outputs": [],
   "source": [
    "# Create a model with the help of LinearRegression\n",
    "# Call LinearRegression class\n",
    "from sklearn.linear_model import LinearRegression"
   ]
  },
  {
   "cell_type": "code",
   "execution_count": 22,
   "id": "0a73e33e",
   "metadata": {},
   "outputs": [],
   "source": [
    "# Create an Object of LinearRegression\n",
    "lr = LinearRegression()"
   ]
  },
  {
   "cell_type": "markdown",
   "id": "6434be02",
   "metadata": {},
   "source": [
    "#### Train the model  : use fit()  inbuilt method of LinearRegression class"
   ]
  },
  {
   "cell_type": "code",
   "execution_count": 23,
   "id": "75788738",
   "metadata": {},
   "outputs": [
    {
     "data": {
      "text/plain": [
       "LinearRegression()"
      ]
     },
     "execution_count": 23,
     "metadata": {},
     "output_type": "execute_result"
    }
   ],
   "source": [
    "lr.fit(X_train,Y_train)"
   ]
  },
  {
   "cell_type": "markdown",
   "id": "45a1a7a9",
   "metadata": {},
   "source": [
    "### To show slope means coefficient  and intercept"
   ]
  },
  {
   "cell_type": "code",
   "execution_count": 24,
   "id": "1d587e20",
   "metadata": {},
   "outputs": [
    {
     "name": "stdout",
     "output_type": "stream",
     "text": [
      "Slope :  [0.04812204]\n",
      "Intercept :  6.923519536059554\n"
     ]
    }
   ],
   "source": [
    "print(\"Slope : \",lr.coef_)\n",
    "print(\"Intercept : \",lr.intercept_)"
   ]
  },
  {
   "cell_type": "markdown",
   "id": "c410730a",
   "metadata": {},
   "source": [
    "### Test the model\n",
    "      ML always gives predicted output"
   ]
  },
  {
   "cell_type": "code",
   "execution_count": 25,
   "id": "56bf3689",
   "metadata": {},
   "outputs": [
    {
     "data": {
      "text/plain": [
       "array([17.06764591, 16.66823297, 11.52879892, 20.4073156 , 19.1368937 ,\n",
       "       20.57093054, 14.78184893, 15.62398466, 10.32093567, 17.2890073 ,\n",
       "       14.83959538, 10.25356482, 17.25532187, 12.20731971, 17.78947654,\n",
       "       12.97246017, 13.26119242, 20.91259704,  8.1554438 , 17.06283371,\n",
       "       11.75497252, 10.18619396,  8.13138278, 12.09182681, 12.35649804,\n",
       "       15.98971218,  8.99757953, 18.89628349, 14.95027608, 18.47762173,\n",
       "       18.46799732, 18.2081383 , 14.12738917, 15.11389102, 18.87703468,\n",
       "       15.82128503, 17.62586159, 13.15051172, 17.35637816,  7.86671155,\n",
       "        7.55391828, 11.2737521 ,  7.82340171, 16.74522823,  7.27481044,\n",
       "       14.01189627, 10.68666319, 17.89534503, 16.78853807, 17.96752809,\n",
       "       20.864475  , 12.84734286,  7.85708714, 15.71060434, 19.70473379,\n",
       "       14.89252963, 17.43818563,  8.12657058, 18.0926454 ,  8.99276733])"
      ]
     },
     "execution_count": 25,
     "metadata": {},
     "output_type": "execute_result"
    }
   ],
   "source": [
    "Y_pred = lr.predict(X_test)  # Y_pred = m * X_Test + b\n",
    "Y_pred"
   ]
  },
  {
   "cell_type": "code",
   "execution_count": 26,
   "id": "2b3062d2",
   "metadata": {},
   "outputs": [
    {
     "data": {
      "text/plain": [
       "58     23.8\n",
       "40     16.6\n",
       "34      9.5\n",
       "102    14.8\n",
       "184    17.6\n",
       "198    25.5\n",
       "95     16.9\n",
       "4      12.9\n",
       "29     10.5\n",
       "168    17.1\n",
       "171    14.5\n",
       "18     11.3\n",
       "11     17.4\n",
       "89     16.7\n",
       "110    13.4\n",
       "118    15.9\n",
       "159    12.9\n",
       "35     12.8\n",
       "136     9.5\n",
       "59     18.4\n",
       "51     10.7\n",
       "16     12.5\n",
       "44      8.5\n",
       "94     11.5\n",
       "31     11.9\n",
       "162    14.9\n",
       "38     10.1\n",
       "28     18.9\n",
       "193    19.6\n",
       "27     15.9\n",
       "47     23.2\n",
       "165    11.9\n",
       "194    17.3\n",
       "177    11.7\n",
       "176    20.2\n",
       "97     15.5\n",
       "174    11.5\n",
       "73     11.0\n",
       "69     22.3\n",
       "172     7.6\n",
       "108     5.3\n",
       "107     8.7\n",
       "189     6.7\n",
       "14     19.0\n",
       "56      5.5\n",
       "19     14.6\n",
       "114    14.6\n",
       "39     21.5\n",
       "185    22.6\n",
       "124    19.7\n",
       "98     25.4\n",
       "123    15.2\n",
       "119     6.6\n",
       "53     21.2\n",
       "33     17.4\n",
       "179    12.6\n",
       "181    12.2\n",
       "106     7.2\n",
       "199    13.4\n",
       "138     9.6\n",
       "Name: sales, dtype: float64"
      ]
     },
     "execution_count": 26,
     "metadata": {},
     "output_type": "execute_result"
    }
   ],
   "source": [
    "Y_test"
   ]
  },
  {
   "cell_type": "code",
   "execution_count": 27,
   "id": "dda14af6",
   "metadata": {},
   "outputs": [],
   "source": [
    "from sklearn.metrics import mean_squared_error"
   ]
  },
  {
   "cell_type": "code",
   "execution_count": 28,
   "id": "5e62480a",
   "metadata": {},
   "outputs": [
    {
     "data": {
      "text/plain": [
       "10.571057434656955"
      ]
     },
     "execution_count": 28,
     "metadata": {},
     "output_type": "execute_result"
    }
   ],
   "source": [
    "# Show mean_squared_Error\n",
    "mean_squared_error(Y_test,Y_pred) # Formula sum(Y - Y_PREDICATED) ^ 2/N"
   ]
  },
  {
   "cell_type": "code",
   "execution_count": 29,
   "id": "1cff5cc0",
   "metadata": {},
   "outputs": [
    {
     "data": {
      "image/png": "[encoded data removed]",
      "text/plain": [
       "<Figure size 432x288 with 1 Axes>"
      ]
     },
     "metadata": {
      "needs_background": "light"
     },
     "output_type": "display_data"
    }
   ],
   "source": [
    "sns.scatterplot(data=df,x=\"TV\",y=\"sales\")\n",
    "plt.plot(X_test,Y_pred,color='red')\n",
    "plt.show()"
   ]
  },
  {
   "cell_type": "markdown",
   "id": "b02e8912",
   "metadata": {},
   "source": [
    "#### R-2 Score : formual  = (TSS - RSS) / TSS  where TSS = Total Sum of Square\n",
    "#### RSS = Residual Sum of Squared\n",
    "### Range of R - 2 Score is 0 to 1"
   ]
  },
  {
   "cell_type": "code",
   "execution_count": 30,
   "id": "11589b2e",
   "metadata": {},
   "outputs": [],
   "source": [
    "from sklearn.metrics import r2_score"
   ]
  },
  {
   "cell_type": "code",
   "execution_count": 31,
   "id": "e49fdcda",
   "metadata": {},
   "outputs": [
    {
     "data": {
      "text/plain": [
       "0.575061860494331"
      ]
     },
     "execution_count": 31,
     "metadata": {},
     "output_type": "execute_result"
    }
   ],
   "source": [
    "r2_score(Y_test,Y_pred)"
   ]
  },
  {
   "cell_type": "markdown",
   "id": "3bc544cd",
   "metadata": {},
   "source": [
    "### OLS means Ordinary Least Squared Method"
   ]
  },
  {
   "cell_type": "code",
   "execution_count": 32,
   "id": "349cde39",
   "metadata": {},
   "outputs": [],
   "source": [
    "# Create a dictionary \n",
    "d = {\"Y_test\":Y_test,'Y_predict':Y_pred}"
   ]
  },
  {
   "cell_type": "code",
   "execution_count": 33,
   "id": "3f1dccf8",
   "metadata": {},
   "outputs": [
    {
     "data": {
      "text/html": [
       "<div>\n",
       "<style scoped>\n",
       "    .dataframe tbody tr th:only-of-type {\n",
       "        vertical-align: middle;\n",
       "    }\n",
       "\n",
       "    .dataframe tbody tr th {\n",
       "        vertical-align: top;\n",
       "    }\n",
       "\n",
       "    .dataframe thead th {\n",
       "        text-align: right;\n",
       "    }\n",
       "</style>\n",
       "<table border=\"1\" class=\"dataframe\">\n",
       "  <thead>\n",
       "    <tr style=\"text-align: right;\">\n",
       "      <th></th>\n",
       "      <th>Y_test</th>\n",
       "      <th>Y_predict</th>\n",
       "    </tr>\n",
       "  </thead>\n",
       "  <tbody>\n",
       "    <tr>\n",
       "      <th>58</th>\n",
       "      <td>23.8</td>\n",
       "      <td>17.067646</td>\n",
       "    </tr>\n",
       "    <tr>\n",
       "      <th>40</th>\n",
       "      <td>16.6</td>\n",
       "      <td>16.668233</td>\n",
       "    </tr>\n",
       "    <tr>\n",
       "      <th>34</th>\n",
       "      <td>9.5</td>\n",
       "      <td>11.528799</td>\n",
       "    </tr>\n",
       "    <tr>\n",
       "      <th>102</th>\n",
       "      <td>14.8</td>\n",
       "      <td>20.407316</td>\n",
       "    </tr>\n",
       "    <tr>\n",
       "      <th>184</th>\n",
       "      <td>17.6</td>\n",
       "      <td>19.136894</td>\n",
       "    </tr>\n",
       "    <tr>\n",
       "      <th>198</th>\n",
       "      <td>25.5</td>\n",
       "      <td>20.570931</td>\n",
       "    </tr>\n",
       "    <tr>\n",
       "      <th>95</th>\n",
       "      <td>16.9</td>\n",
       "      <td>14.781849</td>\n",
       "    </tr>\n",
       "    <tr>\n",
       "      <th>4</th>\n",
       "      <td>12.9</td>\n",
       "      <td>15.623985</td>\n",
       "    </tr>\n",
       "    <tr>\n",
       "      <th>29</th>\n",
       "      <td>10.5</td>\n",
       "      <td>10.320936</td>\n",
       "    </tr>\n",
       "    <tr>\n",
       "      <th>168</th>\n",
       "      <td>17.1</td>\n",
       "      <td>17.289007</td>\n",
       "    </tr>\n",
       "    <tr>\n",
       "      <th>171</th>\n",
       "      <td>14.5</td>\n",
       "      <td>14.839595</td>\n",
       "    </tr>\n",
       "    <tr>\n",
       "      <th>18</th>\n",
       "      <td>11.3</td>\n",
       "      <td>10.253565</td>\n",
       "    </tr>\n",
       "    <tr>\n",
       "      <th>11</th>\n",
       "      <td>17.4</td>\n",
       "      <td>17.255322</td>\n",
       "    </tr>\n",
       "    <tr>\n",
       "      <th>89</th>\n",
       "      <td>16.7</td>\n",
       "      <td>12.207320</td>\n",
       "    </tr>\n",
       "    <tr>\n",
       "      <th>110</th>\n",
       "      <td>13.4</td>\n",
       "      <td>17.789477</td>\n",
       "    </tr>\n",
       "    <tr>\n",
       "      <th>118</th>\n",
       "      <td>15.9</td>\n",
       "      <td>12.972460</td>\n",
       "    </tr>\n",
       "    <tr>\n",
       "      <th>159</th>\n",
       "      <td>12.9</td>\n",
       "      <td>13.261192</td>\n",
       "    </tr>\n",
       "    <tr>\n",
       "      <th>35</th>\n",
       "      <td>12.8</td>\n",
       "      <td>20.912597</td>\n",
       "    </tr>\n",
       "    <tr>\n",
       "      <th>136</th>\n",
       "      <td>9.5</td>\n",
       "      <td>8.155444</td>\n",
       "    </tr>\n",
       "    <tr>\n",
       "      <th>59</th>\n",
       "      <td>18.4</td>\n",
       "      <td>17.062834</td>\n",
       "    </tr>\n",
       "    <tr>\n",
       "      <th>51</th>\n",
       "      <td>10.7</td>\n",
       "      <td>11.754973</td>\n",
       "    </tr>\n",
       "    <tr>\n",
       "      <th>16</th>\n",
       "      <td>12.5</td>\n",
       "      <td>10.186194</td>\n",
       "    </tr>\n",
       "    <tr>\n",
       "      <th>44</th>\n",
       "      <td>8.5</td>\n",
       "      <td>8.131383</td>\n",
       "    </tr>\n",
       "    <tr>\n",
       "      <th>94</th>\n",
       "      <td>11.5</td>\n",
       "      <td>12.091827</td>\n",
       "    </tr>\n",
       "    <tr>\n",
       "      <th>31</th>\n",
       "      <td>11.9</td>\n",
       "      <td>12.356498</td>\n",
       "    </tr>\n",
       "    <tr>\n",
       "      <th>162</th>\n",
       "      <td>14.9</td>\n",
       "      <td>15.989712</td>\n",
       "    </tr>\n",
       "    <tr>\n",
       "      <th>38</th>\n",
       "      <td>10.1</td>\n",
       "      <td>8.997580</td>\n",
       "    </tr>\n",
       "    <tr>\n",
       "      <th>28</th>\n",
       "      <td>18.9</td>\n",
       "      <td>18.896283</td>\n",
       "    </tr>\n",
       "    <tr>\n",
       "      <th>193</th>\n",
       "      <td>19.6</td>\n",
       "      <td>14.950276</td>\n",
       "    </tr>\n",
       "    <tr>\n",
       "      <th>27</th>\n",
       "      <td>15.9</td>\n",
       "      <td>18.477622</td>\n",
       "    </tr>\n",
       "    <tr>\n",
       "      <th>47</th>\n",
       "      <td>23.2</td>\n",
       "      <td>18.467997</td>\n",
       "    </tr>\n",
       "    <tr>\n",
       "      <th>165</th>\n",
       "      <td>11.9</td>\n",
       "      <td>18.208138</td>\n",
       "    </tr>\n",
       "    <tr>\n",
       "      <th>194</th>\n",
       "      <td>17.3</td>\n",
       "      <td>14.127389</td>\n",
       "    </tr>\n",
       "    <tr>\n",
       "      <th>177</th>\n",
       "      <td>11.7</td>\n",
       "      <td>15.113891</td>\n",
       "    </tr>\n",
       "    <tr>\n",
       "      <th>176</th>\n",
       "      <td>20.2</td>\n",
       "      <td>18.877035</td>\n",
       "    </tr>\n",
       "    <tr>\n",
       "      <th>97</th>\n",
       "      <td>15.5</td>\n",
       "      <td>15.821285</td>\n",
       "    </tr>\n",
       "    <tr>\n",
       "      <th>174</th>\n",
       "      <td>11.5</td>\n",
       "      <td>17.625862</td>\n",
       "    </tr>\n",
       "    <tr>\n",
       "      <th>73</th>\n",
       "      <td>11.0</td>\n",
       "      <td>13.150512</td>\n",
       "    </tr>\n",
       "    <tr>\n",
       "      <th>69</th>\n",
       "      <td>22.3</td>\n",
       "      <td>17.356378</td>\n",
       "    </tr>\n",
       "    <tr>\n",
       "      <th>172</th>\n",
       "      <td>7.6</td>\n",
       "      <td>7.866712</td>\n",
       "    </tr>\n",
       "    <tr>\n",
       "      <th>108</th>\n",
       "      <td>5.3</td>\n",
       "      <td>7.553918</td>\n",
       "    </tr>\n",
       "    <tr>\n",
       "      <th>107</th>\n",
       "      <td>8.7</td>\n",
       "      <td>11.273752</td>\n",
       "    </tr>\n",
       "    <tr>\n",
       "      <th>189</th>\n",
       "      <td>6.7</td>\n",
       "      <td>7.823402</td>\n",
       "    </tr>\n",
       "    <tr>\n",
       "      <th>14</th>\n",
       "      <td>19.0</td>\n",
       "      <td>16.745228</td>\n",
       "    </tr>\n",
       "    <tr>\n",
       "      <th>56</th>\n",
       "      <td>5.5</td>\n",
       "      <td>7.274810</td>\n",
       "    </tr>\n",
       "    <tr>\n",
       "      <th>19</th>\n",
       "      <td>14.6</td>\n",
       "      <td>14.011896</td>\n",
       "    </tr>\n",
       "    <tr>\n",
       "      <th>114</th>\n",
       "      <td>14.6</td>\n",
       "      <td>10.686663</td>\n",
       "    </tr>\n",
       "    <tr>\n",
       "      <th>39</th>\n",
       "      <td>21.5</td>\n",
       "      <td>17.895345</td>\n",
       "    </tr>\n",
       "    <tr>\n",
       "      <th>185</th>\n",
       "      <td>22.6</td>\n",
       "      <td>16.788538</td>\n",
       "    </tr>\n",
       "    <tr>\n",
       "      <th>124</th>\n",
       "      <td>19.7</td>\n",
       "      <td>17.967528</td>\n",
       "    </tr>\n",
       "    <tr>\n",
       "      <th>98</th>\n",
       "      <td>25.4</td>\n",
       "      <td>20.864475</td>\n",
       "    </tr>\n",
       "    <tr>\n",
       "      <th>123</th>\n",
       "      <td>15.2</td>\n",
       "      <td>12.847343</td>\n",
       "    </tr>\n",
       "    <tr>\n",
       "      <th>119</th>\n",
       "      <td>6.6</td>\n",
       "      <td>7.857087</td>\n",
       "    </tr>\n",
       "    <tr>\n",
       "      <th>53</th>\n",
       "      <td>21.2</td>\n",
       "      <td>15.710604</td>\n",
       "    </tr>\n",
       "    <tr>\n",
       "      <th>33</th>\n",
       "      <td>17.4</td>\n",
       "      <td>19.704734</td>\n",
       "    </tr>\n",
       "    <tr>\n",
       "      <th>179</th>\n",
       "      <td>12.6</td>\n",
       "      <td>14.892530</td>\n",
       "    </tr>\n",
       "    <tr>\n",
       "      <th>181</th>\n",
       "      <td>12.2</td>\n",
       "      <td>17.438186</td>\n",
       "    </tr>\n",
       "    <tr>\n",
       "      <th>106</th>\n",
       "      <td>7.2</td>\n",
       "      <td>8.126571</td>\n",
       "    </tr>\n",
       "    <tr>\n",
       "      <th>199</th>\n",
       "      <td>13.4</td>\n",
       "      <td>18.092645</td>\n",
       "    </tr>\n",
       "    <tr>\n",
       "      <th>138</th>\n",
       "      <td>9.6</td>\n",
       "      <td>8.992767</td>\n",
       "    </tr>\n",
       "  </tbody>\n",
       "</table>\n",
       "</div>"
      ],
      "text/plain": [
       "     Y_test  Y_predict\n",
       "58     23.8  17.067646\n",
       "40     16.6  16.668233\n",
       "34      9.5  11.528799\n",
       "102    14.8  20.407316\n",
       "184    17.6  19.136894\n",
       "198    25.5  20.570931\n",
       "95     16.9  14.781849\n",
       "4      12.9  15.623985\n",
       "29     10.5  10.320936\n",
       "168    17.1  17.289007\n",
       "171    14.5  14.839595\n",
       "18     11.3  10.253565\n",
       "11     17.4  17.255322\n",
       "89     16.7  12.207320\n",
       "110    13.4  17.789477\n",
       "118    15.9  12.972460\n",
       "159    12.9  13.261192\n",
       "35     12.8  20.912597\n",
       "136     9.5   8.155444\n",
       "59     18.4  17.062834\n",
       "51     10.7  11.754973\n",
       "16     12.5  10.186194\n",
       "44      8.5   8.131383\n",
       "94     11.5  12.091827\n",
       "31     11.9  12.356498\n",
       "162    14.9  15.989712\n",
       "38     10.1   8.997580\n",
       "28     18.9  18.896283\n",
       "193    19.6  14.950276\n",
       "27     15.9  18.477622\n",
       "47     23.2  18.467997\n",
       "165    11.9  18.208138\n",
       "194    17.3  14.127389\n",
       "177    11.7  15.113891\n",
       "176    20.2  18.877035\n",
       "97     15.5  15.821285\n",
       "174    11.5  17.625862\n",
       "73     11.0  13.150512\n",
       "69     22.3  17.356378\n",
       "172     7.6   7.866712\n",
       "108     5.3   7.553918\n",
       "107     8.7  11.273752\n",
       "189     6.7   7.823402\n",
       "14     19.0  16.745228\n",
       "56      5.5   7.274810\n",
       "19     14.6  14.011896\n",
       "114    14.6  10.686663\n",
       "39     21.5  17.895345\n",
       "185    22.6  16.788538\n",
       "124    19.7  17.967528\n",
       "98     25.4  20.864475\n",
       "123    15.2  12.847343\n",
       "119     6.6   7.857087\n",
       "53     21.2  15.710604\n",
       "33     17.4  19.704734\n",
       "179    12.6  14.892530\n",
       "181    12.2  17.438186\n",
       "106     7.2   8.126571\n",
       "199    13.4  18.092645\n",
       "138     9.6   8.992767"
      ]
     },
     "execution_count": 33,
     "metadata": {},
     "output_type": "execute_result"
    }
   ],
   "source": [
    "# Create DataFrame df1 with help of dictionary d\n",
    "df1=pd.DataFrame(d)\n",
    "df1"
   ]
  },
  {
   "cell_type": "code",
   "execution_count": 34,
   "id": "31127225",
   "metadata": {},
   "outputs": [
    {
     "data": {
      "text/html": [
       "<div>\n",
       "<style scoped>\n",
       "    .dataframe tbody tr th:only-of-type {\n",
       "        vertical-align: middle;\n",
       "    }\n",
       "\n",
       "    .dataframe tbody tr th {\n",
       "        vertical-align: top;\n",
       "    }\n",
       "\n",
       "    .dataframe thead th {\n",
       "        text-align: right;\n",
       "    }\n",
       "</style>\n",
       "<table border=\"1\" class=\"dataframe\">\n",
       "  <thead>\n",
       "    <tr style=\"text-align: right;\">\n",
       "      <th></th>\n",
       "      <th>Y_test</th>\n",
       "      <th>Y_predict</th>\n",
       "      <th>TV</th>\n",
       "    </tr>\n",
       "  </thead>\n",
       "  <tbody>\n",
       "    <tr>\n",
       "      <th>58</th>\n",
       "      <td>23.8</td>\n",
       "      <td>17.067646</td>\n",
       "      <td>210.8</td>\n",
       "    </tr>\n",
       "    <tr>\n",
       "      <th>40</th>\n",
       "      <td>16.6</td>\n",
       "      <td>16.668233</td>\n",
       "      <td>202.5</td>\n",
       "    </tr>\n",
       "    <tr>\n",
       "      <th>34</th>\n",
       "      <td>9.5</td>\n",
       "      <td>11.528799</td>\n",
       "      <td>95.7</td>\n",
       "    </tr>\n",
       "    <tr>\n",
       "      <th>102</th>\n",
       "      <td>14.8</td>\n",
       "      <td>20.407316</td>\n",
       "      <td>280.2</td>\n",
       "    </tr>\n",
       "    <tr>\n",
       "      <th>184</th>\n",
       "      <td>17.6</td>\n",
       "      <td>19.136894</td>\n",
       "      <td>253.8</td>\n",
       "    </tr>\n",
       "    <tr>\n",
       "      <th>198</th>\n",
       "      <td>25.5</td>\n",
       "      <td>20.570931</td>\n",
       "      <td>283.6</td>\n",
       "    </tr>\n",
       "    <tr>\n",
       "      <th>95</th>\n",
       "      <td>16.9</td>\n",
       "      <td>14.781849</td>\n",
       "      <td>163.3</td>\n",
       "    </tr>\n",
       "    <tr>\n",
       "      <th>4</th>\n",
       "      <td>12.9</td>\n",
       "      <td>15.623985</td>\n",
       "      <td>180.8</td>\n",
       "    </tr>\n",
       "    <tr>\n",
       "      <th>29</th>\n",
       "      <td>10.5</td>\n",
       "      <td>10.320936</td>\n",
       "      <td>70.6</td>\n",
       "    </tr>\n",
       "    <tr>\n",
       "      <th>168</th>\n",
       "      <td>17.1</td>\n",
       "      <td>17.289007</td>\n",
       "      <td>215.4</td>\n",
       "    </tr>\n",
       "    <tr>\n",
       "      <th>171</th>\n",
       "      <td>14.5</td>\n",
       "      <td>14.839595</td>\n",
       "      <td>164.5</td>\n",
       "    </tr>\n",
       "    <tr>\n",
       "      <th>18</th>\n",
       "      <td>11.3</td>\n",
       "      <td>10.253565</td>\n",
       "      <td>69.2</td>\n",
       "    </tr>\n",
       "    <tr>\n",
       "      <th>11</th>\n",
       "      <td>17.4</td>\n",
       "      <td>17.255322</td>\n",
       "      <td>214.7</td>\n",
       "    </tr>\n",
       "    <tr>\n",
       "      <th>89</th>\n",
       "      <td>16.7</td>\n",
       "      <td>12.207320</td>\n",
       "      <td>109.8</td>\n",
       "    </tr>\n",
       "    <tr>\n",
       "      <th>110</th>\n",
       "      <td>13.4</td>\n",
       "      <td>17.789477</td>\n",
       "      <td>225.8</td>\n",
       "    </tr>\n",
       "    <tr>\n",
       "      <th>118</th>\n",
       "      <td>15.9</td>\n",
       "      <td>12.972460</td>\n",
       "      <td>125.7</td>\n",
       "    </tr>\n",
       "    <tr>\n",
       "      <th>159</th>\n",
       "      <td>12.9</td>\n",
       "      <td>13.261192</td>\n",
       "      <td>131.7</td>\n",
       "    </tr>\n",
       "    <tr>\n",
       "      <th>35</th>\n",
       "      <td>12.8</td>\n",
       "      <td>20.912597</td>\n",
       "      <td>290.7</td>\n",
       "    </tr>\n",
       "    <tr>\n",
       "      <th>136</th>\n",
       "      <td>9.5</td>\n",
       "      <td>8.155444</td>\n",
       "      <td>25.6</td>\n",
       "    </tr>\n",
       "    <tr>\n",
       "      <th>59</th>\n",
       "      <td>18.4</td>\n",
       "      <td>17.062834</td>\n",
       "      <td>210.7</td>\n",
       "    </tr>\n",
       "    <tr>\n",
       "      <th>51</th>\n",
       "      <td>10.7</td>\n",
       "      <td>11.754973</td>\n",
       "      <td>100.4</td>\n",
       "    </tr>\n",
       "    <tr>\n",
       "      <th>16</th>\n",
       "      <td>12.5</td>\n",
       "      <td>10.186194</td>\n",
       "      <td>67.8</td>\n",
       "    </tr>\n",
       "    <tr>\n",
       "      <th>44</th>\n",
       "      <td>8.5</td>\n",
       "      <td>8.131383</td>\n",
       "      <td>25.1</td>\n",
       "    </tr>\n",
       "    <tr>\n",
       "      <th>94</th>\n",
       "      <td>11.5</td>\n",
       "      <td>12.091827</td>\n",
       "      <td>107.4</td>\n",
       "    </tr>\n",
       "    <tr>\n",
       "      <th>31</th>\n",
       "      <td>11.9</td>\n",
       "      <td>12.356498</td>\n",
       "      <td>112.9</td>\n",
       "    </tr>\n",
       "    <tr>\n",
       "      <th>162</th>\n",
       "      <td>14.9</td>\n",
       "      <td>15.989712</td>\n",
       "      <td>188.4</td>\n",
       "    </tr>\n",
       "    <tr>\n",
       "      <th>38</th>\n",
       "      <td>10.1</td>\n",
       "      <td>8.997580</td>\n",
       "      <td>43.1</td>\n",
       "    </tr>\n",
       "    <tr>\n",
       "      <th>28</th>\n",
       "      <td>18.9</td>\n",
       "      <td>18.896283</td>\n",
       "      <td>248.8</td>\n",
       "    </tr>\n",
       "    <tr>\n",
       "      <th>193</th>\n",
       "      <td>19.6</td>\n",
       "      <td>14.950276</td>\n",
       "      <td>166.8</td>\n",
       "    </tr>\n",
       "    <tr>\n",
       "      <th>27</th>\n",
       "      <td>15.9</td>\n",
       "      <td>18.477622</td>\n",
       "      <td>240.1</td>\n",
       "    </tr>\n",
       "    <tr>\n",
       "      <th>47</th>\n",
       "      <td>23.2</td>\n",
       "      <td>18.467997</td>\n",
       "      <td>239.9</td>\n",
       "    </tr>\n",
       "    <tr>\n",
       "      <th>165</th>\n",
       "      <td>11.9</td>\n",
       "      <td>18.208138</td>\n",
       "      <td>234.5</td>\n",
       "    </tr>\n",
       "    <tr>\n",
       "      <th>194</th>\n",
       "      <td>17.3</td>\n",
       "      <td>14.127389</td>\n",
       "      <td>149.7</td>\n",
       "    </tr>\n",
       "    <tr>\n",
       "      <th>177</th>\n",
       "      <td>11.7</td>\n",
       "      <td>15.113891</td>\n",
       "      <td>170.2</td>\n",
       "    </tr>\n",
       "    <tr>\n",
       "      <th>176</th>\n",
       "      <td>20.2</td>\n",
       "      <td>18.877035</td>\n",
       "      <td>248.4</td>\n",
       "    </tr>\n",
       "    <tr>\n",
       "      <th>97</th>\n",
       "      <td>15.5</td>\n",
       "      <td>15.821285</td>\n",
       "      <td>184.9</td>\n",
       "    </tr>\n",
       "    <tr>\n",
       "      <th>174</th>\n",
       "      <td>11.5</td>\n",
       "      <td>17.625862</td>\n",
       "      <td>222.4</td>\n",
       "    </tr>\n",
       "    <tr>\n",
       "      <th>73</th>\n",
       "      <td>11.0</td>\n",
       "      <td>13.150512</td>\n",
       "      <td>129.4</td>\n",
       "    </tr>\n",
       "    <tr>\n",
       "      <th>69</th>\n",
       "      <td>22.3</td>\n",
       "      <td>17.356378</td>\n",
       "      <td>216.8</td>\n",
       "    </tr>\n",
       "    <tr>\n",
       "      <th>172</th>\n",
       "      <td>7.6</td>\n",
       "      <td>7.866712</td>\n",
       "      <td>19.6</td>\n",
       "    </tr>\n",
       "    <tr>\n",
       "      <th>108</th>\n",
       "      <td>5.3</td>\n",
       "      <td>7.553918</td>\n",
       "      <td>13.1</td>\n",
       "    </tr>\n",
       "    <tr>\n",
       "      <th>107</th>\n",
       "      <td>8.7</td>\n",
       "      <td>11.273752</td>\n",
       "      <td>90.4</td>\n",
       "    </tr>\n",
       "    <tr>\n",
       "      <th>189</th>\n",
       "      <td>6.7</td>\n",
       "      <td>7.823402</td>\n",
       "      <td>18.7</td>\n",
       "    </tr>\n",
       "    <tr>\n",
       "      <th>14</th>\n",
       "      <td>19.0</td>\n",
       "      <td>16.745228</td>\n",
       "      <td>204.1</td>\n",
       "    </tr>\n",
       "    <tr>\n",
       "      <th>56</th>\n",
       "      <td>5.5</td>\n",
       "      <td>7.274810</td>\n",
       "      <td>7.3</td>\n",
       "    </tr>\n",
       "    <tr>\n",
       "      <th>19</th>\n",
       "      <td>14.6</td>\n",
       "      <td>14.011896</td>\n",
       "      <td>147.3</td>\n",
       "    </tr>\n",
       "    <tr>\n",
       "      <th>114</th>\n",
       "      <td>14.6</td>\n",
       "      <td>10.686663</td>\n",
       "      <td>78.2</td>\n",
       "    </tr>\n",
       "    <tr>\n",
       "      <th>39</th>\n",
       "      <td>21.5</td>\n",
       "      <td>17.895345</td>\n",
       "      <td>228.0</td>\n",
       "    </tr>\n",
       "    <tr>\n",
       "      <th>185</th>\n",
       "      <td>22.6</td>\n",
       "      <td>16.788538</td>\n",
       "      <td>205.0</td>\n",
       "    </tr>\n",
       "    <tr>\n",
       "      <th>124</th>\n",
       "      <td>19.7</td>\n",
       "      <td>17.967528</td>\n",
       "      <td>229.5</td>\n",
       "    </tr>\n",
       "    <tr>\n",
       "      <th>98</th>\n",
       "      <td>25.4</td>\n",
       "      <td>20.864475</td>\n",
       "      <td>289.7</td>\n",
       "    </tr>\n",
       "    <tr>\n",
       "      <th>123</th>\n",
       "      <td>15.2</td>\n",
       "      <td>12.847343</td>\n",
       "      <td>123.1</td>\n",
       "    </tr>\n",
       "    <tr>\n",
       "      <th>119</th>\n",
       "      <td>6.6</td>\n",
       "      <td>7.857087</td>\n",
       "      <td>19.4</td>\n",
       "    </tr>\n",
       "    <tr>\n",
       "      <th>53</th>\n",
       "      <td>21.2</td>\n",
       "      <td>15.710604</td>\n",
       "      <td>182.6</td>\n",
       "    </tr>\n",
       "    <tr>\n",
       "      <th>33</th>\n",
       "      <td>17.4</td>\n",
       "      <td>19.704734</td>\n",
       "      <td>265.6</td>\n",
       "    </tr>\n",
       "    <tr>\n",
       "      <th>179</th>\n",
       "      <td>12.6</td>\n",
       "      <td>14.892530</td>\n",
       "      <td>165.6</td>\n",
       "    </tr>\n",
       "    <tr>\n",
       "      <th>181</th>\n",
       "      <td>12.2</td>\n",
       "      <td>17.438186</td>\n",
       "      <td>218.5</td>\n",
       "    </tr>\n",
       "    <tr>\n",
       "      <th>106</th>\n",
       "      <td>7.2</td>\n",
       "      <td>8.126571</td>\n",
       "      <td>25.0</td>\n",
       "    </tr>\n",
       "    <tr>\n",
       "      <th>199</th>\n",
       "      <td>13.4</td>\n",
       "      <td>18.092645</td>\n",
       "      <td>232.1</td>\n",
       "    </tr>\n",
       "    <tr>\n",
       "      <th>138</th>\n",
       "      <td>9.6</td>\n",
       "      <td>8.992767</td>\n",
       "      <td>43.0</td>\n",
       "    </tr>\n",
       "  </tbody>\n",
       "</table>\n",
       "</div>"
      ],
      "text/plain": [
       "     Y_test  Y_predict     TV\n",
       "58     23.8  17.067646  210.8\n",
       "40     16.6  16.668233  202.5\n",
       "34      9.5  11.528799   95.7\n",
       "102    14.8  20.407316  280.2\n",
       "184    17.6  19.136894  253.8\n",
       "198    25.5  20.570931  283.6\n",
       "95     16.9  14.781849  163.3\n",
       "4      12.9  15.623985  180.8\n",
       "29     10.5  10.320936   70.6\n",
       "168    17.1  17.289007  215.4\n",
       "171    14.5  14.839595  164.5\n",
       "18     11.3  10.253565   69.2\n",
       "11     17.4  17.255322  214.7\n",
       "89     16.7  12.207320  109.8\n",
       "110    13.4  17.789477  225.8\n",
       "118    15.9  12.972460  125.7\n",
       "159    12.9  13.261192  131.7\n",
       "35     12.8  20.912597  290.7\n",
       "136     9.5   8.155444   25.6\n",
       "59     18.4  17.062834  210.7\n",
       "51     10.7  11.754973  100.4\n",
       "16     12.5  10.186194   67.8\n",
       "44      8.5   8.131383   25.1\n",
       "94     11.5  12.091827  107.4\n",
       "31     11.9  12.356498  112.9\n",
       "162    14.9  15.989712  188.4\n",
       "38     10.1   8.997580   43.1\n",
       "28     18.9  18.896283  248.8\n",
       "193    19.6  14.950276  166.8\n",
       "27     15.9  18.477622  240.1\n",
       "47     23.2  18.467997  239.9\n",
       "165    11.9  18.208138  234.5\n",
       "194    17.3  14.127389  149.7\n",
       "177    11.7  15.113891  170.2\n",
       "176    20.2  18.877035  248.4\n",
       "97     15.5  15.821285  184.9\n",
       "174    11.5  17.625862  222.4\n",
       "73     11.0  13.150512  129.4\n",
       "69     22.3  17.356378  216.8\n",
       "172     7.6   7.866712   19.6\n",
       "108     5.3   7.553918   13.1\n",
       "107     8.7  11.273752   90.4\n",
       "189     6.7   7.823402   18.7\n",
       "14     19.0  16.745228  204.1\n",
       "56      5.5   7.274810    7.3\n",
       "19     14.6  14.011896  147.3\n",
       "114    14.6  10.686663   78.2\n",
       "39     21.5  17.895345  228.0\n",
       "185    22.6  16.788538  205.0\n",
       "124    19.7  17.967528  229.5\n",
       "98     25.4  20.864475  289.7\n",
       "123    15.2  12.847343  123.1\n",
       "119     6.6   7.857087   19.4\n",
       "53     21.2  15.710604  182.6\n",
       "33     17.4  19.704734  265.6\n",
       "179    12.6  14.892530  165.6\n",
       "181    12.2  17.438186  218.5\n",
       "106     7.2   8.126571   25.0\n",
       "199    13.4  18.092645  232.1\n",
       "138     9.6   8.992767   43.0"
      ]
     },
     "execution_count": 34,
     "metadata": {},
     "output_type": "execute_result"
    }
   ],
   "source": [
    "df1[\"TV\"]=X_test\n",
    "df1       # ( Y_pred = m * X_test + b )"
   ]
  },
  {
   "cell_type": "markdown",
   "id": "f5aef570",
   "metadata": {},
   "source": [
    "## Modeling with input : radio and output : sales"
   ]
  },
  {
   "cell_type": "code",
   "execution_count": 35,
   "id": "a470aaff",
   "metadata": {},
   "outputs": [],
   "source": [
    "# Simple Linear Regression (SLR) : Only one input\n",
    "# Select input and output from dataset\n",
    "X = df[[\"radio\"]]   # Independent variable (input) always input 2D array\n",
    "Y = df['sales']  # Depedent Variable (Output) means target variable which want to predict"
   ]
  },
  {
   "cell_type": "code",
   "execution_count": 36,
   "id": "fd481093",
   "metadata": {},
   "outputs": [],
   "source": [
    "# Create an Object of train_test_split\n",
    "X_train,X_test,Y_train,Y_test=train_test_split(X,Y,test_size = 0.3,random_state=1)"
   ]
  },
  {
   "cell_type": "markdown",
   "id": "ece1deaa",
   "metadata": {},
   "source": [
    "### Train the model : use fit() inbuilt method of LinearRegression class"
   ]
  },
  {
   "cell_type": "code",
   "execution_count": 37,
   "id": "cec4ebac",
   "metadata": {},
   "outputs": [],
   "source": [
    "# Train the model\n",
    "# Create Object of LinearRegression Class\n",
    "lr1 = LinearRegression()"
   ]
  },
  {
   "cell_type": "code",
   "execution_count": 38,
   "id": "c7423182",
   "metadata": {},
   "outputs": [
    {
     "data": {
      "text/plain": [
       "LinearRegression()"
      ]
     },
     "execution_count": 38,
     "metadata": {},
     "output_type": "execute_result"
    }
   ],
   "source": [
    "# Train the model\n",
    "lr1.fit(X_train,Y_train)"
   ]
  },
  {
   "cell_type": "code",
   "execution_count": 39,
   "id": "0d2a4258",
   "metadata": {},
   "outputs": [],
   "source": [
    "# Testing the model\n",
    "Y_pred = lr1.predict(X_test)"
   ]
  },
  {
   "cell_type": "code",
   "execution_count": 40,
   "id": "e42a3d37",
   "metadata": {},
   "outputs": [
    {
     "data": {
      "image/png": "[encoded data removed]",
      "text/plain": [
       "<Figure size 432x288 with 1 Axes>"
      ]
     },
     "metadata": {
      "needs_background": "light"
     },
     "output_type": "display_data"
    }
   ],
   "source": [
    "sns.scatterplot(data=df,x=\"radio\",y=\"sales\")\n",
    "plt.plot(X_test,Y_pred,color='red')\n",
    "plt.show()"
   ]
  },
  {
   "cell_type": "code",
   "execution_count": 41,
   "id": "7b8fa4b9",
   "metadata": {},
   "outputs": [
    {
     "name": "stdout",
     "output_type": "stream",
     "text": [
      "Slope :  [0.1874808]\n",
      "Intercept :  9.440936561425886\n"
     ]
    }
   ],
   "source": [
    "print(\"Slope : \",lr1.coef_)\n",
    "print(\"Intercept : \",lr1.intercept_)"
   ]
  },
  {
   "cell_type": "code",
   "execution_count": 42,
   "id": "cf81a8f8",
   "metadata": {},
   "outputs": [
    {
     "data": {
      "text/plain": [
       "14.604130559272193"
      ]
     },
     "execution_count": 42,
     "metadata": {},
     "output_type": "execute_result"
    }
   ],
   "source": [
    "# Show mean_squared_Error\n",
    "mean_squared_error(Y_test,Y_pred) # Formula sum(Y - Y_PREDICATED) ^ 2/N"
   ]
  },
  {
   "cell_type": "code",
   "execution_count": 43,
   "id": "cfca18f7",
   "metadata": {},
   "outputs": [
    {
     "data": {
      "text/plain": [
       "0.41293932917162335"
      ]
     },
     "execution_count": 43,
     "metadata": {},
     "output_type": "execute_result"
    }
   ],
   "source": [
    "r2_score(Y_test,Y_pred)"
   ]
  },
  {
   "cell_type": "markdown",
   "id": "00cf8bc0",
   "metadata": {},
   "source": [
    "## Modeling with input : newspaper and output : sales"
   ]
  },
  {
   "cell_type": "code",
   "execution_count": 44,
   "id": "299b2d34",
   "metadata": {},
   "outputs": [],
   "source": [
    "# Simple Linear Regression (SLR) : Only one input\n",
    "# Select input and output from dataset\n",
    "X = df[[\"newspaper\"]]   # Independent variable (input) always input 2D array\n",
    "Y = df['sales']  # Depedent Variable (Output) means target variable which want to predict"
   ]
  },
  {
   "cell_type": "code",
   "execution_count": 45,
   "id": "20eb27e8",
   "metadata": {},
   "outputs": [],
   "source": [
    "# Create an Object of train_test_split\n",
    "X_train,X_test,Y_train,Y_test=train_test_split(X,Y,test_size = 0.3,random_state=1)"
   ]
  },
  {
   "cell_type": "markdown",
   "id": "9e97479a",
   "metadata": {},
   "source": [
    "### Train the model : use fit() inbuilt method of LinearRegression class"
   ]
  },
  {
   "cell_type": "code",
   "execution_count": 46,
   "id": "ea1d5421",
   "metadata": {},
   "outputs": [],
   "source": [
    "# Train the model\n",
    "# Create Object of LinearRegression Class\n",
    "lr2 = LinearRegression()"
   ]
  },
  {
   "cell_type": "code",
   "execution_count": 47,
   "id": "f31212f0",
   "metadata": {},
   "outputs": [
    {
     "data": {
      "text/plain": [
       "LinearRegression()"
      ]
     },
     "execution_count": 47,
     "metadata": {},
     "output_type": "execute_result"
    }
   ],
   "source": [
    "# Train the model\n",
    "lr2.fit(X_train,Y_train)"
   ]
  },
  {
   "cell_type": "code",
   "execution_count": 48,
   "id": "6460300a",
   "metadata": {},
   "outputs": [],
   "source": [
    "# Testing the model\n",
    "Y_pred = lr2.predict(X_test)"
   ]
  },
  {
   "cell_type": "code",
   "execution_count": 49,
   "id": "65407d22",
   "metadata": {},
   "outputs": [
    {
     "data": {
      "image/png": "[encoded data removed]",
      "text/plain": [
       "<Figure size 432x288 with 1 Axes>"
      ]
     },
     "metadata": {
      "needs_background": "light"
     },
     "output_type": "display_data"
    }
   ],
   "source": [
    "sns.scatterplot(data=df,x=\"newspaper\",y=\"sales\")\n",
    "plt.plot(X_test,Y_pred,color='red')\n",
    "plt.show()"
   ]
  },
  {
   "cell_type": "code",
   "execution_count": 50,
   "id": "cb072a79",
   "metadata": {},
   "outputs": [
    {
     "name": "stdout",
     "output_type": "stream",
     "text": [
      "Slope :  [0.06532045]\n",
      "Intercept :  11.829668884877877\n"
     ]
    }
   ],
   "source": [
    "print(\"Slope : \",lr2.coef_)\n",
    "print(\"Intercept : \",lr2.intercept_)"
   ]
  },
  {
   "cell_type": "code",
   "execution_count": 51,
   "id": "52d609e7",
   "metadata": {},
   "outputs": [
    {
     "data": {
      "text/plain": [
       "25.49745237441493"
      ]
     },
     "execution_count": 51,
     "metadata": {},
     "output_type": "execute_result"
    }
   ],
   "source": [
    "# Show mean_squared_Error\n",
    "mean_squared_error(Y_test,Y_pred) # Formula sum(Y - Y_PREDICATED) ^ 2/N"
   ]
  },
  {
   "cell_type": "code",
   "execution_count": 52,
   "id": "99c384fc",
   "metadata": {},
   "outputs": [
    {
     "data": {
      "text/plain": [
       "-0.024953278429509007"
      ]
     },
     "execution_count": 52,
     "metadata": {},
     "output_type": "execute_result"
    }
   ],
   "source": [
    "r2_score(Y_test,Y_pred)"
   ]
  },
  {
   "cell_type": "markdown",
   "id": "09dce053",
   "metadata": {},
   "source": [
    "### slope of TV : 0.04812204  and MSE of TV  :  10.571057434656955 r2-score=0.578\n",
    "### slope of radio :0.1874808 and MSE of radio : 14.604130559272193 r2-score=0.41\n",
    "### slope of newspaper : 0.06532045 and MSE of newspaper :25.49745237441493 r2=-0.02"
   ]
  },
  {
   "cell_type": "raw",
   "id": "a4cb4d31",
   "metadata": {},
   "source": []
  },
  {
   "cell_type": "markdown",
   "id": "852789f4",
   "metadata": {},
   "source": [
    "## Multiple Linear Regression (MLR) : Many input and one Output\n",
    "\n",
    "## Equation of MLR : Y_pred = m1X1 + m2X2 +m3X3 + b"
   ]
  },
  {
   "cell_type": "code",
   "execution_count": 53,
   "id": "8356bc22",
   "metadata": {},
   "outputs": [],
   "source": [
    "# Select input and output from dataset : df\n",
    "X=df[[\"TV\",\"radio\",\"newspaper\"]] # Output features always 2D\n",
    "Y=df[\"sales\"] # Target variable means output : 1D"
   ]
  },
  {
   "cell_type": "code",
   "execution_count": 54,
   "id": "633d29ea",
   "metadata": {},
   "outputs": [],
   "source": [
    "# Create an Object of train_test_split\n",
    "X_train,X_test,Y_train,Y_test=train_test_split(X,Y,test_size = 0.3,random_state=1)"
   ]
  },
  {
   "cell_type": "code",
   "execution_count": 55,
   "id": "6b788866",
   "metadata": {},
   "outputs": [
    {
     "data": {
      "text/plain": [
       "(140, 3)"
      ]
     },
     "execution_count": 55,
     "metadata": {},
     "output_type": "execute_result"
    }
   ],
   "source": [
    "X_train.shape"
   ]
  },
  {
   "cell_type": "code",
   "execution_count": 56,
   "id": "d420120e",
   "metadata": {},
   "outputs": [],
   "source": [
    "# Create Object of LinearRegression class\n",
    "lr3 = LinearRegression()"
   ]
  },
  {
   "cell_type": "code",
   "execution_count": 57,
   "id": "049bb6a6",
   "metadata": {},
   "outputs": [
    {
     "data": {
      "text/plain": [
       "LinearRegression()"
      ]
     },
     "execution_count": 57,
     "metadata": {},
     "output_type": "execute_result"
    }
   ],
   "source": [
    "# Train the model\n",
    "lr3.fit(X_train,Y_train)"
   ]
  },
  {
   "cell_type": "code",
   "execution_count": 58,
   "id": "e6ee9d8d",
   "metadata": {},
   "outputs": [],
   "source": [
    "# Testing the model\n",
    "Y_pred = lr3.predict(X_test)"
   ]
  },
  {
   "cell_type": "code",
   "execution_count": 59,
   "id": "10685493",
   "metadata": {},
   "outputs": [
    {
     "name": "stdout",
     "output_type": "stream",
     "text": [
      "Coefficent / Slope :   [0.04695205 0.17658644 0.00185115]\n",
      "Intercept :  2.9372157346906107\n"
     ]
    }
   ],
   "source": [
    "# To show coefficent , slope and intercept\n",
    "print(\"Coefficent / Slope :  \",lr3.coef_)\n",
    "print(\"Intercept : \",lr3.intercept_)"
   ]
  },
  {
   "cell_type": "code",
   "execution_count": 60,
   "id": "d3fcaf12",
   "metadata": {},
   "outputs": [
    {
     "data": {
      "text/plain": [
       "1.9289249074665724"
      ]
     },
     "execution_count": 60,
     "metadata": {},
     "output_type": "execute_result"
    }
   ],
   "source": [
    "# Show mean_squared_Error\n",
    "mean_squared_error(Y_test,Y_pred) # Formula sum(Y - Y_PREDICATED) ^ 2/N"
   ]
  },
  {
   "cell_type": "code",
   "execution_count": 61,
   "id": "565d3293",
   "metadata": {},
   "outputs": [
    {
     "data": {
      "text/plain": [
       "0.9224605706201435"
      ]
     },
     "execution_count": 61,
     "metadata": {},
     "output_type": "execute_result"
    }
   ],
   "source": [
    "r2_score(Y_test,Y_pred)"
   ]
  },
  {
   "cell_type": "markdown",
   "id": "de25c976",
   "metadata": {},
   "source": [
    "### here r2-score is best because nearest to +1 and MSE is very low means \n",
    "### we create a successful model"
   ]
  },
  {
   "cell_type": "markdown",
   "id": "010efd48",
   "metadata": {},
   "source": [
    "# But \n",
    "### Assumptions of Linear Regression : -\n",
    "        1. should not be Multicolinearity in linear regression  \n",
    "           Solve this assumption .means we removed the Multicolinearity situation\n",
    "        2. Assumption :  Linear relationship means There should be a linear relation\n",
    "           ship. \n",
    "           when does linear regression  do best work ? \n",
    "           where got better relationship \n",
    " \n",
    "     we cannot see 3D graph on system so we have some hack(trick) , how to \n",
    "     check input and output both are related or not\n",
    "     we calculate the residual (this is error means Residual =(actual output-predicted output)"
   ]
  },
  {
   "cell_type": "code",
   "execution_count": 62,
   "id": "c9e87816",
   "metadata": {},
   "outputs": [
    {
     "data": {
      "image/png": "[encoded data removed]",
      "text/plain": [
       "<Figure size 432x288 with 2 Axes>"
      ]
     },
     "metadata": {
      "needs_background": "light"
     },
     "output_type": "display_data"
    }
   ],
   "source": [
    "# Check Multicolinarity\n",
    "# Visaulise corr() value\n",
    "sns.heatmap(df.corr(),annot=True)\n",
    "plt.show()"
   ]
  },
  {
   "cell_type": "markdown",
   "id": "e1c5ae57",
   "metadata": {},
   "source": [
    "##### here input radio and newspaper both are corelated each other value of corr \n",
    "##### between radio and newspaper =0.35 means multicolinearity situation occurs\n",
    "##### so check corr of both input radio and newspapaer with o/p and remove those \n",
    "##### input column whose corr value with o/p will be less \n",
    "##### here newspaper is less correlated with o/p sales as compared to radio with\n",
    "##### sales so remove newspaper from dataset \n",
    "##### prform TV and radio with sales"
   ]
  },
  {
   "cell_type": "code",
   "execution_count": 63,
   "id": "0e328034",
   "metadata": {},
   "outputs": [],
   "source": [
    "#corr value of radio with sales :  0.58  \n",
    "#corr value of newspaper with sales : 0.23\n",
    "#corr value of radio and newspaper(both are input and correlated each other:0.35\n",
    "#so we decided , remove newspaper because corr of radio with sales>newspaper \n",
    "#with sales\n",
    "#We have input TV and radio and target sales\n",
    "X=df[[\"TV\",\"radio\"]] #input TV and radio : 2D array\n",
    "Y=df[\"sales\"] #output which want to predict : always 1 D array"
   ]
  },
  {
   "cell_type": "code",
   "execution_count": 64,
   "id": "15ac2d82",
   "metadata": {},
   "outputs": [],
   "source": [
    "# Create an Object of train_test_split\n",
    "X_train,X_test,Y_train,Y_test=train_test_split(X,Y,test_size = 0.3,random_state=1)"
   ]
  },
  {
   "cell_type": "code",
   "execution_count": 65,
   "id": "52b3ab06",
   "metadata": {},
   "outputs": [
    {
     "data": {
      "text/html": [
       "<div>\n",
       "<style scoped>\n",
       "    .dataframe tbody tr th:only-of-type {\n",
       "        vertical-align: middle;\n",
       "    }\n",
       "\n",
       "    .dataframe tbody tr th {\n",
       "        vertical-align: top;\n",
       "    }\n",
       "\n",
       "    .dataframe thead th {\n",
       "        text-align: right;\n",
       "    }\n",
       "</style>\n",
       "<table border=\"1\" class=\"dataframe\">\n",
       "  <thead>\n",
       "    <tr style=\"text-align: right;\">\n",
       "      <th></th>\n",
       "      <th>TV</th>\n",
       "      <th>radio</th>\n",
       "    </tr>\n",
       "  </thead>\n",
       "  <tbody>\n",
       "    <tr>\n",
       "      <th>116</th>\n",
       "      <td>139.2</td>\n",
       "      <td>14.3</td>\n",
       "    </tr>\n",
       "    <tr>\n",
       "      <th>67</th>\n",
       "      <td>139.3</td>\n",
       "      <td>14.5</td>\n",
       "    </tr>\n",
       "    <tr>\n",
       "      <th>78</th>\n",
       "      <td>5.4</td>\n",
       "      <td>29.9</td>\n",
       "    </tr>\n",
       "    <tr>\n",
       "      <th>42</th>\n",
       "      <td>293.6</td>\n",
       "      <td>27.7</td>\n",
       "    </tr>\n",
       "    <tr>\n",
       "      <th>17</th>\n",
       "      <td>281.4</td>\n",
       "      <td>39.6</td>\n",
       "    </tr>\n",
       "  </tbody>\n",
       "</table>\n",
       "</div>"
      ],
      "text/plain": [
       "        TV  radio\n",
       "116  139.2   14.3\n",
       "67   139.3   14.5\n",
       "78     5.4   29.9\n",
       "42   293.6   27.7\n",
       "17   281.4   39.6"
      ]
     },
     "execution_count": 65,
     "metadata": {},
     "output_type": "execute_result"
    }
   ],
   "source": [
    "X_train.head(5)"
   ]
  },
  {
   "cell_type": "code",
   "execution_count": 66,
   "id": "9fbbde4f",
   "metadata": {},
   "outputs": [
    {
     "data": {
      "text/html": [
       "<div>\n",
       "<style scoped>\n",
       "    .dataframe tbody tr th:only-of-type {\n",
       "        vertical-align: middle;\n",
       "    }\n",
       "\n",
       "    .dataframe tbody tr th {\n",
       "        vertical-align: top;\n",
       "    }\n",
       "\n",
       "    .dataframe thead th {\n",
       "        text-align: right;\n",
       "    }\n",
       "</style>\n",
       "<table border=\"1\" class=\"dataframe\">\n",
       "  <thead>\n",
       "    <tr style=\"text-align: right;\">\n",
       "      <th></th>\n",
       "      <th>TV</th>\n",
       "      <th>radio</th>\n",
       "    </tr>\n",
       "  </thead>\n",
       "  <tbody>\n",
       "    <tr>\n",
       "      <th>58</th>\n",
       "      <td>210.8</td>\n",
       "      <td>49.6</td>\n",
       "    </tr>\n",
       "    <tr>\n",
       "      <th>40</th>\n",
       "      <td>202.5</td>\n",
       "      <td>22.3</td>\n",
       "    </tr>\n",
       "    <tr>\n",
       "      <th>34</th>\n",
       "      <td>95.7</td>\n",
       "      <td>1.4</td>\n",
       "    </tr>\n",
       "    <tr>\n",
       "      <th>102</th>\n",
       "      <td>280.2</td>\n",
       "      <td>10.1</td>\n",
       "    </tr>\n",
       "    <tr>\n",
       "      <th>184</th>\n",
       "      <td>253.8</td>\n",
       "      <td>21.3</td>\n",
       "    </tr>\n",
       "  </tbody>\n",
       "</table>\n",
       "</div>"
      ],
      "text/plain": [
       "        TV  radio\n",
       "58   210.8   49.6\n",
       "40   202.5   22.3\n",
       "34    95.7    1.4\n",
       "102  280.2   10.1\n",
       "184  253.8   21.3"
      ]
     },
     "execution_count": 66,
     "metadata": {},
     "output_type": "execute_result"
    }
   ],
   "source": [
    "X_test.head(5)"
   ]
  },
  {
   "cell_type": "code",
   "execution_count": 67,
   "id": "b6d35b69",
   "metadata": {},
   "outputs": [
    {
     "data": {
      "text/plain": [
       "116    12.2\n",
       "67     13.4\n",
       "78      5.3\n",
       "42     20.7\n",
       "17     24.4\n",
       "Name: sales, dtype: float64"
      ]
     },
     "execution_count": 67,
     "metadata": {},
     "output_type": "execute_result"
    }
   ],
   "source": [
    "Y_train.head(5)"
   ]
  },
  {
   "cell_type": "code",
   "execution_count": 68,
   "id": "4a070fd2",
   "metadata": {},
   "outputs": [
    {
     "data": {
      "text/plain": [
       "58     23.8\n",
       "40     16.6\n",
       "34      9.5\n",
       "102    14.8\n",
       "184    17.6\n",
       "Name: sales, dtype: float64"
      ]
     },
     "execution_count": 68,
     "metadata": {},
     "output_type": "execute_result"
    }
   ],
   "source": [
    "Y_test.head(5)"
   ]
  },
  {
   "cell_type": "code",
   "execution_count": 69,
   "id": "5909784e",
   "metadata": {},
   "outputs": [],
   "source": [
    "# Create Object of LinearRegression class\n",
    "lr4 = LinearRegression()"
   ]
  },
  {
   "cell_type": "code",
   "execution_count": 70,
   "id": "5a37475a",
   "metadata": {},
   "outputs": [
    {
     "data": {
      "text/plain": [
       "LinearRegression()"
      ]
     },
     "execution_count": 70,
     "metadata": {},
     "output_type": "execute_result"
    }
   ],
   "source": [
    "# Train the model\n",
    "lr4.fit(X_train,Y_train)"
   ]
  },
  {
   "cell_type": "code",
   "execution_count": 71,
   "id": "97be5910",
   "metadata": {},
   "outputs": [],
   "source": [
    "# Testing the model\n",
    "Y_pred = lr4.predict(X_test)"
   ]
  },
  {
   "cell_type": "code",
   "execution_count": 72,
   "id": "2600b352",
   "metadata": {},
   "outputs": [
    {
     "data": {
      "text/plain": [
       "array([0.04697554, 0.17765046])"
      ]
     },
     "execution_count": 72,
     "metadata": {},
     "output_type": "execute_result"
    }
   ],
   "source": [
    "lr4.coef_"
   ]
  },
  {
   "cell_type": "code",
   "execution_count": 73,
   "id": "482fe9e8",
   "metadata": {},
   "outputs": [
    {
     "data": {
      "text/plain": [
       "2.9647671191401574"
      ]
     },
     "execution_count": 73,
     "metadata": {},
     "output_type": "execute_result"
    }
   ],
   "source": [
    "lr4.intercept_"
   ]
  },
  {
   "cell_type": "code",
   "execution_count": 74,
   "id": "c6e6af10",
   "metadata": {},
   "outputs": [
    {
     "data": {
      "text/plain": [
       "1.9147050289721788"
      ]
     },
     "execution_count": 74,
     "metadata": {},
     "output_type": "execute_result"
    }
   ],
   "source": [
    "# Show mean_squared_Error\n",
    "mean_squared_error(Y_test,Y_pred) # Formula sum(Y - Y_PREDICATED) ^ 2/N"
   ]
  },
  {
   "cell_type": "code",
   "execution_count": 75,
   "id": "81aed16f",
   "metadata": {},
   "outputs": [
    {
     "data": {
      "text/plain": [
       "0.9230321850256801"
      ]
     },
     "execution_count": 75,
     "metadata": {},
     "output_type": "execute_result"
    }
   ],
   "source": [
    "r2_score(Y_test,Y_pred)"
   ]
  },
  {
   "cell_type": "code",
   "execution_count": 76,
   "id": "1071b33c",
   "metadata": {},
   "outputs": [],
   "source": [
    "#1. Assumption of Linear Regression \n",
    "#2. there should be a linear relationship\n",
    "#3. Assumption: if occur linear relation then next check relation is homoskedatik not a heteroskedastik\n",
    "#4. Assumption of linear regression : - Residuals should be normally distributed\n",
    "#  curve means data should be euqally divide on both sides."
   ]
  },
  {
   "cell_type": "code",
   "execution_count": 77,
   "id": "736957e4",
   "metadata": {},
   "outputs": [
    {
     "name": "stdout",
     "output_type": "stream",
     "text": [
      "58     2.121325\n",
      "40     0.161080\n",
      "34     1.790963\n",
      "102   -3.121584\n",
      "184   -1.071115\n",
      "198    1.751649\n",
      "95     0.650372\n",
      "4     -0.476570\n",
      "29     1.376352\n",
      "168   -0.175850\n",
      "171    0.094861\n",
      "18     1.442691\n",
      "11     0.085973\n",
      "89     0.085626\n",
      "110   -1.628579\n",
      "118    0.475105\n",
      "159    0.479785\n",
      "35    -4.548925\n",
      "136   -1.595709\n",
      "59     0.296797\n",
      "51     1.313444\n",
      "16    -0.151716\n",
      "44    -0.209470\n",
      "94     1.002953\n",
      "31     0.540576\n",
      "162   -0.130433\n",
      "38     0.367320\n",
      "28    -0.566610\n",
      "193    1.338393\n",
      "27    -1.310358\n",
      "47     1.593306\n",
      "165   -2.684544\n",
      "194    0.978638\n",
      "177   -0.645678\n",
      "176    0.201464\n",
      "97     0.118795\n",
      "174   -2.516140\n",
      "73     0.943990\n",
      "69     1.352080\n",
      "172    0.143738\n",
      "108    1.648793\n",
      "107    1.435349\n",
      "189    0.707220\n",
      "14     0.602824\n",
      "56    -2.799666\n",
      "19     0.469889\n",
      "114   -0.352296\n",
      "39     1.127387\n",
      "185    1.993211\n",
      "124    0.216236\n",
      "98     1.311803\n",
      "123    0.305838\n",
      "119   -0.118500\n",
      "53     1.450047\n",
      "33    -1.594481\n",
      "179    0.079578\n",
      "181   -1.988236\n",
      "106    1.106689\n",
      "199   -1.995585\n",
      "138    0.014138\n",
      "Name: sales, dtype: float64\n"
     ]
    }
   ],
   "source": [
    "# Trciks \n",
    "# Find the residuals\n",
    "residuals = Y_test - Y_pred\n",
    "print(residuals)"
   ]
  },
  {
   "cell_type": "code",
   "execution_count": 78,
   "id": "aaba5c4c",
   "metadata": {},
   "outputs": [
    {
     "data": {
      "image/png": "[encoded data removed]",
      "text/plain": [
       "<Figure size 432x288 with 1 Axes>"
      ]
     },
     "metadata": {
      "needs_background": "light"
     },
     "output_type": "display_data"
    }
   ],
   "source": [
    "plt.figure()\n",
    "sns.scatterplot(Y_pred,residuals)\n",
    "plt.show()"
   ]
  },
  {
   "cell_type": "markdown",
   "id": "c0ecd26c",
   "metadata": {},
   "source": [
    "### in above scatterplot, This is not a linear relation between Y_pred and residules means no relation between x=[\"TV\",\"radio\"] with sales o/p means this assumption is not fullfill"
   ]
  },
  {
   "cell_type": "markdown",
   "id": "1d07fd2a",
   "metadata": {},
   "source": [
    "### normal distributed curve then use inbuilt function displot() of seaborn library ,distplot is also known as frequency graph use distplot()"
   ]
  },
  {
   "cell_type": "code",
   "execution_count": 79,
   "id": "14b16acf",
   "metadata": {},
   "outputs": [
    {
     "data": {
      "image/png": "[encoded data removed]",
      "text/plain": [
       "<Figure size 432x288 with 1 Axes>"
      ]
     },
     "metadata": {
      "needs_background": "light"
     },
     "output_type": "display_data"
    }
   ],
   "source": [
    "sns.histplot(residuals)\n",
    "plt.show()"
   ]
  },
  {
   "cell_type": "code",
   "execution_count": 80,
   "id": "09e9a33e",
   "metadata": {},
   "outputs": [
    {
     "data": {
      "text/plain": [
       "-1.093518163944733"
      ]
     },
     "execution_count": 80,
     "metadata": {},
     "output_type": "execute_result"
    }
   ],
   "source": [
    "residuals.skew()"
   ]
  },
  {
   "cell_type": "code",
   "execution_count": 81,
   "id": "0b3dfe67",
   "metadata": {},
   "outputs": [
    {
     "data": {
      "image/png": "[encoded data removed]",
      "text/plain": [
       "<Figure size 432x288 with 1 Axes>"
      ]
     },
     "metadata": {
      "needs_background": "light"
     },
     "output_type": "display_data"
    }
   ],
   "source": [
    "# Displot()\n",
    "sns.distplot(residuals)\n",
    "plt.show()"
   ]
  },
  {
   "cell_type": "markdown",
   "id": "69d153f6",
   "metadata": {},
   "source": [
    "### In above distplot curve , -ve skewness found means no normal distributed curve found means it is a AS-symmetric curve means this assumption is not fullfill"
   ]
  },
  {
   "cell_type": "markdown",
   "id": "f370708c",
   "metadata": {},
   "source": [
    "### here we handled multicolinearity (removed multicolinearity (problem) but not working 3 assumption means no relation relationship means here create a curve relation should be HOMOSKEDAStik : means datapoints are closely each other should not by Heteroskedastic  means should not be scattered if linear relationship occurs no normal distributed curve"
   ]
  },
  {
   "cell_type": "markdown",
   "id": "004b0162",
   "metadata": {},
   "source": [
    "### Increase the degress of X means increase the power of X means independent vairable(input variable) if increasing the degree or power of independent variable then It is called polynomial Linear regression(PLR)"
   ]
  },
  {
   "cell_type": "code",
   "execution_count": 82,
   "id": "cdc2c943",
   "metadata": {},
   "outputs": [],
   "source": [
    "#Input : TV and radio means X1=TV X2=radio  and output Y=sales\n",
    "#increase the degree of input variable=2\n",
    "#equation Y=m1*TV*2+m2*TV+m3*radio*2+m4*radio+b\n",
    "#we work on dataset \n",
    "#apply polynomial linear regression means increase the degree of independent\n",
    "#variable X means degree=2 \n",
    "#equation : ax2+bx+c=0  here 2 inputs ax1*2+bx1+cx2*2+dx2+e\n",
    "#here we have 2 inputs : - X=TV,radio means X1=\"TV\" and X2=\"radio\"\n",
    "#eq. m1*TV*2+m2*TV1+m3*radio2+m4*radio*1+b"
   ]
  },
  {
   "cell_type": "code",
   "execution_count": 83,
   "id": "c5088576",
   "metadata": {},
   "outputs": [],
   "source": [
    "# Take input variable\n",
    "X = df[[\"TV\",\"radio\"]]  # input alway 2D array\n",
    "Y = df[\"sales\"]"
   ]
  },
  {
   "cell_type": "code",
   "execution_count": 84,
   "id": "88eb78a6",
   "metadata": {},
   "outputs": [],
   "source": [
    "# Call the PolynomialFeatures inbuilt class which define in sklearn.preprocessing\n",
    "from sklearn.preprocessing import PolynomialFeatures"
   ]
  },
  {
   "cell_type": "code",
   "execution_count": 85,
   "id": "7578c049",
   "metadata": {},
   "outputs": [],
   "source": [
    "# Create the obejct of polynomialFeatures class and pass the degree of indepedent variable X\n",
    "PF = PolynomialFeatures(3)  # there 2 is a degree of input means Quadratic relation \n",
    "# which degree input X"
   ]
  },
  {
   "cell_type": "code",
   "execution_count": 86,
   "id": "4c013162",
   "metadata": {},
   "outputs": [],
   "source": [
    "# fit_transform() : inbuilt method of polinomialFeature class \n",
    "# We create polynomial version of X so we call fit_transform()\n",
    "x_poly = PF.fit_transform(X)"
   ]
  },
  {
   "cell_type": "code",
   "execution_count": 87,
   "id": "304a8b8c",
   "metadata": {},
   "outputs": [],
   "source": [
    "# Same step apply of LinearRegression\n",
    "# Create an Object of train_test_split\n",
    "X_train,X_test,Y_train,Y_test=train_test_split(x_poly,Y,test_size = 0.3,random_state=1)"
   ]
  },
  {
   "cell_type": "code",
   "execution_count": 88,
   "id": "7b526e8f",
   "metadata": {},
   "outputs": [],
   "source": [
    "# Create the obejct of LinearRegression\n",
    "lr5 = LinearRegression()"
   ]
  },
  {
   "cell_type": "code",
   "execution_count": 89,
   "id": "beb3a819",
   "metadata": {},
   "outputs": [
    {
     "data": {
      "text/plain": [
       "LinearRegression()"
      ]
     },
     "execution_count": 89,
     "metadata": {},
     "output_type": "execute_result"
    }
   ],
   "source": [
    "# Train the data using fit()\n",
    "lr5.fit(X_train,Y_train)"
   ]
  },
  {
   "cell_type": "code",
   "execution_count": 90,
   "id": "a9fd1014",
   "metadata": {},
   "outputs": [],
   "source": [
    "# We testing model \n",
    "Y_pred = lr5.predict(X_test)"
   ]
  },
  {
   "cell_type": "code",
   "execution_count": 91,
   "id": "a2597a35",
   "metadata": {},
   "outputs": [
    {
     "data": {
      "text/plain": [
       "0.1446907864680823"
      ]
     },
     "execution_count": 91,
     "metadata": {},
     "output_type": "execute_result"
    }
   ],
   "source": [
    "# Show mean_squared_Error\n",
    "mean_squared_error(Y_test,Y_pred)"
   ]
  },
  {
   "cell_type": "code",
   "execution_count": 92,
   "id": "8fad8f57",
   "metadata": {},
   "outputs": [
    {
     "data": {
      "text/plain": [
       "0.9941836818137244"
      ]
     },
     "execution_count": 92,
     "metadata": {},
     "output_type": "execute_result"
    }
   ],
   "source": [
    "r2_score(Y_test,Y_pred)"
   ]
  },
  {
   "cell_type": "code",
   "execution_count": 93,
   "id": "7e88b6f1",
   "metadata": {},
   "outputs": [
    {
     "name": "stdout",
     "output_type": "stream",
     "text": [
      "58    -0.041888\n",
      "40     0.445638\n",
      "34    -0.093118\n",
      "102   -0.065757\n",
      "184    0.179460\n",
      "198    0.027800\n",
      "95    -0.197140\n",
      "4     -0.023023\n",
      "29     0.143746\n",
      "168    0.245208\n",
      "171   -0.308870\n",
      "18     0.530108\n",
      "11     0.459830\n",
      "89    -0.871036\n",
      "110    0.445780\n",
      "118   -0.579427\n",
      "159   -0.447708\n",
      "35    -0.460786\n",
      "136    0.856041\n",
      "59     0.131923\n",
      "51    -0.196747\n",
      "16    -0.069882\n",
      "44     0.875771\n",
      "94    -0.292173\n",
      "31    -0.623031\n",
      "162    0.126614\n",
      "38     0.692022\n",
      "28    -0.064441\n",
      "193   -0.038868\n",
      "27     0.253143\n",
      "47     0.308808\n",
      "165    0.158161\n",
      "194   -0.097822\n",
      "177   -0.394323\n",
      "176    0.327206\n",
      "97     0.126910\n",
      "174   -0.092242\n",
      "73    -0.037799\n",
      "69    -0.187360\n",
      "172    0.851225\n",
      "108   -0.000472\n",
      "107   -0.596018\n",
      "189    0.426741\n",
      "14     0.072516\n",
      "56    -0.279619\n",
      "19    -0.302362\n",
      "114   -0.303319\n",
      "39     0.288186\n",
      "185    0.338592\n",
      "124   -0.026599\n",
      "98    -0.569396\n",
      "123   -0.710938\n",
      "119    0.076575\n",
      "53    -0.262732\n",
      "33    -0.056169\n",
      "179    0.097471\n",
      "181    0.111519\n",
      "106    0.433444\n",
      "199    0.226478\n",
      "138    0.269316\n",
      "Name: sales, dtype: float64\n"
     ]
    }
   ],
   "source": [
    "# Trciks \n",
    "# Find the residuals\n",
    "residuals = Y_test - Y_pred\n",
    "print(residuals)"
   ]
  },
  {
   "cell_type": "code",
   "execution_count": 98,
   "id": "2daa8c22",
   "metadata": {},
   "outputs": [
    {
     "data": {
      "image/png": "[encoded data removed]",
      "text/plain": [
       "<Figure size 432x288 with 1 Axes>"
      ]
     },
     "metadata": {
      "needs_background": "light"
     },
     "output_type": "display_data"
    }
   ],
   "source": [
    "# Check the assumption\n",
    "plt.figure()\n",
    "sns.scatterplot(Y_pred,residuals)\n",
    "plt.show()"
   ]
  },
  {
   "cell_type": "code",
   "execution_count": 95,
   "id": "ccc0ff04",
   "metadata": {},
   "outputs": [
    {
     "data": {
      "image/png": "[encoded data removed]",
      "text/plain": [
       "<Figure size 432x288 with 1 Axes>"
      ]
     },
     "metadata": {
      "needs_background": "light"
     },
     "output_type": "display_data"
    }
   ],
   "source": [
    "sns.histplot(residuals)\n",
    "plt.show()"
   ]
  },
  {
   "cell_type": "code",
   "execution_count": 96,
   "id": "57f948cd",
   "metadata": {},
   "outputs": [
    {
     "data": {
      "image/png": "[encoded data removed]",
      "text/plain": [
       "<Figure size 432x288 with 1 Axes>"
      ]
     },
     "metadata": {
      "needs_background": "light"
     },
     "output_type": "display_data"
    }
   ],
   "source": [
    "# Displot()\n",
    "sns.distplot(residuals)\n",
    "plt.show()"
   ]
  },
  {
   "cell_type": "code",
   "execution_count": 97,
   "id": "241705e5",
   "metadata": {},
   "outputs": [
    {
     "data": {
      "text/plain": [
       "0.07135639589176812"
      ]
     },
     "execution_count": 97,
     "metadata": {},
     "output_type": "execute_result"
    }
   ],
   "source": [
    "residuals.skew()"
   ]
  },
  {
   "cell_type": "code",
   "execution_count": null,
   "id": "6787cd8d",
   "metadata": {},
   "outputs": [],
   "source": []
  }
 ],
 "metadata": {
  "kernelspec": {
   "display_name": "Python 3",
   "language": "python",
   "name": "python3"
  },
  "language_info": {
   "codemirror_mode": {
    "name": "ipython",
    "version": 3
   },
   "file_extension": ".py",
   "mimetype": "text/x-python",
   "name": "python",
   "nbconvert_exporter": "python",
   "pygments_lexer": "ipython3",
   "version": "3.8.8"
  }
 },
 "nbformat": 4,
 "nbformat_minor": 5
}
