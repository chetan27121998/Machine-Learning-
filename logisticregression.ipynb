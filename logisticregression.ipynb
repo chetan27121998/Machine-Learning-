{
 "cells": [
  {
   "cell_type": "markdown",
   "id": "fe051b6b",
   "metadata": {},
   "source": [
    "#### age :                Age of the person\n",
    "#### Workclass :\t         Categorical variable having 8 categories each denoting the type of employment\n",
    "#### fnlwgt :             final weight.\n",
    "#### education :\t         Categorical variable with 16 categories each denoting the qualification of the person.\n",
    "#### education-num :\t     number of years of education\n",
    "#### marital-status :\t Categorical variable with 7 categories\n",
    "#### ccupation :\t     Categorical variable with 14 categories each denoting the type of occupation of the individual\n",
    "#### relationship :\t     Categorical variable with 6 categories.\n",
    "#### race :\t             Categorical variable with 5 categories each denoting the ethnicity of the individual\n",
    "#### sex :\t             Gender of the person\n",
    "#### capital-gain :\t     Continuous\n",
    "#### capital-loss :\t     Continuous\n",
    "#### hours-per-week :\t Working hours per week\n",
    "#### native-country :\t Categorical\n",
    "#### Income :\t         Target variable. 1 indicates >=50k. 0 indicates <50K"
   ]
  },
  {
   "cell_type": "code",
   "execution_count": 1,
   "id": "4c161816",
   "metadata": {},
   "outputs": [],
   "source": [
    "# Basic Library to import \n",
    "import numpy as np\n",
    "import pandas as pd\n",
    "import matplotlib.pyplot as plt\n",
    "import seaborn as sns\n",
    "import warnings\n",
    "warnings.filterwarnings(\"ignore\")"
   ]
  },
  {
   "cell_type": "code",
   "execution_count": 2,
   "id": "873da6fc",
   "metadata": {},
   "outputs": [
    {
     "data": {
      "text/html": [
       "<div>\n",
       "<style scoped>\n",
       "    .dataframe tbody tr th:only-of-type {\n",
       "        vertical-align: middle;\n",
       "    }\n",
       "\n",
       "    .dataframe tbody tr th {\n",
       "        vertical-align: top;\n",
       "    }\n",
       "\n",
       "    .dataframe thead th {\n",
       "        text-align: right;\n",
       "    }\n",
       "</style>\n",
       "<table border=\"1\" class=\"dataframe\">\n",
       "  <thead>\n",
       "    <tr style=\"text-align: right;\">\n",
       "      <th></th>\n",
       "      <th>Unnamed: 0</th>\n",
       "      <th>age</th>\n",
       "      <th>Workclass</th>\n",
       "      <th>fnlwgt</th>\n",
       "      <th>education</th>\n",
       "      <th>education-num</th>\n",
       "      <th>marital-status</th>\n",
       "      <th>occupation</th>\n",
       "      <th>relationship</th>\n",
       "      <th>race</th>\n",
       "      <th>sex</th>\n",
       "      <th>capital-gain</th>\n",
       "      <th>capital-loss</th>\n",
       "      <th>hours-per-week</th>\n",
       "      <th>native-country</th>\n",
       "      <th>Income</th>\n",
       "    </tr>\n",
       "  </thead>\n",
       "  <tbody>\n",
       "    <tr>\n",
       "      <th>0</th>\n",
       "      <td>0</td>\n",
       "      <td>39</td>\n",
       "      <td>State-gov</td>\n",
       "      <td>77516</td>\n",
       "      <td>Bachelors</td>\n",
       "      <td>13</td>\n",
       "      <td>Never-married</td>\n",
       "      <td>Adm-clerical</td>\n",
       "      <td>Not-in-family</td>\n",
       "      <td>White</td>\n",
       "      <td>Male</td>\n",
       "      <td>2174</td>\n",
       "      <td>0</td>\n",
       "      <td>40</td>\n",
       "      <td>United-States</td>\n",
       "      <td>0</td>\n",
       "    </tr>\n",
       "    <tr>\n",
       "      <th>1</th>\n",
       "      <td>1</td>\n",
       "      <td>50</td>\n",
       "      <td>Self-emp-not-inc</td>\n",
       "      <td>83311</td>\n",
       "      <td>Bachelors</td>\n",
       "      <td>13</td>\n",
       "      <td>Married-civ-spouse</td>\n",
       "      <td>Exec-managerial</td>\n",
       "      <td>Husband</td>\n",
       "      <td>White</td>\n",
       "      <td>Male</td>\n",
       "      <td>0</td>\n",
       "      <td>0</td>\n",
       "      <td>13</td>\n",
       "      <td>United-States</td>\n",
       "      <td>0</td>\n",
       "    </tr>\n",
       "    <tr>\n",
       "      <th>2</th>\n",
       "      <td>2</td>\n",
       "      <td>38</td>\n",
       "      <td>Private</td>\n",
       "      <td>215646</td>\n",
       "      <td>HS-grad</td>\n",
       "      <td>9</td>\n",
       "      <td>Divorced</td>\n",
       "      <td>Handlers-cleaners</td>\n",
       "      <td>Not-in-family</td>\n",
       "      <td>White</td>\n",
       "      <td>Male</td>\n",
       "      <td>0</td>\n",
       "      <td>0</td>\n",
       "      <td>40</td>\n",
       "      <td>United-States</td>\n",
       "      <td>0</td>\n",
       "    </tr>\n",
       "    <tr>\n",
       "      <th>3</th>\n",
       "      <td>3</td>\n",
       "      <td>53</td>\n",
       "      <td>Private</td>\n",
       "      <td>234721</td>\n",
       "      <td>11th</td>\n",
       "      <td>7</td>\n",
       "      <td>Married-civ-spouse</td>\n",
       "      <td>Handlers-cleaners</td>\n",
       "      <td>Husband</td>\n",
       "      <td>Black</td>\n",
       "      <td>Male</td>\n",
       "      <td>0</td>\n",
       "      <td>0</td>\n",
       "      <td>40</td>\n",
       "      <td>United-States</td>\n",
       "      <td>0</td>\n",
       "    </tr>\n",
       "    <tr>\n",
       "      <th>4</th>\n",
       "      <td>4</td>\n",
       "      <td>28</td>\n",
       "      <td>Private</td>\n",
       "      <td>338409</td>\n",
       "      <td>Bachelors</td>\n",
       "      <td>13</td>\n",
       "      <td>Married-civ-spouse</td>\n",
       "      <td>Prof-specialty</td>\n",
       "      <td>Wife</td>\n",
       "      <td>Black</td>\n",
       "      <td>Female</td>\n",
       "      <td>0</td>\n",
       "      <td>0</td>\n",
       "      <td>40</td>\n",
       "      <td>Cuba</td>\n",
       "      <td>0</td>\n",
       "    </tr>\n",
       "    <tr>\n",
       "      <th>...</th>\n",
       "      <td>...</td>\n",
       "      <td>...</td>\n",
       "      <td>...</td>\n",
       "      <td>...</td>\n",
       "      <td>...</td>\n",
       "      <td>...</td>\n",
       "      <td>...</td>\n",
       "      <td>...</td>\n",
       "      <td>...</td>\n",
       "      <td>...</td>\n",
       "      <td>...</td>\n",
       "      <td>...</td>\n",
       "      <td>...</td>\n",
       "      <td>...</td>\n",
       "      <td>...</td>\n",
       "      <td>...</td>\n",
       "    </tr>\n",
       "    <tr>\n",
       "      <th>1027</th>\n",
       "      <td>1114</td>\n",
       "      <td>34</td>\n",
       "      <td>Private</td>\n",
       "      <td>290763</td>\n",
       "      <td>HS-grad</td>\n",
       "      <td>9</td>\n",
       "      <td>Divorced</td>\n",
       "      <td>Handlers-cleaners</td>\n",
       "      <td>Own-child</td>\n",
       "      <td>White</td>\n",
       "      <td>Female</td>\n",
       "      <td>0</td>\n",
       "      <td>0</td>\n",
       "      <td>40</td>\n",
       "      <td>United-States</td>\n",
       "      <td>0</td>\n",
       "    </tr>\n",
       "    <tr>\n",
       "      <th>1028</th>\n",
       "      <td>1116</td>\n",
       "      <td>36</td>\n",
       "      <td>Private</td>\n",
       "      <td>51100</td>\n",
       "      <td>Some-college</td>\n",
       "      <td>10</td>\n",
       "      <td>Married-civ-spouse</td>\n",
       "      <td>Craft-repair</td>\n",
       "      <td>Husband</td>\n",
       "      <td>White</td>\n",
       "      <td>Male</td>\n",
       "      <td>0</td>\n",
       "      <td>0</td>\n",
       "      <td>40</td>\n",
       "      <td>United-States</td>\n",
       "      <td>0</td>\n",
       "    </tr>\n",
       "    <tr>\n",
       "      <th>1029</th>\n",
       "      <td>1117</td>\n",
       "      <td>41</td>\n",
       "      <td>Private</td>\n",
       "      <td>227644</td>\n",
       "      <td>HS-grad</td>\n",
       "      <td>9</td>\n",
       "      <td>Married-civ-spouse</td>\n",
       "      <td>Transport-moving</td>\n",
       "      <td>Husband</td>\n",
       "      <td>White</td>\n",
       "      <td>Male</td>\n",
       "      <td>0</td>\n",
       "      <td>0</td>\n",
       "      <td>50</td>\n",
       "      <td>United-States</td>\n",
       "      <td>0</td>\n",
       "    </tr>\n",
       "    <tr>\n",
       "      <th>1030</th>\n",
       "      <td>1118</td>\n",
       "      <td>58</td>\n",
       "      <td>Local-gov</td>\n",
       "      <td>205267</td>\n",
       "      <td>Bachelors</td>\n",
       "      <td>13</td>\n",
       "      <td>Married-civ-spouse</td>\n",
       "      <td>Prof-specialty</td>\n",
       "      <td>Wife</td>\n",
       "      <td>White</td>\n",
       "      <td>Female</td>\n",
       "      <td>0</td>\n",
       "      <td>0</td>\n",
       "      <td>40</td>\n",
       "      <td>United-States</td>\n",
       "      <td>1</td>\n",
       "    </tr>\n",
       "    <tr>\n",
       "      <th>1031</th>\n",
       "      <td>1119</td>\n",
       "      <td>53</td>\n",
       "      <td>Private</td>\n",
       "      <td>288020</td>\n",
       "      <td>Bachelors</td>\n",
       "      <td>13</td>\n",
       "      <td>Married-civ-spouse</td>\n",
       "      <td>Prof-specialty</td>\n",
       "      <td>Husband</td>\n",
       "      <td>Asian-Pac-Islander</td>\n",
       "      <td>Male</td>\n",
       "      <td>0</td>\n",
       "      <td>0</td>\n",
       "      <td>40</td>\n",
       "      <td>Japan</td>\n",
       "      <td>0</td>\n",
       "    </tr>\n",
       "  </tbody>\n",
       "</table>\n",
       "<p>1032 rows × 16 columns</p>\n",
       "</div>"
      ],
      "text/plain": [
       "      Unnamed: 0  age          Workclass  fnlwgt      education  \\\n",
       "0              0   39          State-gov   77516      Bachelors   \n",
       "1              1   50   Self-emp-not-inc   83311      Bachelors   \n",
       "2              2   38            Private  215646        HS-grad   \n",
       "3              3   53            Private  234721           11th   \n",
       "4              4   28            Private  338409      Bachelors   \n",
       "...          ...  ...                ...     ...            ...   \n",
       "1027        1114   34            Private  290763        HS-grad   \n",
       "1028        1116   36            Private   51100   Some-college   \n",
       "1029        1117   41            Private  227644        HS-grad   \n",
       "1030        1118   58          Local-gov  205267      Bachelors   \n",
       "1031        1119   53            Private  288020      Bachelors   \n",
       "\n",
       "      education-num       marital-status          occupation    relationship  \\\n",
       "0                13        Never-married        Adm-clerical   Not-in-family   \n",
       "1                13   Married-civ-spouse     Exec-managerial         Husband   \n",
       "2                 9             Divorced   Handlers-cleaners   Not-in-family   \n",
       "3                 7   Married-civ-spouse   Handlers-cleaners         Husband   \n",
       "4                13   Married-civ-spouse      Prof-specialty            Wife   \n",
       "...             ...                  ...                 ...             ...   \n",
       "1027              9             Divorced   Handlers-cleaners       Own-child   \n",
       "1028             10   Married-civ-spouse        Craft-repair         Husband   \n",
       "1029              9   Married-civ-spouse    Transport-moving         Husband   \n",
       "1030             13   Married-civ-spouse      Prof-specialty            Wife   \n",
       "1031             13   Married-civ-spouse      Prof-specialty         Husband   \n",
       "\n",
       "                     race      sex  capital-gain  capital-loss  \\\n",
       "0                   White     Male          2174             0   \n",
       "1                   White     Male             0             0   \n",
       "2                   White     Male             0             0   \n",
       "3                   Black     Male             0             0   \n",
       "4                   Black   Female             0             0   \n",
       "...                   ...      ...           ...           ...   \n",
       "1027                White   Female             0             0   \n",
       "1028                White     Male             0             0   \n",
       "1029                White     Male             0             0   \n",
       "1030                White   Female             0             0   \n",
       "1031   Asian-Pac-Islander     Male             0             0   \n",
       "\n",
       "      hours-per-week  native-country  Income  \n",
       "0                 40   United-States       0  \n",
       "1                 13   United-States       0  \n",
       "2                 40   United-States       0  \n",
       "3                 40   United-States       0  \n",
       "4                 40            Cuba       0  \n",
       "...              ...             ...     ...  \n",
       "1027              40   United-States       0  \n",
       "1028              40   United-States       0  \n",
       "1029              50   United-States       0  \n",
       "1030              40   United-States       1  \n",
       "1031              40           Japan       0  \n",
       "\n",
       "[1032 rows x 16 columns]"
      ]
     },
     "execution_count": 2,
     "metadata": {},
     "output_type": "execute_result"
    }
   ],
   "source": [
    "# To load the data using pandas library\n",
    "df = pd.read_csv(\"salary1.csv\")\n",
    "df"
   ]
  },
  {
   "cell_type": "code",
   "execution_count": 3,
   "id": "e68b8b09",
   "metadata": {},
   "outputs": [
    {
     "data": {
      "text/html": [
       "<div>\n",
       "<style scoped>\n",
       "    .dataframe tbody tr th:only-of-type {\n",
       "        vertical-align: middle;\n",
       "    }\n",
       "\n",
       "    .dataframe tbody tr th {\n",
       "        vertical-align: top;\n",
       "    }\n",
       "\n",
       "    .dataframe thead th {\n",
       "        text-align: right;\n",
       "    }\n",
       "</style>\n",
       "<table border=\"1\" class=\"dataframe\">\n",
       "  <thead>\n",
       "    <tr style=\"text-align: right;\">\n",
       "      <th></th>\n",
       "      <th>age</th>\n",
       "      <th>Workclass</th>\n",
       "      <th>fnlwgt</th>\n",
       "      <th>education</th>\n",
       "      <th>education-num</th>\n",
       "      <th>marital-status</th>\n",
       "      <th>occupation</th>\n",
       "      <th>relationship</th>\n",
       "      <th>race</th>\n",
       "      <th>sex</th>\n",
       "      <th>capital-gain</th>\n",
       "      <th>capital-loss</th>\n",
       "      <th>hours-per-week</th>\n",
       "      <th>native-country</th>\n",
       "      <th>Income</th>\n",
       "    </tr>\n",
       "  </thead>\n",
       "  <tbody>\n",
       "    <tr>\n",
       "      <th>0</th>\n",
       "      <td>39</td>\n",
       "      <td>State-gov</td>\n",
       "      <td>77516</td>\n",
       "      <td>Bachelors</td>\n",
       "      <td>13</td>\n",
       "      <td>Never-married</td>\n",
       "      <td>Adm-clerical</td>\n",
       "      <td>Not-in-family</td>\n",
       "      <td>White</td>\n",
       "      <td>Male</td>\n",
       "      <td>2174</td>\n",
       "      <td>0</td>\n",
       "      <td>40</td>\n",
       "      <td>United-States</td>\n",
       "      <td>0</td>\n",
       "    </tr>\n",
       "    <tr>\n",
       "      <th>1</th>\n",
       "      <td>50</td>\n",
       "      <td>Self-emp-not-inc</td>\n",
       "      <td>83311</td>\n",
       "      <td>Bachelors</td>\n",
       "      <td>13</td>\n",
       "      <td>Married-civ-spouse</td>\n",
       "      <td>Exec-managerial</td>\n",
       "      <td>Husband</td>\n",
       "      <td>White</td>\n",
       "      <td>Male</td>\n",
       "      <td>0</td>\n",
       "      <td>0</td>\n",
       "      <td>13</td>\n",
       "      <td>United-States</td>\n",
       "      <td>0</td>\n",
       "    </tr>\n",
       "    <tr>\n",
       "      <th>2</th>\n",
       "      <td>38</td>\n",
       "      <td>Private</td>\n",
       "      <td>215646</td>\n",
       "      <td>HS-grad</td>\n",
       "      <td>9</td>\n",
       "      <td>Divorced</td>\n",
       "      <td>Handlers-cleaners</td>\n",
       "      <td>Not-in-family</td>\n",
       "      <td>White</td>\n",
       "      <td>Male</td>\n",
       "      <td>0</td>\n",
       "      <td>0</td>\n",
       "      <td>40</td>\n",
       "      <td>United-States</td>\n",
       "      <td>0</td>\n",
       "    </tr>\n",
       "    <tr>\n",
       "      <th>3</th>\n",
       "      <td>53</td>\n",
       "      <td>Private</td>\n",
       "      <td>234721</td>\n",
       "      <td>11th</td>\n",
       "      <td>7</td>\n",
       "      <td>Married-civ-spouse</td>\n",
       "      <td>Handlers-cleaners</td>\n",
       "      <td>Husband</td>\n",
       "      <td>Black</td>\n",
       "      <td>Male</td>\n",
       "      <td>0</td>\n",
       "      <td>0</td>\n",
       "      <td>40</td>\n",
       "      <td>United-States</td>\n",
       "      <td>0</td>\n",
       "    </tr>\n",
       "    <tr>\n",
       "      <th>4</th>\n",
       "      <td>28</td>\n",
       "      <td>Private</td>\n",
       "      <td>338409</td>\n",
       "      <td>Bachelors</td>\n",
       "      <td>13</td>\n",
       "      <td>Married-civ-spouse</td>\n",
       "      <td>Prof-specialty</td>\n",
       "      <td>Wife</td>\n",
       "      <td>Black</td>\n",
       "      <td>Female</td>\n",
       "      <td>0</td>\n",
       "      <td>0</td>\n",
       "      <td>40</td>\n",
       "      <td>Cuba</td>\n",
       "      <td>0</td>\n",
       "    </tr>\n",
       "    <tr>\n",
       "      <th>...</th>\n",
       "      <td>...</td>\n",
       "      <td>...</td>\n",
       "      <td>...</td>\n",
       "      <td>...</td>\n",
       "      <td>...</td>\n",
       "      <td>...</td>\n",
       "      <td>...</td>\n",
       "      <td>...</td>\n",
       "      <td>...</td>\n",
       "      <td>...</td>\n",
       "      <td>...</td>\n",
       "      <td>...</td>\n",
       "      <td>...</td>\n",
       "      <td>...</td>\n",
       "      <td>...</td>\n",
       "    </tr>\n",
       "    <tr>\n",
       "      <th>1027</th>\n",
       "      <td>34</td>\n",
       "      <td>Private</td>\n",
       "      <td>290763</td>\n",
       "      <td>HS-grad</td>\n",
       "      <td>9</td>\n",
       "      <td>Divorced</td>\n",
       "      <td>Handlers-cleaners</td>\n",
       "      <td>Own-child</td>\n",
       "      <td>White</td>\n",
       "      <td>Female</td>\n",
       "      <td>0</td>\n",
       "      <td>0</td>\n",
       "      <td>40</td>\n",
       "      <td>United-States</td>\n",
       "      <td>0</td>\n",
       "    </tr>\n",
       "    <tr>\n",
       "      <th>1028</th>\n",
       "      <td>36</td>\n",
       "      <td>Private</td>\n",
       "      <td>51100</td>\n",
       "      <td>Some-college</td>\n",
       "      <td>10</td>\n",
       "      <td>Married-civ-spouse</td>\n",
       "      <td>Craft-repair</td>\n",
       "      <td>Husband</td>\n",
       "      <td>White</td>\n",
       "      <td>Male</td>\n",
       "      <td>0</td>\n",
       "      <td>0</td>\n",
       "      <td>40</td>\n",
       "      <td>United-States</td>\n",
       "      <td>0</td>\n",
       "    </tr>\n",
       "    <tr>\n",
       "      <th>1029</th>\n",
       "      <td>41</td>\n",
       "      <td>Private</td>\n",
       "      <td>227644</td>\n",
       "      <td>HS-grad</td>\n",
       "      <td>9</td>\n",
       "      <td>Married-civ-spouse</td>\n",
       "      <td>Transport-moving</td>\n",
       "      <td>Husband</td>\n",
       "      <td>White</td>\n",
       "      <td>Male</td>\n",
       "      <td>0</td>\n",
       "      <td>0</td>\n",
       "      <td>50</td>\n",
       "      <td>United-States</td>\n",
       "      <td>0</td>\n",
       "    </tr>\n",
       "    <tr>\n",
       "      <th>1030</th>\n",
       "      <td>58</td>\n",
       "      <td>Local-gov</td>\n",
       "      <td>205267</td>\n",
       "      <td>Bachelors</td>\n",
       "      <td>13</td>\n",
       "      <td>Married-civ-spouse</td>\n",
       "      <td>Prof-specialty</td>\n",
       "      <td>Wife</td>\n",
       "      <td>White</td>\n",
       "      <td>Female</td>\n",
       "      <td>0</td>\n",
       "      <td>0</td>\n",
       "      <td>40</td>\n",
       "      <td>United-States</td>\n",
       "      <td>1</td>\n",
       "    </tr>\n",
       "    <tr>\n",
       "      <th>1031</th>\n",
       "      <td>53</td>\n",
       "      <td>Private</td>\n",
       "      <td>288020</td>\n",
       "      <td>Bachelors</td>\n",
       "      <td>13</td>\n",
       "      <td>Married-civ-spouse</td>\n",
       "      <td>Prof-specialty</td>\n",
       "      <td>Husband</td>\n",
       "      <td>Asian-Pac-Islander</td>\n",
       "      <td>Male</td>\n",
       "      <td>0</td>\n",
       "      <td>0</td>\n",
       "      <td>40</td>\n",
       "      <td>Japan</td>\n",
       "      <td>0</td>\n",
       "    </tr>\n",
       "  </tbody>\n",
       "</table>\n",
       "<p>1032 rows × 15 columns</p>\n",
       "</div>"
      ],
      "text/plain": [
       "      age          Workclass  fnlwgt      education  education-num  \\\n",
       "0      39          State-gov   77516      Bachelors             13   \n",
       "1      50   Self-emp-not-inc   83311      Bachelors             13   \n",
       "2      38            Private  215646        HS-grad              9   \n",
       "3      53            Private  234721           11th              7   \n",
       "4      28            Private  338409      Bachelors             13   \n",
       "...   ...                ...     ...            ...            ...   \n",
       "1027   34            Private  290763        HS-grad              9   \n",
       "1028   36            Private   51100   Some-college             10   \n",
       "1029   41            Private  227644        HS-grad              9   \n",
       "1030   58          Local-gov  205267      Bachelors             13   \n",
       "1031   53            Private  288020      Bachelors             13   \n",
       "\n",
       "           marital-status          occupation    relationship  \\\n",
       "0           Never-married        Adm-clerical   Not-in-family   \n",
       "1      Married-civ-spouse     Exec-managerial         Husband   \n",
       "2                Divorced   Handlers-cleaners   Not-in-family   \n",
       "3      Married-civ-spouse   Handlers-cleaners         Husband   \n",
       "4      Married-civ-spouse      Prof-specialty            Wife   \n",
       "...                   ...                 ...             ...   \n",
       "1027             Divorced   Handlers-cleaners       Own-child   \n",
       "1028   Married-civ-spouse        Craft-repair         Husband   \n",
       "1029   Married-civ-spouse    Transport-moving         Husband   \n",
       "1030   Married-civ-spouse      Prof-specialty            Wife   \n",
       "1031   Married-civ-spouse      Prof-specialty         Husband   \n",
       "\n",
       "                     race      sex  capital-gain  capital-loss  \\\n",
       "0                   White     Male          2174             0   \n",
       "1                   White     Male             0             0   \n",
       "2                   White     Male             0             0   \n",
       "3                   Black     Male             0             0   \n",
       "4                   Black   Female             0             0   \n",
       "...                   ...      ...           ...           ...   \n",
       "1027                White   Female             0             0   \n",
       "1028                White     Male             0             0   \n",
       "1029                White     Male             0             0   \n",
       "1030                White   Female             0             0   \n",
       "1031   Asian-Pac-Islander     Male             0             0   \n",
       "\n",
       "      hours-per-week  native-country  Income  \n",
       "0                 40   United-States       0  \n",
       "1                 13   United-States       0  \n",
       "2                 40   United-States       0  \n",
       "3                 40   United-States       0  \n",
       "4                 40            Cuba       0  \n",
       "...              ...             ...     ...  \n",
       "1027              40   United-States       0  \n",
       "1028              40   United-States       0  \n",
       "1029              50   United-States       0  \n",
       "1030              40   United-States       1  \n",
       "1031              40           Japan       0  \n",
       "\n",
       "[1032 rows x 15 columns]"
      ]
     },
     "execution_count": 3,
     "metadata": {},
     "output_type": "execute_result"
    }
   ],
   "source": [
    "# Now delete the unwanted columns from the dataset\n",
    "df.drop(\"Unnamed: 0\",axis=1,inplace=True)\n",
    "df"
   ]
  },
  {
   "cell_type": "code",
   "execution_count": 4,
   "id": "f93990dd",
   "metadata": {},
   "outputs": [
    {
     "data": {
      "text/plain": [
       "age               0\n",
       "Workclass         0\n",
       "fnlwgt            0\n",
       "education         0\n",
       "education-num     0\n",
       "marital-status    0\n",
       "occupation        0\n",
       "relationship      0\n",
       "race              0\n",
       "sex               0\n",
       "capital-gain      0\n",
       "capital-loss      0\n",
       "hours-per-week    0\n",
       "native-country    0\n",
       "Income            0\n",
       "dtype: int64"
      ]
     },
     "execution_count": 4,
     "metadata": {},
     "output_type": "execute_result"
    }
   ],
   "source": [
    "# Now check the null values in the dataset\n",
    "df.isnull().sum()"
   ]
  },
  {
   "cell_type": "code",
   "execution_count": 5,
   "id": "6e7d485f",
   "metadata": {},
   "outputs": [
    {
     "name": "stdout",
     "output_type": "stream",
     "text": [
      "<class 'pandas.core.frame.DataFrame'>\n",
      "RangeIndex: 1032 entries, 0 to 1031\n",
      "Data columns (total 15 columns):\n",
      " #   Column          Non-Null Count  Dtype \n",
      "---  ------          --------------  ----- \n",
      " 0   age             1032 non-null   int64 \n",
      " 1   Workclass       1032 non-null   object\n",
      " 2   fnlwgt          1032 non-null   int64 \n",
      " 3   education       1032 non-null   object\n",
      " 4   education-num   1032 non-null   int64 \n",
      " 5   marital-status  1032 non-null   object\n",
      " 6   occupation      1032 non-null   object\n",
      " 7   relationship    1032 non-null   object\n",
      " 8   race            1032 non-null   object\n",
      " 9   sex             1032 non-null   object\n",
      " 10  capital-gain    1032 non-null   int64 \n",
      " 11  capital-loss    1032 non-null   int64 \n",
      " 12  hours-per-week  1032 non-null   int64 \n",
      " 13  native-country  1032 non-null   object\n",
      " 14  Income          1032 non-null   int64 \n",
      "dtypes: int64(7), object(8)\n",
      "memory usage: 121.1+ KB\n"
     ]
    }
   ],
   "source": [
    "df.info()"
   ]
  },
  {
   "cell_type": "code",
   "execution_count": 6,
   "id": "55584a3e",
   "metadata": {},
   "outputs": [
    {
     "data": {
      "text/plain": [
       "0    778\n",
       "1    254\n",
       "Name: Income, dtype: int64"
      ]
     },
     "execution_count": 6,
     "metadata": {},
     "output_type": "execute_result"
    }
   ],
   "source": [
    "df[\"Income\"].value_counts()"
   ]
  },
  {
   "cell_type": "code",
   "execution_count": 8,
   "id": "238ff473",
   "metadata": {},
   "outputs": [
    {
     "data": {
      "image/png": "[encoded data removed]",
      "text/plain": [
       "<Figure size 432x288 with 1 Axes>"
      ]
     },
     "metadata": {
      "needs_background": "light"
     },
     "output_type": "display_data"
    }
   ],
   "source": [
    "sns.countplot(data=df,x=\"Income\")\n",
    "c= df[\"Income\"].value_counts()\n",
    "plt.yticks(c)\n",
    "plt.show()"
   ]
  },
  {
   "cell_type": "code",
   "execution_count": 6,
   "id": "6085573b",
   "metadata": {},
   "outputs": [
    {
     "data": {
      "text/html": [
       "<div>\n",
       "<style scoped>\n",
       "    .dataframe tbody tr th:only-of-type {\n",
       "        vertical-align: middle;\n",
       "    }\n",
       "\n",
       "    .dataframe tbody tr th {\n",
       "        vertical-align: top;\n",
       "    }\n",
       "\n",
       "    .dataframe thead th {\n",
       "        text-align: right;\n",
       "    }\n",
       "</style>\n",
       "<table border=\"1\" class=\"dataframe\">\n",
       "  <thead>\n",
       "    <tr style=\"text-align: right;\">\n",
       "      <th></th>\n",
       "      <th>Workclass</th>\n",
       "      <th>education</th>\n",
       "      <th>marital-status</th>\n",
       "      <th>occupation</th>\n",
       "      <th>relationship</th>\n",
       "      <th>race</th>\n",
       "      <th>sex</th>\n",
       "      <th>native-country</th>\n",
       "    </tr>\n",
       "  </thead>\n",
       "  <tbody>\n",
       "    <tr>\n",
       "      <th>0</th>\n",
       "      <td>State-gov</td>\n",
       "      <td>Bachelors</td>\n",
       "      <td>Never-married</td>\n",
       "      <td>Adm-clerical</td>\n",
       "      <td>Not-in-family</td>\n",
       "      <td>White</td>\n",
       "      <td>Male</td>\n",
       "      <td>United-States</td>\n",
       "    </tr>\n",
       "    <tr>\n",
       "      <th>1</th>\n",
       "      <td>Self-emp-not-inc</td>\n",
       "      <td>Bachelors</td>\n",
       "      <td>Married-civ-spouse</td>\n",
       "      <td>Exec-managerial</td>\n",
       "      <td>Husband</td>\n",
       "      <td>White</td>\n",
       "      <td>Male</td>\n",
       "      <td>United-States</td>\n",
       "    </tr>\n",
       "    <tr>\n",
       "      <th>2</th>\n",
       "      <td>Private</td>\n",
       "      <td>HS-grad</td>\n",
       "      <td>Divorced</td>\n",
       "      <td>Handlers-cleaners</td>\n",
       "      <td>Not-in-family</td>\n",
       "      <td>White</td>\n",
       "      <td>Male</td>\n",
       "      <td>United-States</td>\n",
       "    </tr>\n",
       "    <tr>\n",
       "      <th>3</th>\n",
       "      <td>Private</td>\n",
       "      <td>11th</td>\n",
       "      <td>Married-civ-spouse</td>\n",
       "      <td>Handlers-cleaners</td>\n",
       "      <td>Husband</td>\n",
       "      <td>Black</td>\n",
       "      <td>Male</td>\n",
       "      <td>United-States</td>\n",
       "    </tr>\n",
       "    <tr>\n",
       "      <th>4</th>\n",
       "      <td>Private</td>\n",
       "      <td>Bachelors</td>\n",
       "      <td>Married-civ-spouse</td>\n",
       "      <td>Prof-specialty</td>\n",
       "      <td>Wife</td>\n",
       "      <td>Black</td>\n",
       "      <td>Female</td>\n",
       "      <td>Cuba</td>\n",
       "    </tr>\n",
       "    <tr>\n",
       "      <th>...</th>\n",
       "      <td>...</td>\n",
       "      <td>...</td>\n",
       "      <td>...</td>\n",
       "      <td>...</td>\n",
       "      <td>...</td>\n",
       "      <td>...</td>\n",
       "      <td>...</td>\n",
       "      <td>...</td>\n",
       "    </tr>\n",
       "    <tr>\n",
       "      <th>1027</th>\n",
       "      <td>Private</td>\n",
       "      <td>HS-grad</td>\n",
       "      <td>Divorced</td>\n",
       "      <td>Handlers-cleaners</td>\n",
       "      <td>Own-child</td>\n",
       "      <td>White</td>\n",
       "      <td>Female</td>\n",
       "      <td>United-States</td>\n",
       "    </tr>\n",
       "    <tr>\n",
       "      <th>1028</th>\n",
       "      <td>Private</td>\n",
       "      <td>Some-college</td>\n",
       "      <td>Married-civ-spouse</td>\n",
       "      <td>Craft-repair</td>\n",
       "      <td>Husband</td>\n",
       "      <td>White</td>\n",
       "      <td>Male</td>\n",
       "      <td>United-States</td>\n",
       "    </tr>\n",
       "    <tr>\n",
       "      <th>1029</th>\n",
       "      <td>Private</td>\n",
       "      <td>HS-grad</td>\n",
       "      <td>Married-civ-spouse</td>\n",
       "      <td>Transport-moving</td>\n",
       "      <td>Husband</td>\n",
       "      <td>White</td>\n",
       "      <td>Male</td>\n",
       "      <td>United-States</td>\n",
       "    </tr>\n",
       "    <tr>\n",
       "      <th>1030</th>\n",
       "      <td>Local-gov</td>\n",
       "      <td>Bachelors</td>\n",
       "      <td>Married-civ-spouse</td>\n",
       "      <td>Prof-specialty</td>\n",
       "      <td>Wife</td>\n",
       "      <td>White</td>\n",
       "      <td>Female</td>\n",
       "      <td>United-States</td>\n",
       "    </tr>\n",
       "    <tr>\n",
       "      <th>1031</th>\n",
       "      <td>Private</td>\n",
       "      <td>Bachelors</td>\n",
       "      <td>Married-civ-spouse</td>\n",
       "      <td>Prof-specialty</td>\n",
       "      <td>Husband</td>\n",
       "      <td>Asian-Pac-Islander</td>\n",
       "      <td>Male</td>\n",
       "      <td>Japan</td>\n",
       "    </tr>\n",
       "  </tbody>\n",
       "</table>\n",
       "<p>1032 rows × 8 columns</p>\n",
       "</div>"
      ],
      "text/plain": [
       "              Workclass      education       marital-status  \\\n",
       "0             State-gov      Bachelors        Never-married   \n",
       "1      Self-emp-not-inc      Bachelors   Married-civ-spouse   \n",
       "2               Private        HS-grad             Divorced   \n",
       "3               Private           11th   Married-civ-spouse   \n",
       "4               Private      Bachelors   Married-civ-spouse   \n",
       "...                 ...            ...                  ...   \n",
       "1027            Private        HS-grad             Divorced   \n",
       "1028            Private   Some-college   Married-civ-spouse   \n",
       "1029            Private        HS-grad   Married-civ-spouse   \n",
       "1030          Local-gov      Bachelors   Married-civ-spouse   \n",
       "1031            Private      Bachelors   Married-civ-spouse   \n",
       "\n",
       "              occupation    relationship                 race      sex  \\\n",
       "0           Adm-clerical   Not-in-family                White     Male   \n",
       "1        Exec-managerial         Husband                White     Male   \n",
       "2      Handlers-cleaners   Not-in-family                White     Male   \n",
       "3      Handlers-cleaners         Husband                Black     Male   \n",
       "4         Prof-specialty            Wife                Black   Female   \n",
       "...                  ...             ...                  ...      ...   \n",
       "1027   Handlers-cleaners       Own-child                White   Female   \n",
       "1028        Craft-repair         Husband                White     Male   \n",
       "1029    Transport-moving         Husband                White     Male   \n",
       "1030      Prof-specialty            Wife                White   Female   \n",
       "1031      Prof-specialty         Husband   Asian-Pac-Islander     Male   \n",
       "\n",
       "      native-country  \n",
       "0      United-States  \n",
       "1      United-States  \n",
       "2      United-States  \n",
       "3      United-States  \n",
       "4               Cuba  \n",
       "...              ...  \n",
       "1027   United-States  \n",
       "1028   United-States  \n",
       "1029   United-States  \n",
       "1030   United-States  \n",
       "1031           Japan  \n",
       "\n",
       "[1032 rows x 8 columns]"
      ]
     },
     "execution_count": 6,
     "metadata": {},
     "output_type": "execute_result"
    }
   ],
   "source": [
    "# Label Encoding \n",
    "# Split the data type from the above table\n",
    "df_cat = df.select_dtypes(object)\n",
    "# Here the df_cat id new DataFrame for the catagorical data-type\n",
    "df_cat"
   ]
  },
  {
   "cell_type": "code",
   "execution_count": 7,
   "id": "9f463d8a",
   "metadata": {},
   "outputs": [
    {
     "data": {
      "text/html": [
       "<div>\n",
       "<style scoped>\n",
       "    .dataframe tbody tr th:only-of-type {\n",
       "        vertical-align: middle;\n",
       "    }\n",
       "\n",
       "    .dataframe tbody tr th {\n",
       "        vertical-align: top;\n",
       "    }\n",
       "\n",
       "    .dataframe thead th {\n",
       "        text-align: right;\n",
       "    }\n",
       "</style>\n",
       "<table border=\"1\" class=\"dataframe\">\n",
       "  <thead>\n",
       "    <tr style=\"text-align: right;\">\n",
       "      <th></th>\n",
       "      <th>age</th>\n",
       "      <th>fnlwgt</th>\n",
       "      <th>education-num</th>\n",
       "      <th>capital-gain</th>\n",
       "      <th>capital-loss</th>\n",
       "      <th>hours-per-week</th>\n",
       "      <th>Income</th>\n",
       "    </tr>\n",
       "  </thead>\n",
       "  <tbody>\n",
       "    <tr>\n",
       "      <th>0</th>\n",
       "      <td>39</td>\n",
       "      <td>77516</td>\n",
       "      <td>13</td>\n",
       "      <td>2174</td>\n",
       "      <td>0</td>\n",
       "      <td>40</td>\n",
       "      <td>0</td>\n",
       "    </tr>\n",
       "    <tr>\n",
       "      <th>1</th>\n",
       "      <td>50</td>\n",
       "      <td>83311</td>\n",
       "      <td>13</td>\n",
       "      <td>0</td>\n",
       "      <td>0</td>\n",
       "      <td>13</td>\n",
       "      <td>0</td>\n",
       "    </tr>\n",
       "    <tr>\n",
       "      <th>2</th>\n",
       "      <td>38</td>\n",
       "      <td>215646</td>\n",
       "      <td>9</td>\n",
       "      <td>0</td>\n",
       "      <td>0</td>\n",
       "      <td>40</td>\n",
       "      <td>0</td>\n",
       "    </tr>\n",
       "    <tr>\n",
       "      <th>3</th>\n",
       "      <td>53</td>\n",
       "      <td>234721</td>\n",
       "      <td>7</td>\n",
       "      <td>0</td>\n",
       "      <td>0</td>\n",
       "      <td>40</td>\n",
       "      <td>0</td>\n",
       "    </tr>\n",
       "    <tr>\n",
       "      <th>4</th>\n",
       "      <td>28</td>\n",
       "      <td>338409</td>\n",
       "      <td>13</td>\n",
       "      <td>0</td>\n",
       "      <td>0</td>\n",
       "      <td>40</td>\n",
       "      <td>0</td>\n",
       "    </tr>\n",
       "    <tr>\n",
       "      <th>...</th>\n",
       "      <td>...</td>\n",
       "      <td>...</td>\n",
       "      <td>...</td>\n",
       "      <td>...</td>\n",
       "      <td>...</td>\n",
       "      <td>...</td>\n",
       "      <td>...</td>\n",
       "    </tr>\n",
       "    <tr>\n",
       "      <th>1027</th>\n",
       "      <td>34</td>\n",
       "      <td>290763</td>\n",
       "      <td>9</td>\n",
       "      <td>0</td>\n",
       "      <td>0</td>\n",
       "      <td>40</td>\n",
       "      <td>0</td>\n",
       "    </tr>\n",
       "    <tr>\n",
       "      <th>1028</th>\n",
       "      <td>36</td>\n",
       "      <td>51100</td>\n",
       "      <td>10</td>\n",
       "      <td>0</td>\n",
       "      <td>0</td>\n",
       "      <td>40</td>\n",
       "      <td>0</td>\n",
       "    </tr>\n",
       "    <tr>\n",
       "      <th>1029</th>\n",
       "      <td>41</td>\n",
       "      <td>227644</td>\n",
       "      <td>9</td>\n",
       "      <td>0</td>\n",
       "      <td>0</td>\n",
       "      <td>50</td>\n",
       "      <td>0</td>\n",
       "    </tr>\n",
       "    <tr>\n",
       "      <th>1030</th>\n",
       "      <td>58</td>\n",
       "      <td>205267</td>\n",
       "      <td>13</td>\n",
       "      <td>0</td>\n",
       "      <td>0</td>\n",
       "      <td>40</td>\n",
       "      <td>1</td>\n",
       "    </tr>\n",
       "    <tr>\n",
       "      <th>1031</th>\n",
       "      <td>53</td>\n",
       "      <td>288020</td>\n",
       "      <td>13</td>\n",
       "      <td>0</td>\n",
       "      <td>0</td>\n",
       "      <td>40</td>\n",
       "      <td>0</td>\n",
       "    </tr>\n",
       "  </tbody>\n",
       "</table>\n",
       "<p>1032 rows × 7 columns</p>\n",
       "</div>"
      ],
      "text/plain": [
       "      age  fnlwgt  education-num  capital-gain  capital-loss  hours-per-week  \\\n",
       "0      39   77516             13          2174             0              40   \n",
       "1      50   83311             13             0             0              13   \n",
       "2      38  215646              9             0             0              40   \n",
       "3      53  234721              7             0             0              40   \n",
       "4      28  338409             13             0             0              40   \n",
       "...   ...     ...            ...           ...           ...             ...   \n",
       "1027   34  290763              9             0             0              40   \n",
       "1028   36   51100             10             0             0              40   \n",
       "1029   41  227644              9             0             0              50   \n",
       "1030   58  205267             13             0             0              40   \n",
       "1031   53  288020             13             0             0              40   \n",
       "\n",
       "      Income  \n",
       "0          0  \n",
       "1          0  \n",
       "2          0  \n",
       "3          0  \n",
       "4          0  \n",
       "...      ...  \n",
       "1027       0  \n",
       "1028       0  \n",
       "1029       0  \n",
       "1030       1  \n",
       "1031       0  \n",
       "\n",
       "[1032 rows x 7 columns]"
      ]
     },
     "execution_count": 7,
     "metadata": {},
     "output_type": "execute_result"
    }
   ],
   "source": [
    "# Second data-type df_num which hold int and float data-type \n",
    "df_num = df.select_dtypes([\"int64\",\"float64\"])\n",
    "df_num"
   ]
  },
  {
   "cell_type": "code",
   "execution_count": 8,
   "id": "72cce36c",
   "metadata": {},
   "outputs": [],
   "source": [
    "from sklearn.preprocessing import LabelEncoder"
   ]
  },
  {
   "cell_type": "code",
   "execution_count": 9,
   "id": "736c6a37",
   "metadata": {},
   "outputs": [
    {
     "name": "stdout",
     "output_type": "stream",
     "text": [
      "<class 'pandas.core.frame.DataFrame'>\n",
      "RangeIndex: 1032 entries, 0 to 1031\n",
      "Data columns (total 8 columns):\n",
      " #   Column          Non-Null Count  Dtype\n",
      "---  ------          --------------  -----\n",
      " 0   Workclass       1032 non-null   int32\n",
      " 1   education       1032 non-null   int32\n",
      " 2   marital-status  1032 non-null   int32\n",
      " 3   occupation      1032 non-null   int32\n",
      " 4   relationship    1032 non-null   int32\n",
      " 5   race            1032 non-null   int32\n",
      " 6   sex             1032 non-null   int32\n",
      " 7   native-country  1032 non-null   int32\n",
      "dtypes: int32(8)\n",
      "memory usage: 32.4 KB\n"
     ]
    }
   ],
   "source": [
    "# Here all catagorical data is converted into the numerical data-type with help of LabelEncoder library\n",
    "for col in df_cat:\n",
    "    # Create the object of LabelEncoder Class\n",
    "    le = LabelEncoder()\n",
    "    df_cat[col]=le.fit_transform(df_cat[col])\n",
    "df_cat.info()"
   ]
  },
  {
   "cell_type": "code",
   "execution_count": 10,
   "id": "19165a79",
   "metadata": {},
   "outputs": [
    {
     "data": {
      "text/html": [
       "<div>\n",
       "<style scoped>\n",
       "    .dataframe tbody tr th:only-of-type {\n",
       "        vertical-align: middle;\n",
       "    }\n",
       "\n",
       "    .dataframe tbody tr th {\n",
       "        vertical-align: top;\n",
       "    }\n",
       "\n",
       "    .dataframe thead th {\n",
       "        text-align: right;\n",
       "    }\n",
       "</style>\n",
       "<table border=\"1\" class=\"dataframe\">\n",
       "  <thead>\n",
       "    <tr style=\"text-align: right;\">\n",
       "      <th></th>\n",
       "      <th>Workclass</th>\n",
       "      <th>education</th>\n",
       "      <th>marital-status</th>\n",
       "      <th>occupation</th>\n",
       "      <th>relationship</th>\n",
       "      <th>race</th>\n",
       "      <th>sex</th>\n",
       "      <th>native-country</th>\n",
       "      <th>age</th>\n",
       "      <th>fnlwgt</th>\n",
       "      <th>education-num</th>\n",
       "      <th>capital-gain</th>\n",
       "      <th>capital-loss</th>\n",
       "      <th>hours-per-week</th>\n",
       "      <th>Income</th>\n",
       "    </tr>\n",
       "  </thead>\n",
       "  <tbody>\n",
       "    <tr>\n",
       "      <th>0</th>\n",
       "      <td>5</td>\n",
       "      <td>9</td>\n",
       "      <td>4</td>\n",
       "      <td>0</td>\n",
       "      <td>1</td>\n",
       "      <td>4</td>\n",
       "      <td>1</td>\n",
       "      <td>28</td>\n",
       "      <td>39</td>\n",
       "      <td>77516</td>\n",
       "      <td>13</td>\n",
       "      <td>2174</td>\n",
       "      <td>0</td>\n",
       "      <td>40</td>\n",
       "      <td>0</td>\n",
       "    </tr>\n",
       "    <tr>\n",
       "      <th>1</th>\n",
       "      <td>4</td>\n",
       "      <td>9</td>\n",
       "      <td>2</td>\n",
       "      <td>3</td>\n",
       "      <td>0</td>\n",
       "      <td>4</td>\n",
       "      <td>1</td>\n",
       "      <td>28</td>\n",
       "      <td>50</td>\n",
       "      <td>83311</td>\n",
       "      <td>13</td>\n",
       "      <td>0</td>\n",
       "      <td>0</td>\n",
       "      <td>13</td>\n",
       "      <td>0</td>\n",
       "    </tr>\n",
       "    <tr>\n",
       "      <th>2</th>\n",
       "      <td>2</td>\n",
       "      <td>11</td>\n",
       "      <td>0</td>\n",
       "      <td>5</td>\n",
       "      <td>1</td>\n",
       "      <td>4</td>\n",
       "      <td>1</td>\n",
       "      <td>28</td>\n",
       "      <td>38</td>\n",
       "      <td>215646</td>\n",
       "      <td>9</td>\n",
       "      <td>0</td>\n",
       "      <td>0</td>\n",
       "      <td>40</td>\n",
       "      <td>0</td>\n",
       "    </tr>\n",
       "    <tr>\n",
       "      <th>3</th>\n",
       "      <td>2</td>\n",
       "      <td>1</td>\n",
       "      <td>2</td>\n",
       "      <td>5</td>\n",
       "      <td>0</td>\n",
       "      <td>2</td>\n",
       "      <td>1</td>\n",
       "      <td>28</td>\n",
       "      <td>53</td>\n",
       "      <td>234721</td>\n",
       "      <td>7</td>\n",
       "      <td>0</td>\n",
       "      <td>0</td>\n",
       "      <td>40</td>\n",
       "      <td>0</td>\n",
       "    </tr>\n",
       "    <tr>\n",
       "      <th>4</th>\n",
       "      <td>2</td>\n",
       "      <td>9</td>\n",
       "      <td>2</td>\n",
       "      <td>9</td>\n",
       "      <td>5</td>\n",
       "      <td>2</td>\n",
       "      <td>0</td>\n",
       "      <td>4</td>\n",
       "      <td>28</td>\n",
       "      <td>338409</td>\n",
       "      <td>13</td>\n",
       "      <td>0</td>\n",
       "      <td>0</td>\n",
       "      <td>40</td>\n",
       "      <td>0</td>\n",
       "    </tr>\n",
       "    <tr>\n",
       "      <th>...</th>\n",
       "      <td>...</td>\n",
       "      <td>...</td>\n",
       "      <td>...</td>\n",
       "      <td>...</td>\n",
       "      <td>...</td>\n",
       "      <td>...</td>\n",
       "      <td>...</td>\n",
       "      <td>...</td>\n",
       "      <td>...</td>\n",
       "      <td>...</td>\n",
       "      <td>...</td>\n",
       "      <td>...</td>\n",
       "      <td>...</td>\n",
       "      <td>...</td>\n",
       "      <td>...</td>\n",
       "    </tr>\n",
       "    <tr>\n",
       "      <th>1027</th>\n",
       "      <td>2</td>\n",
       "      <td>11</td>\n",
       "      <td>0</td>\n",
       "      <td>5</td>\n",
       "      <td>3</td>\n",
       "      <td>4</td>\n",
       "      <td>0</td>\n",
       "      <td>28</td>\n",
       "      <td>34</td>\n",
       "      <td>290763</td>\n",
       "      <td>9</td>\n",
       "      <td>0</td>\n",
       "      <td>0</td>\n",
       "      <td>40</td>\n",
       "      <td>0</td>\n",
       "    </tr>\n",
       "    <tr>\n",
       "      <th>1028</th>\n",
       "      <td>2</td>\n",
       "      <td>15</td>\n",
       "      <td>2</td>\n",
       "      <td>2</td>\n",
       "      <td>0</td>\n",
       "      <td>4</td>\n",
       "      <td>1</td>\n",
       "      <td>28</td>\n",
       "      <td>36</td>\n",
       "      <td>51100</td>\n",
       "      <td>10</td>\n",
       "      <td>0</td>\n",
       "      <td>0</td>\n",
       "      <td>40</td>\n",
       "      <td>0</td>\n",
       "    </tr>\n",
       "    <tr>\n",
       "      <th>1029</th>\n",
       "      <td>2</td>\n",
       "      <td>11</td>\n",
       "      <td>2</td>\n",
       "      <td>13</td>\n",
       "      <td>0</td>\n",
       "      <td>4</td>\n",
       "      <td>1</td>\n",
       "      <td>28</td>\n",
       "      <td>41</td>\n",
       "      <td>227644</td>\n",
       "      <td>9</td>\n",
       "      <td>0</td>\n",
       "      <td>0</td>\n",
       "      <td>50</td>\n",
       "      <td>0</td>\n",
       "    </tr>\n",
       "    <tr>\n",
       "      <th>1030</th>\n",
       "      <td>1</td>\n",
       "      <td>9</td>\n",
       "      <td>2</td>\n",
       "      <td>9</td>\n",
       "      <td>5</td>\n",
       "      <td>4</td>\n",
       "      <td>0</td>\n",
       "      <td>28</td>\n",
       "      <td>58</td>\n",
       "      <td>205267</td>\n",
       "      <td>13</td>\n",
       "      <td>0</td>\n",
       "      <td>0</td>\n",
       "      <td>40</td>\n",
       "      <td>1</td>\n",
       "    </tr>\n",
       "    <tr>\n",
       "      <th>1031</th>\n",
       "      <td>2</td>\n",
       "      <td>9</td>\n",
       "      <td>2</td>\n",
       "      <td>9</td>\n",
       "      <td>0</td>\n",
       "      <td>1</td>\n",
       "      <td>1</td>\n",
       "      <td>18</td>\n",
       "      <td>53</td>\n",
       "      <td>288020</td>\n",
       "      <td>13</td>\n",
       "      <td>0</td>\n",
       "      <td>0</td>\n",
       "      <td>40</td>\n",
       "      <td>0</td>\n",
       "    </tr>\n",
       "  </tbody>\n",
       "</table>\n",
       "<p>1032 rows × 15 columns</p>\n",
       "</div>"
      ],
      "text/plain": [
       "      Workclass  education  marital-status  occupation  relationship  race  \\\n",
       "0             5          9               4           0             1     4   \n",
       "1             4          9               2           3             0     4   \n",
       "2             2         11               0           5             1     4   \n",
       "3             2          1               2           5             0     2   \n",
       "4             2          9               2           9             5     2   \n",
       "...         ...        ...             ...         ...           ...   ...   \n",
       "1027          2         11               0           5             3     4   \n",
       "1028          2         15               2           2             0     4   \n",
       "1029          2         11               2          13             0     4   \n",
       "1030          1          9               2           9             5     4   \n",
       "1031          2          9               2           9             0     1   \n",
       "\n",
       "      sex  native-country  age  fnlwgt  education-num  capital-gain  \\\n",
       "0       1              28   39   77516             13          2174   \n",
       "1       1              28   50   83311             13             0   \n",
       "2       1              28   38  215646              9             0   \n",
       "3       1              28   53  234721              7             0   \n",
       "4       0               4   28  338409             13             0   \n",
       "...   ...             ...  ...     ...            ...           ...   \n",
       "1027    0              28   34  290763              9             0   \n",
       "1028    1              28   36   51100             10             0   \n",
       "1029    1              28   41  227644              9             0   \n",
       "1030    0              28   58  205267             13             0   \n",
       "1031    1              18   53  288020             13             0   \n",
       "\n",
       "      capital-loss  hours-per-week  Income  \n",
       "0                0              40       0  \n",
       "1                0              13       0  \n",
       "2                0              40       0  \n",
       "3                0              40       0  \n",
       "4                0              40       0  \n",
       "...            ...             ...     ...  \n",
       "1027             0              40       0  \n",
       "1028             0              40       0  \n",
       "1029             0              50       0  \n",
       "1030             0              40       1  \n",
       "1031             0              40       0  \n",
       "\n",
       "[1032 rows x 15 columns]"
      ]
     },
     "execution_count": 10,
     "metadata": {},
     "output_type": "execute_result"
    }
   ],
   "source": [
    "# Finally we concatenate of 2 DataFrame\n",
    "df_new = pd.concat([df_cat,df_num],axis=1)\n",
    "df_new"
   ]
  },
  {
   "cell_type": "code",
   "execution_count": 11,
   "id": "4e4b3f22",
   "metadata": {},
   "outputs": [],
   "source": [
    "# Here the target variable is \" Income \" which want to predict if whether a person makes over $50K a year or not.\n",
    "# Means predict YES means 1 and NO means 0\n",
    "# Seperate the Input (Indepedent Variable) and Output means Target variable \n",
    "X = df_new.drop(\"Income\",axis=1)  # Input\n",
    "Y = df_new[\"Income\"]              # Output"
   ]
  },
  {
   "cell_type": "code",
   "execution_count": 12,
   "id": "902092a5",
   "metadata": {},
   "outputs": [
    {
     "data": {
      "text/plain": [
       "array([0, 1], dtype=int64)"
      ]
     },
     "execution_count": 12,
     "metadata": {},
     "output_type": "execute_result"
    }
   ],
   "source": [
    "df_new[\"Income\"].unique()"
   ]
  },
  {
   "cell_type": "code",
   "execution_count": 13,
   "id": "4e9d5752",
   "metadata": {},
   "outputs": [],
   "source": [
    "# Now we proceed\n",
    "# Train Test Split\n",
    "from sklearn.model_selection import train_test_split\n",
    "X_train,X_test,Y_train,Y_test = train_test_split(X,Y,test_size=0.3,random_state=1) # 70 - 30 split"
   ]
  },
  {
   "cell_type": "markdown",
   "id": "e40a758c",
   "metadata": {},
   "source": [
    "### Create a baseline Model  ( Logistic Regression )"
   ]
  },
  {
   "cell_type": "code",
   "execution_count": 14,
   "id": "80777304",
   "metadata": {},
   "outputs": [],
   "source": [
    "from sklearn.linear_model import LogisticRegression\n",
    "# Similar to LinearRegression"
   ]
  },
  {
   "cell_type": "code",
   "execution_count": 15,
   "id": "057a083b",
   "metadata": {},
   "outputs": [],
   "source": [
    "# Create object of Logistic Regression\n",
    "lr = LogisticRegression()"
   ]
  },
  {
   "cell_type": "code",
   "execution_count": 16,
   "id": "59a4262c",
   "metadata": {},
   "outputs": [
    {
     "data": {
      "text/plain": [
       "LogisticRegression()"
      ]
     },
     "execution_count": 16,
     "metadata": {},
     "output_type": "execute_result"
    }
   ],
   "source": [
    "# Train Test Split\n",
    "lr.fit(X_train,Y_train)"
   ]
  },
  {
   "cell_type": "code",
   "execution_count": 17,
   "id": "6cae3072",
   "metadata": {},
   "outputs": [],
   "source": [
    "# Test the model, use predict() inbuilt method of Logistic Regression.\n",
    "# predict() : Y_pred = 1/(1+exp(-X))\n",
    "Y_pred = lr.predict(X_test)  "
   ]
  },
  {
   "cell_type": "code",
   "execution_count": 18,
   "id": "805be5c7",
   "metadata": {},
   "outputs": [
    {
     "data": {
      "text/plain": [
       "array([0, 0, 1, 0, 0, 0, 0, 0, 0, 0, 0, 0, 0, 0, 0, 0, 0, 0, 0, 0, 0, 0,\n",
       "       0, 0, 0, 0, 0, 0, 0, 0, 0, 0, 0, 0, 0, 0, 0, 0, 0, 0, 0, 1, 0, 0,\n",
       "       0, 0, 1, 1, 0, 0, 1, 1, 0, 0, 0, 0, 0, 0, 0, 0, 0, 0, 0, 0, 0, 0,\n",
       "       0, 0, 0, 1, 0, 0, 1, 0, 0, 0, 0, 0, 0, 0, 0, 0, 0, 0, 0, 0, 0, 0,\n",
       "       0, 0, 0, 0, 0, 0, 0, 0, 0, 0, 0, 1, 1, 0, 0, 1, 0, 0, 0, 0, 0, 0,\n",
       "       0, 0, 0, 0, 0, 0, 1, 0, 0, 0, 0, 0, 0, 0, 1, 0, 1, 1, 0, 1, 0, 0,\n",
       "       0, 0, 0, 0, 0, 0, 0, 0, 0, 0, 0, 0, 0, 0, 0, 0, 0, 0, 0, 0, 0, 0,\n",
       "       0, 0, 0, 0, 0, 0, 0, 0, 0, 0, 0, 0, 0, 0, 0, 0, 1, 0, 0, 0, 0, 0,\n",
       "       1, 0, 0, 1, 0, 0, 0, 0, 0, 0, 0, 0, 0, 1, 0, 0, 0, 0, 0, 0, 0, 0,\n",
       "       0, 0, 0, 1, 0, 1, 0, 0, 0, 0, 0, 0, 0, 0, 0, 1, 0, 0, 0, 0, 0, 0,\n",
       "       0, 0, 0, 0, 0, 0, 0, 0, 0, 1, 0, 0, 0, 0, 0, 0, 0, 0, 0, 0, 0, 0,\n",
       "       1, 0, 0, 1, 0, 0, 0, 0, 0, 0, 0, 0, 0, 0, 0, 0, 0, 0, 0, 0, 0, 0,\n",
       "       0, 0, 0, 0, 0, 0, 0, 0, 0, 0, 0, 0, 0, 0, 0, 0, 0, 0, 0, 0, 0, 0,\n",
       "       0, 0, 0, 0, 0, 0, 0, 0, 0, 0, 0, 0, 1, 0, 1, 0, 0, 0, 0, 0, 0, 0,\n",
       "       0, 0], dtype=int64)"
      ]
     },
     "execution_count": 18,
     "metadata": {},
     "output_type": "execute_result"
    }
   ],
   "source": [
    "Y_pred"
   ]
  },
  {
   "cell_type": "code",
   "execution_count": 19,
   "id": "3b48782e",
   "metadata": {},
   "outputs": [
    {
     "data": {
      "text/html": [
       "<div>\n",
       "<style scoped>\n",
       "    .dataframe tbody tr th:only-of-type {\n",
       "        vertical-align: middle;\n",
       "    }\n",
       "\n",
       "    .dataframe tbody tr th {\n",
       "        vertical-align: top;\n",
       "    }\n",
       "\n",
       "    .dataframe thead th {\n",
       "        text-align: right;\n",
       "    }\n",
       "</style>\n",
       "<table border=\"1\" class=\"dataframe\">\n",
       "  <thead>\n",
       "    <tr style=\"text-align: right;\">\n",
       "      <th></th>\n",
       "      <th>Actual Input</th>\n",
       "      <th>Predicted Input</th>\n",
       "    </tr>\n",
       "  </thead>\n",
       "  <tbody>\n",
       "    <tr>\n",
       "      <th>339</th>\n",
       "      <td>0</td>\n",
       "      <td>0</td>\n",
       "    </tr>\n",
       "    <tr>\n",
       "      <th>244</th>\n",
       "      <td>0</td>\n",
       "      <td>0</td>\n",
       "    </tr>\n",
       "    <tr>\n",
       "      <th>862</th>\n",
       "      <td>1</td>\n",
       "      <td>1</td>\n",
       "    </tr>\n",
       "    <tr>\n",
       "      <th>567</th>\n",
       "      <td>0</td>\n",
       "      <td>0</td>\n",
       "    </tr>\n",
       "    <tr>\n",
       "      <th>926</th>\n",
       "      <td>0</td>\n",
       "      <td>0</td>\n",
       "    </tr>\n",
       "    <tr>\n",
       "      <th>...</th>\n",
       "      <td>...</td>\n",
       "      <td>...</td>\n",
       "    </tr>\n",
       "    <tr>\n",
       "      <th>1019</th>\n",
       "      <td>0</td>\n",
       "      <td>0</td>\n",
       "    </tr>\n",
       "    <tr>\n",
       "      <th>341</th>\n",
       "      <td>1</td>\n",
       "      <td>0</td>\n",
       "    </tr>\n",
       "    <tr>\n",
       "      <th>750</th>\n",
       "      <td>1</td>\n",
       "      <td>0</td>\n",
       "    </tr>\n",
       "    <tr>\n",
       "      <th>940</th>\n",
       "      <td>0</td>\n",
       "      <td>0</td>\n",
       "    </tr>\n",
       "    <tr>\n",
       "      <th>185</th>\n",
       "      <td>0</td>\n",
       "      <td>0</td>\n",
       "    </tr>\n",
       "  </tbody>\n",
       "</table>\n",
       "<p>310 rows × 2 columns</p>\n",
       "</div>"
      ],
      "text/plain": [
       "      Actual Input  Predicted Input\n",
       "339              0                0\n",
       "244              0                0\n",
       "862              1                1\n",
       "567              0                0\n",
       "926              0                0\n",
       "...            ...              ...\n",
       "1019             0                0\n",
       "341              1                0\n",
       "750              1                0\n",
       "940              0                0\n",
       "185              0                0\n",
       "\n",
       "[310 rows x 2 columns]"
      ]
     },
     "execution_count": 19,
     "metadata": {},
     "output_type": "execute_result"
    }
   ],
   "source": [
    "d = {\"Actual Input\":Y_test,\"Predicted Input\":Y_pred}\n",
    "new_df = pd.DataFrame(d)\n",
    "new_df"
   ]
  },
  {
   "cell_type": "code",
   "execution_count": 20,
   "id": "0e367493",
   "metadata": {},
   "outputs": [
    {
     "data": {
      "text/plain": [
       "0.8"
      ]
     },
     "execution_count": 20,
     "metadata": {},
     "output_type": "execute_result"
    }
   ],
   "source": [
    "# Find out score, it is also known as Accuracy-Score\n",
    "# Score()- inbuilt method of Logistic Regression\n",
    "lr.score(X_test,Y_test)\n",
    "# It nearest to 1 which means acuracy is very good."
   ]
  },
  {
   "cell_type": "markdown",
   "id": "34b17566",
   "metadata": {},
   "source": [
    "Accuracy score is always good. Most of the time , it is very good Means we should not depend upon only accuracy score We also check recall, precision, f1-score"
   ]
  },
  {
   "cell_type": "code",
   "execution_count": 21,
   "id": "0cf149d0",
   "metadata": {},
   "outputs": [],
   "source": [
    "# classification_report() \n",
    "# Confusion_matrix()\n",
    "from sklearn.metrics import confusion_matrix\n",
    "from sklearn.metrics import classification_report"
   ]
  },
  {
   "cell_type": "code",
   "execution_count": 22,
   "id": "453092ab",
   "metadata": {},
   "outputs": [
    {
     "name": "stdout",
     "output_type": "stream",
     "text": [
      "Classification Report\n",
      "              precision    recall  f1-score   support\n",
      "\n",
      "           0       0.81      0.96      0.88       238\n",
      "           1       0.68      0.26      0.38        72\n",
      "\n",
      "    accuracy                           0.80       310\n",
      "   macro avg       0.75      0.61      0.63       310\n",
      "weighted avg       0.78      0.80      0.76       310\n",
      "\n",
      "Confusion Matrix\n",
      "[[229   9]\n",
      " [ 53  19]]\n"
     ]
    }
   ],
   "source": [
    "print(\"Classification Report\")\n",
    "print(classification_report(Y_test,Y_pred))\n",
    "print(\"Confusion Matrix\")\n",
    "print(confusion_matrix(Y_test,Y_pred))"
   ]
  },
  {
   "cell_type": "code",
   "execution_count": 23,
   "id": "b08dbe7f",
   "metadata": {},
   "outputs": [
    {
     "name": "stdout",
     "output_type": "stream",
     "text": [
      "True Positive:  229\n",
      "True Negative:  19\n",
      "False Positive:  9\n",
      "False Negative:  53\n"
     ]
    }
   ],
   "source": [
    "TP,FP,FN,TN = confusion_matrix(Y_test,Y_pred).ravel()\n",
    "print(\"True Positive: \",TP)\n",
    "print(\"True Negative: \",TN)\n",
    "print(\"False Positive: \", FP)\n",
    "print(\"False Negative: \",FN)"
   ]
  },
  {
   "cell_type": "markdown",
   "id": "4b6508d8",
   "metadata": {},
   "source": [
    "# First Analysis\n",
    "#### Feature selection : manually\n",
    "#### Use visualisation for feature selection"
   ]
  },
  {
   "cell_type": "code",
   "execution_count": 25,
   "id": "859abb6e",
   "metadata": {},
   "outputs": [
    {
     "data": {
      "text/plain": [
       "Index(['Workclass', 'education', 'marital-status', 'occupation',\n",
       "       'relationship', 'race', 'sex', 'native-country', 'age', 'fnlwgt',\n",
       "       'education-num', 'capital-gain', 'capital-loss', 'hours-per-week'],\n",
       "      dtype='object')"
      ]
     },
     "execution_count": 25,
     "metadata": {},
     "output_type": "execute_result"
    }
   ],
   "source": [
    "X.columns"
   ]
  },
  {
   "cell_type": "markdown",
   "id": "446c8397",
   "metadata": {},
   "source": [
    "###  we have categorical input data means categorical columns : workclass, education, sex, martial-status, occupation, relationship, native-country, and race  : apply countplot() for data analysis \n",
    "### (countplot means frequency) and Numerical input columns : age, fnlwgt,\teducation-num,\tcapital-gain,\tcapital-loss,\thours-per-week,\tand Income apply scatterplot()"
   ]
  },
  {
   "cell_type": "code",
   "execution_count": 27,
   "id": "64cd42a6",
   "metadata": {},
   "outputs": [
    {
     "data": {
      "image/png": "[encoded data removed]",
      "text/plain": [
       "<Figure size 432x288 with 1 Axes>"
      ]
     },
     "metadata": {
      "needs_background": "light"
     },
     "output_type": "display_data"
    }
   ],
   "source": [
    "sns.countplot(data=df_new,x=\"Income\")\n",
    "c = df_new[\"Income\"].value_counts()\n",
    "plt.yticks(c)\n",
    "plt.show()"
   ]
  },
  {
   "cell_type": "code",
   "execution_count": 29,
   "id": "acb0c2b6",
   "metadata": {},
   "outputs": [
    {
     "data": {
      "image/png": "[encoded data removed]",
      "text/plain": [
       "<Figure size 720x360 with 1 Axes>"
      ]
     },
     "metadata": {
      "needs_background": "light"
     },
     "output_type": "display_data"
    }
   ],
   "source": [
    "# First check the sex is important feature or not to predict the Target variable. 1 indicates >=50k. 0 indicates <50K\n",
    "plt.figure(figsize=(10,5))\n",
    "sns.countplot(data=df_new,x=\"Income\",hue=\"sex\")\n",
    "plt.show()"
   ]
  },
  {
   "cell_type": "markdown",
   "id": "9c4d9e44",
   "metadata": {},
   "source": [
    "### from the above graph we see that \" sex \" is important feature input feature to predict the output"
   ]
  },
  {
   "cell_type": "code",
   "execution_count": 30,
   "id": "32e2c0a4",
   "metadata": {},
   "outputs": [
    {
     "data": {
      "image/png": "[encoded data removed]",
      "text/plain": [
       "<Figure size 720x360 with 1 Axes>"
      ]
     },
     "metadata": {
      "needs_background": "light"
     },
     "output_type": "display_data"
    }
   ],
   "source": [
    "# Second check the \" Race \" is important feature or not to predict the Target variable. 1 indicates >=50k. 0 indicates <50K\n",
    "plt.figure(figsize=(10,5))\n",
    "sns.countplot(data=df_new,x=\"Income\",hue=\"race\")\n",
    "plt.show()"
   ]
  },
  {
   "cell_type": "markdown",
   "id": "4593e8f3",
   "metadata": {},
   "source": [
    "### from the above graph we see that \" race \" is also important input feature to predict the output"
   ]
  },
  {
   "cell_type": "code",
   "execution_count": 32,
   "id": "4a93b125",
   "metadata": {},
   "outputs": [
    {
     "data": {
      "image/png": "[encoded data removed]",
      "text/plain": [
       "<Figure size 720x360 with 1 Axes>"
      ]
     },
     "metadata": {
      "needs_background": "light"
     },
     "output_type": "display_data"
    }
   ],
   "source": [
    "# Third check the \" Workclass \" is important feature or not to predict the Target variable. 1 indicates >=50k. 0 indicates <50K\n",
    "plt.figure(figsize=(10,5))\n",
    "sns.countplot(data=df_new,x=\"Income\",hue=\"Workclass\")\n",
    "plt.show()"
   ]
  },
  {
   "cell_type": "markdown",
   "id": "f01cf4e2",
   "metadata": {},
   "source": [
    "### from the above graph we see that \" workclass \" is not also important input feature to predcit the output"
   ]
  },
  {
   "cell_type": "code",
   "execution_count": 33,
   "id": "b4a49433",
   "metadata": {},
   "outputs": [
    {
     "data": {
      "image/png": "[encoded data removed]",
      "text/plain": [
       "<Figure size 720x360 with 1 Axes>"
      ]
     },
     "metadata": {
      "needs_background": "light"
     },
     "output_type": "display_data"
    }
   ],
   "source": [
    "# Fourth check the \" education \" is important feature or not to predict the Target variable. 1 indicates >=50k. 0 indicates <50K\n",
    "plt.figure(figsize=(10,5))\n",
    "sns.countplot(data=df_new,x=\"Income\",hue=\"education\")\n",
    "plt.show()"
   ]
  },
  {
   "cell_type": "markdown",
   "id": "322ec9d5",
   "metadata": {},
   "source": [
    "### from the above graph we see that \" education \" is also important input feature to predict the output"
   ]
  },
  {
   "cell_type": "code",
   "execution_count": 35,
   "id": "7a8a2446",
   "metadata": {},
   "outputs": [
    {
     "data": {
      "image/png": "[encoded data removed]",
      "text/plain": [
       "<Figure size 720x360 with 1 Axes>"
      ]
     },
     "metadata": {
      "needs_background": "light"
     },
     "output_type": "display_data"
    }
   ],
   "source": [
    "# Fifth check the \" martial-status \" is importan feature or not to predict the Target variable. 1 indicates >=50k. 0 indicates <50K\n",
    "plt.figure(figsize=(10,5))\n",
    "sns.countplot(data=df_new,x=\"Income\",hue=\"marital-status\")\n",
    "plt.show()"
   ]
  },
  {
   "cell_type": "markdown",
   "id": "a808faf5",
   "metadata": {},
   "source": [
    "### from the above we see that \" marital-status \" is not important input feature to predict the output"
   ]
  },
  {
   "cell_type": "code",
   "execution_count": 37,
   "id": "a7e0a61d",
   "metadata": {},
   "outputs": [
    {
     "data": {
      "image/png": "[encoded data removed]",
      "text/plain": [
       "<Figure size 1440x1440 with 1 Axes>"
      ]
     },
     "metadata": {
      "needs_background": "light"
     },
     "output_type": "display_data"
    }
   ],
   "source": [
    "# Sxith check the \" native-country \" is important feature or not to predict the Target variable. 1 indicates >=50k. 0 indicates <50K\n",
    "plt.figure(figsize=(20,20))\n",
    "sns.countplot(data=df_new,x=\"Income\",hue=\"native-country\")\n",
    "plt.show()"
   ]
  },
  {
   "cell_type": "markdown",
   "id": "edde533e",
   "metadata": {},
   "source": [
    "### from the above graph we see that \" native-country \" is not also important input feature to predict the output"
   ]
  },
  {
   "cell_type": "code",
   "execution_count": 38,
   "id": "5d62ef33",
   "metadata": {},
   "outputs": [
    {
     "data": {
      "image/png": "[encoded data removed]",
      "text/plain": [
       "<Figure size 720x360 with 1 Axes>"
      ]
     },
     "metadata": {
      "needs_background": "light"
     },
     "output_type": "display_data"
    }
   ],
   "source": [
    "# Seventh check the \" Occupation \" is important feature or not to predict the Target variable. 1 indicates >=50k. 0 indicates <50K\n",
    "plt.figure(figsize=(10,5))\n",
    "sns.countplot(data=df_new,x=\"Income\",hue=\"occupation\")\n",
    "plt.show()"
   ]
  },
  {
   "cell_type": "markdown",
   "id": "0651b52a",
   "metadata": {},
   "source": [
    "### From the above we see that \" occupation \" is not also important input feature to predict the output"
   ]
  },
  {
   "cell_type": "code",
   "execution_count": 39,
   "id": "ad795e65",
   "metadata": {},
   "outputs": [
    {
     "data": {
      "image/png": "[encoded data removed]",
      "text/plain": [
       "<Figure size 720x360 with 1 Axes>"
      ]
     },
     "metadata": {
      "needs_background": "light"
     },
     "output_type": "display_data"
    }
   ],
   "source": [
    "# Eight check the \" relationship \" is important feature or not to predict the Target variable. 1 indicates >=50k. 0 indicates <50K\n",
    "plt.figure(figsize=(10,5))\n",
    "sns.countplot(data=df_new,x=\"Income\",hue=\"relationship\")\n",
    "plt.show()"
   ]
  },
  {
   "cell_type": "markdown",
   "id": "ee059b3a",
   "metadata": {},
   "source": [
    "### from the above graph we see that \" relationship \" is also important input feature to predict the output"
   ]
  },
  {
   "cell_type": "markdown",
   "id": "35e21081",
   "metadata": {},
   "source": [
    "### (countplot means frequency) and Numerical input columns : age, fnlwgt, education-num, capital-gain, capital-loss, hours-per-week, and Income apply scatterplot()"
   ]
  },
  {
   "cell_type": "code",
   "execution_count": 40,
   "id": "59140ed8",
   "metadata": {},
   "outputs": [
    {
     "data": {
      "image/png": "[encoded data removed]",
      "text/plain": [
       "<Figure size 720x360 with 1 Axes>"
      ]
     },
     "metadata": {
      "needs_background": "light"
     },
     "output_type": "display_data"
    }
   ],
   "source": [
    "# First check the \" age \" is important feature or not for the predicting the target variable\n",
    "plt.figure(figsize=(10,5))\n",
    "sns.scatterplot(data=df_new,x=\"age\",y=\"Income\")\n",
    "plt.show()"
   ]
  },
  {
   "cell_type": "markdown",
   "id": "4ddd5fcc",
   "metadata": {},
   "source": [
    "### from the above graph we see that \" Age \" is important input feature to predict the output"
   ]
  },
  {
   "cell_type": "code",
   "execution_count": 41,
   "id": "5bee0595",
   "metadata": {},
   "outputs": [
    {
     "data": {
      "image/png": "[encoded data removed]",
      "text/plain": [
       "<Figure size 720x360 with 1 Axes>"
      ]
     },
     "metadata": {
      "needs_background": "light"
     },
     "output_type": "display_data"
    }
   ],
   "source": [
    "# Second check the \" fnlwgt \" is important feature or not for predicting the target variable \n",
    "plt.figure(figsize=(10,5))\n",
    "sns.scatterplot(data=df_new,x=\"fnlwgt\",y=\"Income\")\n",
    "plt.show()"
   ]
  },
  {
   "cell_type": "markdown",
   "id": "2c7fed3b",
   "metadata": {},
   "source": [
    "### from the above graph we see that \" fnlwgt \" is important input feature for predicting the output"
   ]
  },
  {
   "cell_type": "code",
   "execution_count": 44,
   "id": "dc17137f",
   "metadata": {},
   "outputs": [
    {
     "data": {
      "image/png": "[encoded data removed]",
      "text/plain": [
       "<Figure size 720x360 with 1 Axes>"
      ]
     },
     "metadata": {
      "needs_background": "light"
     },
     "output_type": "display_data"
    }
   ],
   "source": [
    "# Third check the \" educational-num \" is important feature for predicting the target variable \n",
    "plt.figure(figsize=(10,5))\n",
    "sns.scatterplot(data=df_new,x=\"education-num\",y=\"Income\")\n",
    "plt.show()"
   ]
  },
  {
   "cell_type": "markdown",
   "id": "c3b7fb94",
   "metadata": {},
   "source": [
    "### from the above graph we see that \" education-num \" is important input feature for predicting the output"
   ]
  },
  {
   "cell_type": "code",
   "execution_count": 46,
   "id": "489b4b7e",
   "metadata": {},
   "outputs": [
    {
     "data": {
      "image/png": "[encoded data removed]",
      "text/plain": [
       "<Figure size 720x360 with 1 Axes>"
      ]
     },
     "metadata": {
      "needs_background": "light"
     },
     "output_type": "display_data"
    }
   ],
   "source": [
    "# Fourth check the \" capital-gain \" is important feature or not for predicting the target variable\n",
    "plt.figure(figsize=(10,5))\n",
    "sns.scatterplot(data=df_new,x=\"capital-gain\",y=\"Income\")\n",
    "plt.show()"
   ]
  },
  {
   "cell_type": "markdown",
   "id": "5214e19c",
   "metadata": {},
   "source": [
    "### from the above graph we see that \" capital-gain \" is important input feature for predicting the output"
   ]
  },
  {
   "cell_type": "code",
   "execution_count": 47,
   "id": "90b028f0",
   "metadata": {},
   "outputs": [
    {
     "data": {
      "image/png": "[encoded data removed]",
      "text/plain": [
       "<Figure size 720x360 with 1 Axes>"
      ]
     },
     "metadata": {
      "needs_background": "light"
     },
     "output_type": "display_data"
    }
   ],
   "source": [
    "# Fifth check the \" capital-loss \" is important feature or not for predicting the target variable\n",
    "plt.figure(figsize=(10,5))\n",
    "sns.scatterplot(data=df_new,x=\"capital-loss\",y=\"Income\")\n",
    "plt.show()"
   ]
  },
  {
   "cell_type": "markdown",
   "id": "195994e9",
   "metadata": {},
   "source": [
    "### from the above graph we see that \" capital-loss \" is important input feature for predicting the output"
   ]
  },
  {
   "cell_type": "code",
   "execution_count": 48,
   "id": "68766273",
   "metadata": {},
   "outputs": [
    {
     "data": {
      "image/png": "[encoded data removed]",
      "text/plain": [
       "<Figure size 720x360 with 1 Axes>"
      ]
     },
     "metadata": {
      "needs_background": "light"
     },
     "output_type": "display_data"
    }
   ],
   "source": [
    "# Sixth check the \" hours-per-week \" is important feature or not for predicting the target variable \n",
    "plt.figure(figsize=(10,5))\n",
    "sns.scatterplot(data=df_new,x=\"hours-per-week\",y=\"Income\")\n",
    "plt.show()"
   ]
  },
  {
   "cell_type": "markdown",
   "id": "d0ac9d0c",
   "metadata": {},
   "source": [
    "### from the above we see that \" hours-per-week \" is important input feature for predicting the output"
   ]
  },
  {
   "cell_type": "raw",
   "id": "bf6a2197",
   "metadata": {},
   "source": [
    "Conclusion = \n",
    "                important input features are \n",
    "                1. sex\n",
    "                2. educatiion\n",
    "                3. relationship\n",
    "                4. age\n",
    "                5. fnlwgt\n",
    "                6. education-num\n",
    "                7. capital-gain\n",
    "                8. capital-loss\n",
    "                        \n",
    "                rest are not important for predict the output\n",
    "               "
   ]
  },
  {
   "cell_type": "code",
   "execution_count": 49,
   "id": "fd884e06",
   "metadata": {},
   "outputs": [],
   "source": [
    "X = df_new[[\"sex\",\"education\",\"relationship\",\"age\",\"fnlwgt\",\"education-num\",\"capital-gain\",\"capital-loss\"]]\n",
    "Y = df_new[\"Income\"]"
   ]
  },
  {
   "cell_type": "code",
   "execution_count": 50,
   "id": "68c83db6",
   "metadata": {},
   "outputs": [],
   "source": [
    "X_train,X_test,Y_train,Y_test = train_test_split(X,Y,test_size=0.3,random_state=1)"
   ]
  },
  {
   "cell_type": "code",
   "execution_count": 51,
   "id": "4e1e7b9a",
   "metadata": {},
   "outputs": [],
   "source": [
    "lr = LogisticRegression()"
   ]
  },
  {
   "cell_type": "code",
   "execution_count": 52,
   "id": "c9ac36d0",
   "metadata": {},
   "outputs": [
    {
     "data": {
      "text/plain": [
       "LogisticRegression()"
      ]
     },
     "execution_count": 52,
     "metadata": {},
     "output_type": "execute_result"
    }
   ],
   "source": [
    "# Traint the model \n",
    "lr.fit(X_train,Y_train)"
   ]
  },
  {
   "cell_type": "code",
   "execution_count": 53,
   "id": "c1e5330a",
   "metadata": {},
   "outputs": [],
   "source": [
    "# Testing the model\n",
    "Y_pred = lr.predict(X_test)"
   ]
  },
  {
   "cell_type": "code",
   "execution_count": 54,
   "id": "fa1a252f",
   "metadata": {},
   "outputs": [
    {
     "name": "stdout",
     "output_type": "stream",
     "text": [
      "Classification Report : \n",
      "              precision    recall  f1-score   support\n",
      "\n",
      "           0       0.80      0.96      0.87       238\n",
      "           1       0.62      0.22      0.33        72\n",
      "\n",
      "    accuracy                           0.79       310\n",
      "   macro avg       0.71      0.59      0.60       310\n",
      "weighted avg       0.76      0.79      0.75       310\n",
      "\n",
      "Confusion Matrix : \n",
      "[[228  10]\n",
      " [ 56  16]]\n"
     ]
    }
   ],
   "source": [
    "print(\"Classification Report : \")\n",
    "print(classification_report(Y_test,Y_pred))\n",
    "print(\"Confusion Matrix : \")\n",
    "print(confusion_matrix(Y_test,Y_pred))"
   ]
  },
  {
   "cell_type": "markdown",
   "id": "47acb5d5",
   "metadata": {},
   "source": [
    "### The Recall - Score is very bad because the data is unbalanced. "
   ]
  },
  {
   "cell_type": "code",
   "execution_count": null,
   "id": "324d2726",
   "metadata": {},
   "outputs": [],
   "source": []
  }
 ],
 "metadata": {
  "kernelspec": {
   "display_name": "Python 3",
   "language": "python",
   "name": "python3"
  },
  "language_info": {
   "codemirror_mode": {
    "name": "ipython",
    "version": 3
   },
   "file_extension": ".py",
   "mimetype": "text/x-python",
   "name": "python",
   "nbconvert_exporter": "python",
   "pygments_lexer": "ipython3",
   "version": "3.8.8"
  }
 },
 "nbformat": 4,
 "nbformat_minor": 5
}
