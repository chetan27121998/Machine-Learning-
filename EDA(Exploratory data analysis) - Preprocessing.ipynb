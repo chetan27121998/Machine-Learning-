{
 "cells": [
  {
   "cell_type": "markdown",
   "id": "841cb5aa",
   "metadata": {},
   "source": [
    "### Regression :  to predict continous numerical value.\n",
    "### Classification : to predict categorical type data means Y/N or  T/F or 1/0.\n",
    "\n",
    "### Python Programming / R Programming \n",
    "\n",
    "###  If use Python : knowledge of python 's tools / library.\n",
    "### 1.) NumPy\n",
    "### 2.) Pandas\n",
    "### 3.) Matplotlib\n",
    "### 4.) Seaborn\n",
    "### 5.) sklearn \n",
    "### 6.) Scipy\n",
    "\n",
    "### Pandas library is a data analysis tool used for data manipulation, Numpy for scientific computing and Matplotlib & Seaborn for data visualization.\n",
    "\n",
    "### Statistics knowledge : mean, mode, median, skeweness, normal distribution,\n",
    "### standard deviation, variance\n",
    "### Linear Algebra\n",
    "### Probability."
   ]
  },
  {
   "cell_type": "markdown",
   "id": "a871170a",
   "metadata": {},
   "source": [
    "# EDA(Exploratory data analysis) - Preprocessing"
   ]
  },
  {
   "cell_type": "markdown",
   "id": "e7c637cf",
   "metadata": {},
   "source": [
    "steps of EDA (Exploratory data analysis)\n",
    " \n",
    "     To clean Data before feed the data in computer.\n",
    "\n",
    "        1.) Handle Missing values.\n",
    "        2.) Handling outliers.\n",
    "        3.) Handling skeweness.\n",
    "        4.) Handling Categorical Data.\n",
    "        5.) Feature Engineering."
   ]
  },
  {
   "cell_type": "code",
   "execution_count": 1,
   "id": "7e28e461",
   "metadata": {
    "scrolled": true
   },
   "outputs": [],
   "source": [
    "# This necessary library used in data science \n",
    "import numpy as np\n",
    "import pandas as pd\n",
    "import matplotlib.pyplot as plt\n",
    "import seaborn as sns\n",
    "import warnings   # to avoid the warnings during executing the program\n",
    "warnings.filterwarnings('ignore')"
   ]
  },
  {
   "cell_type": "markdown",
   "id": "85391fa9",
   "metadata": {},
   "source": [
    "# 1.) Missing Values"
   ]
  },
  {
   "cell_type": "markdown",
   "id": "d6252c60",
   "metadata": {},
   "source": [
    "#### Create a DataFrame"
   ]
  },
  {
   "cell_type": "code",
   "execution_count": 2,
   "id": "d9c89386",
   "metadata": {
    "scrolled": true
   },
   "outputs": [
    {
     "data": {
      "text/plain": [
       "nan"
      ]
     },
     "execution_count": 2,
     "metadata": {},
     "output_type": "execute_result"
    }
   ],
   "source": [
    "# To Generate the null values\n",
    "np.nan"
   ]
  },
  {
   "cell_type": "code",
   "execution_count": 3,
   "id": "33eb69e8",
   "metadata": {
    "scrolled": true
   },
   "outputs": [],
   "source": [
    "name=['Kamal','John','Siya','Sunita','Anirudh']\n",
    "# if we put the speical character \"-\",zeros'0' instead of null, \n",
    "# then it will convert the list as string format.\n",
    "math=[89,78,67,np.nan,85] \n",
    "science=[78,75,np.nan,np.nan,76]"
   ]
  },
  {
   "cell_type": "markdown",
   "id": "af6fd9c0",
   "metadata": {},
   "source": [
    "#### Create a dictionary with the help of above list"
   ]
  },
  {
   "cell_type": "code",
   "execution_count": 4,
   "id": "d9efd1f3",
   "metadata": {
    "scrolled": true
   },
   "outputs": [
    {
     "data": {
      "text/plain": [
       "{'Name': ['Kamal', 'John', 'Siya', 'Sunita', 'Anirudh'],\n",
       " 'Math': [89, 78, 67, nan, 85],\n",
       " 'Science': [78, 75, nan, nan, 76]}"
      ]
     },
     "execution_count": 4,
     "metadata": {},
     "output_type": "execute_result"
    }
   ],
   "source": [
    "dic={'Name':name,'Math':math,'Science':science}\n",
    "dic"
   ]
  },
  {
   "cell_type": "markdown",
   "id": "da1123ed",
   "metadata": {},
   "source": [
    "#### Create a DataFrame from Dictionary"
   ]
  },
  {
   "cell_type": "code",
   "execution_count": 5,
   "id": "0b8961bb",
   "metadata": {
    "scrolled": true
   },
   "outputs": [
    {
     "data": {
      "text/html": [
       "<div>\n",
       "<style scoped>\n",
       "    .dataframe tbody tr th:only-of-type {\n",
       "        vertical-align: middle;\n",
       "    }\n",
       "\n",
       "    .dataframe tbody tr th {\n",
       "        vertical-align: top;\n",
       "    }\n",
       "\n",
       "    .dataframe thead th {\n",
       "        text-align: right;\n",
       "    }\n",
       "</style>\n",
       "<table border=\"1\" class=\"dataframe\">\n",
       "  <thead>\n",
       "    <tr style=\"text-align: right;\">\n",
       "      <th></th>\n",
       "      <th>Name</th>\n",
       "      <th>Math</th>\n",
       "      <th>Science</th>\n",
       "    </tr>\n",
       "  </thead>\n",
       "  <tbody>\n",
       "    <tr>\n",
       "      <th>0</th>\n",
       "      <td>Kamal</td>\n",
       "      <td>89.0</td>\n",
       "      <td>78.0</td>\n",
       "    </tr>\n",
       "    <tr>\n",
       "      <th>1</th>\n",
       "      <td>John</td>\n",
       "      <td>78.0</td>\n",
       "      <td>75.0</td>\n",
       "    </tr>\n",
       "    <tr>\n",
       "      <th>2</th>\n",
       "      <td>Siya</td>\n",
       "      <td>67.0</td>\n",
       "      <td>NaN</td>\n",
       "    </tr>\n",
       "    <tr>\n",
       "      <th>3</th>\n",
       "      <td>Sunita</td>\n",
       "      <td>NaN</td>\n",
       "      <td>NaN</td>\n",
       "    </tr>\n",
       "    <tr>\n",
       "      <th>4</th>\n",
       "      <td>Anirudh</td>\n",
       "      <td>85.0</td>\n",
       "      <td>76.0</td>\n",
       "    </tr>\n",
       "  </tbody>\n",
       "</table>\n",
       "</div>"
      ],
      "text/plain": [
       "      Name  Math  Science\n",
       "0    Kamal  89.0     78.0\n",
       "1     John  78.0     75.0\n",
       "2     Siya  67.0      NaN\n",
       "3   Sunita   NaN      NaN\n",
       "4  Anirudh  85.0     76.0"
      ]
     },
     "execution_count": 5,
     "metadata": {},
     "output_type": "execute_result"
    }
   ],
   "source": [
    "df=pd.DataFrame(dic)\n",
    "df"
   ]
  },
  {
   "cell_type": "markdown",
   "id": "a1f459ad",
   "metadata": {},
   "source": [
    "#### Check null values if existing dataframe df : use inbuilt method \" isnull() \""
   ]
  },
  {
   "cell_type": "code",
   "execution_count": 6,
   "id": "e5d40187",
   "metadata": {
    "scrolled": true
   },
   "outputs": [
    {
     "data": {
      "text/html": [
       "<div>\n",
       "<style scoped>\n",
       "    .dataframe tbody tr th:only-of-type {\n",
       "        vertical-align: middle;\n",
       "    }\n",
       "\n",
       "    .dataframe tbody tr th {\n",
       "        vertical-align: top;\n",
       "    }\n",
       "\n",
       "    .dataframe thead th {\n",
       "        text-align: right;\n",
       "    }\n",
       "</style>\n",
       "<table border=\"1\" class=\"dataframe\">\n",
       "  <thead>\n",
       "    <tr style=\"text-align: right;\">\n",
       "      <th></th>\n",
       "      <th>Name</th>\n",
       "      <th>Math</th>\n",
       "      <th>Science</th>\n",
       "    </tr>\n",
       "  </thead>\n",
       "  <tbody>\n",
       "    <tr>\n",
       "      <th>0</th>\n",
       "      <td>False</td>\n",
       "      <td>False</td>\n",
       "      <td>False</td>\n",
       "    </tr>\n",
       "    <tr>\n",
       "      <th>1</th>\n",
       "      <td>False</td>\n",
       "      <td>False</td>\n",
       "      <td>False</td>\n",
       "    </tr>\n",
       "    <tr>\n",
       "      <th>2</th>\n",
       "      <td>False</td>\n",
       "      <td>False</td>\n",
       "      <td>True</td>\n",
       "    </tr>\n",
       "    <tr>\n",
       "      <th>3</th>\n",
       "      <td>False</td>\n",
       "      <td>True</td>\n",
       "      <td>True</td>\n",
       "    </tr>\n",
       "    <tr>\n",
       "      <th>4</th>\n",
       "      <td>False</td>\n",
       "      <td>False</td>\n",
       "      <td>False</td>\n",
       "    </tr>\n",
       "  </tbody>\n",
       "</table>\n",
       "</div>"
      ],
      "text/plain": [
       "    Name   Math  Science\n",
       "0  False  False    False\n",
       "1  False  False    False\n",
       "2  False  False     True\n",
       "3  False   True     True\n",
       "4  False  False    False"
      ]
     },
     "execution_count": 6,
     "metadata": {},
     "output_type": "execute_result"
    }
   ],
   "source": [
    "df.isnull()"
   ]
  },
  {
   "cell_type": "markdown",
   "id": "34e7bc77",
   "metadata": {},
   "source": [
    "#### Find number of null values in each column."
   ]
  },
  {
   "cell_type": "code",
   "execution_count": 7,
   "id": "c1fceee7",
   "metadata": {
    "scrolled": true
   },
   "outputs": [
    {
     "data": {
      "text/plain": [
       "Name       0\n",
       "Math       1\n",
       "Science    2\n",
       "dtype: int64"
      ]
     },
     "execution_count": 7,
     "metadata": {},
     "output_type": "execute_result"
    }
   ],
   "source": [
    "df.isnull().sum()"
   ]
  },
  {
   "cell_type": "markdown",
   "id": "0e143b4d",
   "metadata": {},
   "source": [
    "#### Dropna() : To delete those rows whose found null but remove temporary from DataFrame"
   ]
  },
  {
   "cell_type": "code",
   "execution_count": 8,
   "id": "9c04347e",
   "metadata": {
    "scrolled": true
   },
   "outputs": [
    {
     "data": {
      "text/html": [
       "<div>\n",
       "<style scoped>\n",
       "    .dataframe tbody tr th:only-of-type {\n",
       "        vertical-align: middle;\n",
       "    }\n",
       "\n",
       "    .dataframe tbody tr th {\n",
       "        vertical-align: top;\n",
       "    }\n",
       "\n",
       "    .dataframe thead th {\n",
       "        text-align: right;\n",
       "    }\n",
       "</style>\n",
       "<table border=\"1\" class=\"dataframe\">\n",
       "  <thead>\n",
       "    <tr style=\"text-align: right;\">\n",
       "      <th></th>\n",
       "      <th>Name</th>\n",
       "      <th>Math</th>\n",
       "      <th>Science</th>\n",
       "    </tr>\n",
       "  </thead>\n",
       "  <tbody>\n",
       "    <tr>\n",
       "      <th>0</th>\n",
       "      <td>Kamal</td>\n",
       "      <td>89.0</td>\n",
       "      <td>78.0</td>\n",
       "    </tr>\n",
       "    <tr>\n",
       "      <th>1</th>\n",
       "      <td>John</td>\n",
       "      <td>78.0</td>\n",
       "      <td>75.0</td>\n",
       "    </tr>\n",
       "    <tr>\n",
       "      <th>4</th>\n",
       "      <td>Anirudh</td>\n",
       "      <td>85.0</td>\n",
       "      <td>76.0</td>\n",
       "    </tr>\n",
       "  </tbody>\n",
       "</table>\n",
       "</div>"
      ],
      "text/plain": [
       "      Name  Math  Science\n",
       "0    Kamal  89.0     78.0\n",
       "1     John  78.0     75.0\n",
       "4  Anirudh  85.0     76.0"
      ]
     },
     "execution_count": 8,
     "metadata": {},
     "output_type": "execute_result"
    }
   ],
   "source": [
    "df.dropna()    # axis is not define then top to buttom row vise, \n",
    "               # by default axis=0"
   ]
  },
  {
   "cell_type": "markdown",
   "id": "81988426",
   "metadata": {},
   "source": [
    "#### To delete those columns whose found null values but temporary remove "
   ]
  },
  {
   "cell_type": "code",
   "execution_count": 9,
   "id": "91178f4b",
   "metadata": {
    "scrolled": true
   },
   "outputs": [
    {
     "data": {
      "text/html": [
       "<div>\n",
       "<style scoped>\n",
       "    .dataframe tbody tr th:only-of-type {\n",
       "        vertical-align: middle;\n",
       "    }\n",
       "\n",
       "    .dataframe tbody tr th {\n",
       "        vertical-align: top;\n",
       "    }\n",
       "\n",
       "    .dataframe thead th {\n",
       "        text-align: right;\n",
       "    }\n",
       "</style>\n",
       "<table border=\"1\" class=\"dataframe\">\n",
       "  <thead>\n",
       "    <tr style=\"text-align: right;\">\n",
       "      <th></th>\n",
       "      <th>Name</th>\n",
       "    </tr>\n",
       "  </thead>\n",
       "  <tbody>\n",
       "    <tr>\n",
       "      <th>0</th>\n",
       "      <td>Kamal</td>\n",
       "    </tr>\n",
       "    <tr>\n",
       "      <th>1</th>\n",
       "      <td>John</td>\n",
       "    </tr>\n",
       "    <tr>\n",
       "      <th>2</th>\n",
       "      <td>Siya</td>\n",
       "    </tr>\n",
       "    <tr>\n",
       "      <th>3</th>\n",
       "      <td>Sunita</td>\n",
       "    </tr>\n",
       "    <tr>\n",
       "      <th>4</th>\n",
       "      <td>Anirudh</td>\n",
       "    </tr>\n",
       "  </tbody>\n",
       "</table>\n",
       "</div>"
      ],
      "text/plain": [
       "      Name\n",
       "0    Kamal\n",
       "1     John\n",
       "2     Siya\n",
       "3   Sunita\n",
       "4  Anirudh"
      ]
     },
     "execution_count": 9,
     "metadata": {},
     "output_type": "execute_result"
    }
   ],
   "source": [
    "df.dropna(axis=1)  # axis is define as 1 then row vise delete the columns from left to right."
   ]
  },
  {
   "cell_type": "markdown",
   "id": "a353edb7",
   "metadata": {},
   "source": [
    "#### To delete the 3rd row Because Maximum null values occurs in this row, but temporary."
   ]
  },
  {
   "cell_type": "code",
   "execution_count": 10,
   "id": "7b06c9c3",
   "metadata": {
    "scrolled": true
   },
   "outputs": [
    {
     "data": {
      "text/html": [
       "<div>\n",
       "<style scoped>\n",
       "    .dataframe tbody tr th:only-of-type {\n",
       "        vertical-align: middle;\n",
       "    }\n",
       "\n",
       "    .dataframe tbody tr th {\n",
       "        vertical-align: top;\n",
       "    }\n",
       "\n",
       "    .dataframe thead th {\n",
       "        text-align: right;\n",
       "    }\n",
       "</style>\n",
       "<table border=\"1\" class=\"dataframe\">\n",
       "  <thead>\n",
       "    <tr style=\"text-align: right;\">\n",
       "      <th></th>\n",
       "      <th>Name</th>\n",
       "      <th>Math</th>\n",
       "      <th>Science</th>\n",
       "    </tr>\n",
       "  </thead>\n",
       "  <tbody>\n",
       "    <tr>\n",
       "      <th>0</th>\n",
       "      <td>Kamal</td>\n",
       "      <td>89.0</td>\n",
       "      <td>78.0</td>\n",
       "    </tr>\n",
       "    <tr>\n",
       "      <th>1</th>\n",
       "      <td>John</td>\n",
       "      <td>78.0</td>\n",
       "      <td>75.0</td>\n",
       "    </tr>\n",
       "    <tr>\n",
       "      <th>2</th>\n",
       "      <td>Siya</td>\n",
       "      <td>67.0</td>\n",
       "      <td>NaN</td>\n",
       "    </tr>\n",
       "    <tr>\n",
       "      <th>4</th>\n",
       "      <td>Anirudh</td>\n",
       "      <td>85.0</td>\n",
       "      <td>76.0</td>\n",
       "    </tr>\n",
       "  </tbody>\n",
       "</table>\n",
       "</div>"
      ],
      "text/plain": [
       "      Name  Math  Science\n",
       "0    Kamal  89.0     78.0\n",
       "1     John  78.0     75.0\n",
       "2     Siya  67.0      NaN\n",
       "4  Anirudh  85.0     76.0"
      ]
     },
     "execution_count": 10,
     "metadata": {},
     "output_type": "execute_result"
    }
   ],
   "source": [
    "df.drop(3)  # DataFrame.drop(row_index)"
   ]
  },
  {
   "cell_type": "markdown",
   "id": "275aa286",
   "metadata": {},
   "source": [
    "#### To delete the science columns Because Maximum null values occurs in this column, but temporary."
   ]
  },
  {
   "cell_type": "code",
   "execution_count": 11,
   "id": "35583c4b",
   "metadata": {
    "scrolled": true
   },
   "outputs": [
    {
     "data": {
      "text/html": [
       "<div>\n",
       "<style scoped>\n",
       "    .dataframe tbody tr th:only-of-type {\n",
       "        vertical-align: middle;\n",
       "    }\n",
       "\n",
       "    .dataframe tbody tr th {\n",
       "        vertical-align: top;\n",
       "    }\n",
       "\n",
       "    .dataframe thead th {\n",
       "        text-align: right;\n",
       "    }\n",
       "</style>\n",
       "<table border=\"1\" class=\"dataframe\">\n",
       "  <thead>\n",
       "    <tr style=\"text-align: right;\">\n",
       "      <th></th>\n",
       "      <th>Name</th>\n",
       "      <th>Math</th>\n",
       "    </tr>\n",
       "  </thead>\n",
       "  <tbody>\n",
       "    <tr>\n",
       "      <th>0</th>\n",
       "      <td>Kamal</td>\n",
       "      <td>89.0</td>\n",
       "    </tr>\n",
       "    <tr>\n",
       "      <th>1</th>\n",
       "      <td>John</td>\n",
       "      <td>78.0</td>\n",
       "    </tr>\n",
       "    <tr>\n",
       "      <th>2</th>\n",
       "      <td>Siya</td>\n",
       "      <td>67.0</td>\n",
       "    </tr>\n",
       "    <tr>\n",
       "      <th>3</th>\n",
       "      <td>Sunita</td>\n",
       "      <td>NaN</td>\n",
       "    </tr>\n",
       "    <tr>\n",
       "      <th>4</th>\n",
       "      <td>Anirudh</td>\n",
       "      <td>85.0</td>\n",
       "    </tr>\n",
       "  </tbody>\n",
       "</table>\n",
       "</div>"
      ],
      "text/plain": [
       "      Name  Math\n",
       "0    Kamal  89.0\n",
       "1     John  78.0\n",
       "2     Siya  67.0\n",
       "3   Sunita   NaN\n",
       "4  Anirudh  85.0"
      ]
     },
     "execution_count": 11,
     "metadata": {},
     "output_type": "execute_result"
    }
   ],
   "source": [
    "# Always use axis=1 when deleting the columns because by default its axis=0.\n",
    "df.drop(['Science'],axis=1)"
   ]
  },
  {
   "cell_type": "markdown",
   "id": "21be6c2c",
   "metadata": {},
   "source": [
    "#### How many row and columns in dataset?\n"
   ]
  },
  {
   "cell_type": "code",
   "execution_count": 12,
   "id": "0f316af8",
   "metadata": {
    "scrolled": true
   },
   "outputs": [
    {
     "data": {
      "text/plain": [
       "(5, 3)"
      ]
     },
     "execution_count": 12,
     "metadata": {},
     "output_type": "execute_result"
    }
   ],
   "source": [
    "df.shape  #(first = No.of rows, Second = No. of columns)"
   ]
  },
  {
   "cell_type": "markdown",
   "id": "8f2915dc",
   "metadata": {},
   "source": [
    "#### How many rows in given dataset?\n"
   ]
  },
  {
   "cell_type": "code",
   "execution_count": 13,
   "id": "31d84568",
   "metadata": {
    "scrolled": true
   },
   "outputs": [
    {
     "data": {
      "text/plain": [
       "5"
      ]
     },
     "execution_count": 13,
     "metadata": {},
     "output_type": "execute_result"
    }
   ],
   "source": [
    "df.shape[0]"
   ]
  },
  {
   "cell_type": "markdown",
   "id": "e2ffd175",
   "metadata": {},
   "source": [
    "#### How many columns in given dataset?"
   ]
  },
  {
   "cell_type": "code",
   "execution_count": 14,
   "id": "f81357cb",
   "metadata": {
    "scrolled": true
   },
   "outputs": [
    {
     "data": {
      "text/plain": [
       "3"
      ]
     },
     "execution_count": 14,
     "metadata": {},
     "output_type": "execute_result"
    }
   ],
   "source": [
    "df.shape[1]"
   ]
  },
  {
   "cell_type": "markdown",
   "id": "972826a0",
   "metadata": {},
   "source": [
    "#### Find the Percentage of null values in column\n",
    "percent= 100*(len(df.loc[:,df.isnull().sum(axis=0)>=1 ].index) / len(df.index))"
   ]
  },
  {
   "cell_type": "code",
   "execution_count": 15,
   "id": "5d985e0a",
   "metadata": {
    "scrolled": true
   },
   "outputs": [
    {
     "name": "stdout",
     "output_type": "stream",
     "text": [
      "Name        0.0\n",
      "Math       20.0\n",
      "Science    40.0\n",
      "dtype: float64\n"
     ]
    }
   ],
   "source": [
    "percent=100*(df.isnull().sum()/df.shape[0])\n",
    "print(percent)  # We decided not to delete the columns because its less 40%"
   ]
  },
  {
   "cell_type": "markdown",
   "id": "d4f6df65",
   "metadata": {},
   "source": [
    "#### Replacing NULL values\n",
    "         \n",
    "         Replacing means fill all null values with 0,. but its temporary."
   ]
  },
  {
   "cell_type": "code",
   "execution_count": 16,
   "id": "eb2f7f9b",
   "metadata": {
    "scrolled": true
   },
   "outputs": [
    {
     "data": {
      "text/html": [
       "<div>\n",
       "<style scoped>\n",
       "    .dataframe tbody tr th:only-of-type {\n",
       "        vertical-align: middle;\n",
       "    }\n",
       "\n",
       "    .dataframe tbody tr th {\n",
       "        vertical-align: top;\n",
       "    }\n",
       "\n",
       "    .dataframe thead th {\n",
       "        text-align: right;\n",
       "    }\n",
       "</style>\n",
       "<table border=\"1\" class=\"dataframe\">\n",
       "  <thead>\n",
       "    <tr style=\"text-align: right;\">\n",
       "      <th></th>\n",
       "      <th>Name</th>\n",
       "      <th>Math</th>\n",
       "      <th>Science</th>\n",
       "    </tr>\n",
       "  </thead>\n",
       "  <tbody>\n",
       "    <tr>\n",
       "      <th>0</th>\n",
       "      <td>Kamal</td>\n",
       "      <td>89.0</td>\n",
       "      <td>78.0</td>\n",
       "    </tr>\n",
       "    <tr>\n",
       "      <th>1</th>\n",
       "      <td>John</td>\n",
       "      <td>78.0</td>\n",
       "      <td>75.0</td>\n",
       "    </tr>\n",
       "    <tr>\n",
       "      <th>2</th>\n",
       "      <td>Siya</td>\n",
       "      <td>67.0</td>\n",
       "      <td>0.0</td>\n",
       "    </tr>\n",
       "    <tr>\n",
       "      <th>3</th>\n",
       "      <td>Sunita</td>\n",
       "      <td>0.0</td>\n",
       "      <td>0.0</td>\n",
       "    </tr>\n",
       "    <tr>\n",
       "      <th>4</th>\n",
       "      <td>Anirudh</td>\n",
       "      <td>85.0</td>\n",
       "      <td>76.0</td>\n",
       "    </tr>\n",
       "  </tbody>\n",
       "</table>\n",
       "</div>"
      ],
      "text/plain": [
       "      Name  Math  Science\n",
       "0    Kamal  89.0     78.0\n",
       "1     John  78.0     75.0\n",
       "2     Siya  67.0      0.0\n",
       "3   Sunita   0.0      0.0\n",
       "4  Anirudh  85.0     76.0"
      ]
     },
     "execution_count": 16,
     "metadata": {},
     "output_type": "execute_result"
    }
   ],
   "source": [
    "df.fillna(0) # replace null values with 0."
   ]
  },
  {
   "cell_type": "markdown",
   "id": "2033835d",
   "metadata": {},
   "source": [
    "#### Replace null values of math column with average/mean of maths permanently\n",
    "         \n",
    "      First find mean of Math column"
   ]
  },
  {
   "cell_type": "code",
   "execution_count": 17,
   "id": "0d6f02c0",
   "metadata": {
    "scrolled": true
   },
   "outputs": [
    {
     "name": "stdout",
     "output_type": "stream",
     "text": [
      "Mean of Math colummn:  79.75\n"
     ]
    }
   ],
   "source": [
    "m=df['Math'].mean() # inbuilt function\n",
    "print(\"Mean of Math colummn: \",m)"
   ]
  },
  {
   "cell_type": "markdown",
   "id": "56a18f51",
   "metadata": {},
   "source": [
    "#### Permanent fill of null values of math with mean value of math column.\n",
    "\n",
    "        inplace acts as Permanently Changes\n",
    "        df['Math'].fillna(m,inplace=True)"
   ]
  },
  {
   "cell_type": "code",
   "execution_count": 18,
   "id": "9614dcb0",
   "metadata": {
    "scrolled": true
   },
   "outputs": [
    {
     "data": {
      "text/plain": [
       "0    89.00\n",
       "1    78.00\n",
       "2    67.00\n",
       "3    79.75\n",
       "4    85.00\n",
       "Name: Math, dtype: float64"
      ]
     },
     "execution_count": 18,
     "metadata": {},
     "output_type": "execute_result"
    }
   ],
   "source": [
    "df['Math'].fillna(m)"
   ]
  },
  {
   "cell_type": "markdown",
   "id": "93091ecb",
   "metadata": {},
   "source": [
    "#### Replace null values of math column with average/mean of Science permanently\n",
    "         \n",
    "      First find mean of Science column"
   ]
  },
  {
   "cell_type": "code",
   "execution_count": 19,
   "id": "0c7d10b1",
   "metadata": {
    "scrolled": true
   },
   "outputs": [
    {
     "name": "stdout",
     "output_type": "stream",
     "text": [
      "Mean of Science Column :  76.33\n"
     ]
    }
   ],
   "source": [
    "m=round(df['Science'].mean(),2)\n",
    "print('Mean of Science Column : ',m)"
   ]
  },
  {
   "cell_type": "code",
   "execution_count": 20,
   "id": "77d937ec",
   "metadata": {
    "scrolled": true
   },
   "outputs": [
    {
     "data": {
      "text/plain": [
       "0    78.00\n",
       "1    75.00\n",
       "2    76.33\n",
       "3    76.33\n",
       "4    76.00\n",
       "Name: Science, dtype: float64"
      ]
     },
     "execution_count": 20,
     "metadata": {},
     "output_type": "execute_result"
    }
   ],
   "source": [
    "df['Science'].fillna(m) # Temporary"
   ]
  },
  {
   "cell_type": "markdown",
   "id": "6ac42061",
   "metadata": {},
   "source": [
    "#### Work on Real Dataset Automobile_data.csv\n",
    "#####         To Load dataset"
   ]
  },
  {
   "cell_type": "code",
   "execution_count": 21,
   "id": "e57d2495",
   "metadata": {
    "scrolled": true
   },
   "outputs": [],
   "source": [
    "car=pd.read_csv(\"Automobile_data.csv\")"
   ]
  },
  {
   "cell_type": "code",
   "execution_count": 22,
   "id": "a1b8577f",
   "metadata": {
    "scrolled": true
   },
   "outputs": [
    {
     "data": {
      "text/html": [
       "<div>\n",
       "<style scoped>\n",
       "    .dataframe tbody tr th:only-of-type {\n",
       "        vertical-align: middle;\n",
       "    }\n",
       "\n",
       "    .dataframe tbody tr th {\n",
       "        vertical-align: top;\n",
       "    }\n",
       "\n",
       "    .dataframe thead th {\n",
       "        text-align: right;\n",
       "    }\n",
       "</style>\n",
       "<table border=\"1\" class=\"dataframe\">\n",
       "  <thead>\n",
       "    <tr style=\"text-align: right;\">\n",
       "      <th></th>\n",
       "      <th>symboling</th>\n",
       "      <th>normalized-losses</th>\n",
       "      <th>make</th>\n",
       "      <th>fuel-type</th>\n",
       "      <th>body-style</th>\n",
       "      <th>drive-wheels</th>\n",
       "      <th>engine-location</th>\n",
       "      <th>width</th>\n",
       "      <th>height</th>\n",
       "      <th>engine-type</th>\n",
       "      <th>engine-size</th>\n",
       "      <th>horsepower</th>\n",
       "      <th>city-mpg</th>\n",
       "      <th>highway-mpg</th>\n",
       "      <th>price</th>\n",
       "    </tr>\n",
       "  </thead>\n",
       "  <tbody>\n",
       "    <tr>\n",
       "      <th>0</th>\n",
       "      <td>3</td>\n",
       "      <td>?</td>\n",
       "      <td>alfa-romero</td>\n",
       "      <td>gas</td>\n",
       "      <td>convertible</td>\n",
       "      <td>rwd</td>\n",
       "      <td>front</td>\n",
       "      <td>64.1</td>\n",
       "      <td>48.8</td>\n",
       "      <td>dohc</td>\n",
       "      <td>130</td>\n",
       "      <td>111</td>\n",
       "      <td>21</td>\n",
       "      <td>27</td>\n",
       "      <td>13495</td>\n",
       "    </tr>\n",
       "    <tr>\n",
       "      <th>1</th>\n",
       "      <td>3</td>\n",
       "      <td>?</td>\n",
       "      <td>alfa-romero</td>\n",
       "      <td>gas</td>\n",
       "      <td>convertible</td>\n",
       "      <td>rwd</td>\n",
       "      <td>front</td>\n",
       "      <td>64.1</td>\n",
       "      <td>48.8</td>\n",
       "      <td>dohc</td>\n",
       "      <td>130</td>\n",
       "      <td>111</td>\n",
       "      <td>21</td>\n",
       "      <td>27</td>\n",
       "      <td>16500</td>\n",
       "    </tr>\n",
       "    <tr>\n",
       "      <th>2</th>\n",
       "      <td>1</td>\n",
       "      <td>?</td>\n",
       "      <td>alfa-romero</td>\n",
       "      <td>gas</td>\n",
       "      <td>hatchback</td>\n",
       "      <td>rwd</td>\n",
       "      <td>front</td>\n",
       "      <td>65.5</td>\n",
       "      <td>52.4</td>\n",
       "      <td>ohcv</td>\n",
       "      <td>152</td>\n",
       "      <td>154</td>\n",
       "      <td>19</td>\n",
       "      <td>26</td>\n",
       "      <td>16500</td>\n",
       "    </tr>\n",
       "    <tr>\n",
       "      <th>3</th>\n",
       "      <td>2</td>\n",
       "      <td>164</td>\n",
       "      <td>audi</td>\n",
       "      <td>gas</td>\n",
       "      <td>sedan</td>\n",
       "      <td>fwd</td>\n",
       "      <td>front</td>\n",
       "      <td>66.2</td>\n",
       "      <td>54.3</td>\n",
       "      <td>ohc</td>\n",
       "      <td>109</td>\n",
       "      <td>102</td>\n",
       "      <td>24</td>\n",
       "      <td>30</td>\n",
       "      <td>13950</td>\n",
       "    </tr>\n",
       "    <tr>\n",
       "      <th>4</th>\n",
       "      <td>2</td>\n",
       "      <td>164</td>\n",
       "      <td>audi</td>\n",
       "      <td>gas</td>\n",
       "      <td>sedan</td>\n",
       "      <td>4wd</td>\n",
       "      <td>front</td>\n",
       "      <td>66.4</td>\n",
       "      <td>54.3</td>\n",
       "      <td>ohc</td>\n",
       "      <td>136</td>\n",
       "      <td>115</td>\n",
       "      <td>18</td>\n",
       "      <td>22</td>\n",
       "      <td>17450</td>\n",
       "    </tr>\n",
       "  </tbody>\n",
       "</table>\n",
       "</div>"
      ],
      "text/plain": [
       "   symboling normalized-losses         make fuel-type   body-style  \\\n",
       "0          3                 ?  alfa-romero       gas  convertible   \n",
       "1          3                 ?  alfa-romero       gas  convertible   \n",
       "2          1                 ?  alfa-romero       gas    hatchback   \n",
       "3          2               164         audi       gas        sedan   \n",
       "4          2               164         audi       gas        sedan   \n",
       "\n",
       "  drive-wheels engine-location  width  height engine-type  engine-size  \\\n",
       "0          rwd           front   64.1    48.8        dohc          130   \n",
       "1          rwd           front   64.1    48.8        dohc          130   \n",
       "2          rwd           front   65.5    52.4        ohcv          152   \n",
       "3          fwd           front   66.2    54.3         ohc          109   \n",
       "4          4wd           front   66.4    54.3         ohc          136   \n",
       "\n",
       "  horsepower  city-mpg  highway-mpg  price  \n",
       "0        111        21           27  13495  \n",
       "1        111        21           27  16500  \n",
       "2        154        19           26  16500  \n",
       "3        102        24           30  13950  \n",
       "4        115        18           22  17450  "
      ]
     },
     "execution_count": 22,
     "metadata": {},
     "output_type": "execute_result"
    }
   ],
   "source": [
    "# First five records.\n",
    "car.head()"
   ]
  },
  {
   "cell_type": "code",
   "execution_count": 23,
   "id": "820f735d",
   "metadata": {
    "scrolled": true
   },
   "outputs": [
    {
     "data": {
      "text/plain": [
       "(205, 15)"
      ]
     },
     "execution_count": 23,
     "metadata": {},
     "output_type": "execute_result"
    }
   ],
   "source": [
    "car.shape"
   ]
  },
  {
   "cell_type": "markdown",
   "id": "49b8b0d3",
   "metadata": {},
   "source": [
    "#### TO check the Missing Values in given Dataset"
   ]
  },
  {
   "cell_type": "code",
   "execution_count": 24,
   "id": "8fb2c53b",
   "metadata": {
    "scrolled": true
   },
   "outputs": [
    {
     "data": {
      "text/plain": [
       "symboling            0\n",
       "normalized-losses    0\n",
       "make                 0\n",
       "fuel-type            0\n",
       "body-style           0\n",
       "drive-wheels         0\n",
       "engine-location      0\n",
       "width                0\n",
       "height               0\n",
       "engine-type          0\n",
       "engine-size          0\n",
       "horsepower           0\n",
       "city-mpg             0\n",
       "highway-mpg          0\n",
       "price                0\n",
       "dtype: int64"
      ]
     },
     "execution_count": 24,
     "metadata": {},
     "output_type": "execute_result"
    }
   ],
   "source": [
    "car.isnull().sum()"
   ]
  },
  {
   "cell_type": "code",
   "execution_count": 25,
   "id": "395bc4ba",
   "metadata": {
    "scrolled": true
   },
   "outputs": [
    {
     "name": "stdout",
     "output_type": "stream",
     "text": [
      "<class 'pandas.core.frame.DataFrame'>\n",
      "RangeIndex: 205 entries, 0 to 204\n",
      "Data columns (total 15 columns):\n",
      " #   Column             Non-Null Count  Dtype  \n",
      "---  ------             --------------  -----  \n",
      " 0   symboling          205 non-null    int64  \n",
      " 1   normalized-losses  205 non-null    object \n",
      " 2   make               205 non-null    object \n",
      " 3   fuel-type          205 non-null    object \n",
      " 4   body-style         205 non-null    object \n",
      " 5   drive-wheels       205 non-null    object \n",
      " 6   engine-location    205 non-null    object \n",
      " 7   width              205 non-null    float64\n",
      " 8   height             205 non-null    float64\n",
      " 9   engine-type        205 non-null    object \n",
      " 10  engine-size        205 non-null    int64  \n",
      " 11  horsepower         205 non-null    object \n",
      " 12  city-mpg           205 non-null    int64  \n",
      " 13  highway-mpg        205 non-null    int64  \n",
      " 14  price              205 non-null    int64  \n",
      "dtypes: float64(2), int64(5), object(8)\n",
      "memory usage: 24.1+ KB\n"
     ]
    }
   ],
   "source": [
    "car.info()"
   ]
  },
  {
   "cell_type": "code",
   "execution_count": 26,
   "id": "be780586",
   "metadata": {
    "scrolled": true
   },
   "outputs": [
    {
     "name": "stdout",
     "output_type": "stream",
     "text": [
      "?\n",
      "?\n"
     ]
    }
   ],
   "source": [
    "for data in car['horsepower']:\n",
    "    if not(str(data).isnumeric()):\n",
    "        print(data)"
   ]
  },
  {
   "cell_type": "code",
   "execution_count": 27,
   "id": "e2d8f329",
   "metadata": {
    "scrolled": true
   },
   "outputs": [
    {
     "data": {
      "text/plain": [
       "<AxesSubplot:>"
      ]
     },
     "execution_count": 27,
     "metadata": {},
     "output_type": "execute_result"
    },
    {
     "data": {
      "image/png": "[encoded data removed]",
      "text/plain": [
       "<Figure size 432x288 with 2 Axes>"
      ]
     },
     "metadata": {
      "needs_background": "light"
     },
     "output_type": "display_data"
    }
   ],
   "source": [
    "sns.heatmap(car.isnull())"
   ]
  },
  {
   "cell_type": "code",
   "execution_count": 28,
   "id": "161b02bb",
   "metadata": {
    "scrolled": true
   },
   "outputs": [],
   "source": [
    "car['horsepower'].replace(\"?\",np.nan,inplace=True) # by defaulcts it take the axis=1"
   ]
  },
  {
   "cell_type": "code",
   "execution_count": 29,
   "id": "9bd17f0b",
   "metadata": {
    "scrolled": true
   },
   "outputs": [
    {
     "data": {
      "text/plain": [
       "<AxesSubplot:>"
      ]
     },
     "execution_count": 29,
     "metadata": {},
     "output_type": "execute_result"
    },
    {
     "data": {
      "image/png": "[encoded data removed]",
      "text/plain": [
       "<Figure size 432x288 with 2 Axes>"
      ]
     },
     "metadata": {
      "needs_background": "light"
     },
     "output_type": "display_data"
    }
   ],
   "source": [
    "sns.heatmap(car.isnull())"
   ]
  },
  {
   "cell_type": "code",
   "execution_count": 30,
   "id": "b750114b",
   "metadata": {
    "scrolled": true
   },
   "outputs": [
    {
     "data": {
      "text/plain": [
       "symboling            0\n",
       "normalized-losses    0\n",
       "make                 0\n",
       "fuel-type            0\n",
       "body-style           0\n",
       "drive-wheels         0\n",
       "engine-location      0\n",
       "width                0\n",
       "height               0\n",
       "engine-type          0\n",
       "engine-size          0\n",
       "horsepower           2\n",
       "city-mpg             0\n",
       "highway-mpg          0\n",
       "price                0\n",
       "dtype: int64"
      ]
     },
     "execution_count": 30,
     "metadata": {},
     "output_type": "execute_result"
    }
   ],
   "source": [
    "car.isnull().sum()"
   ]
  },
  {
   "cell_type": "code",
   "execution_count": 31,
   "id": "3e3d84fa",
   "metadata": {
    "scrolled": true
   },
   "outputs": [
    {
     "name": "stdout",
     "output_type": "stream",
     "text": [
      "<class 'pandas.core.frame.DataFrame'>\n",
      "RangeIndex: 205 entries, 0 to 204\n",
      "Data columns (total 15 columns):\n",
      " #   Column             Non-Null Count  Dtype  \n",
      "---  ------             --------------  -----  \n",
      " 0   symboling          205 non-null    int64  \n",
      " 1   normalized-losses  205 non-null    object \n",
      " 2   make               205 non-null    object \n",
      " 3   fuel-type          205 non-null    object \n",
      " 4   body-style         205 non-null    object \n",
      " 5   drive-wheels       205 non-null    object \n",
      " 6   engine-location    205 non-null    object \n",
      " 7   width              205 non-null    float64\n",
      " 8   height             205 non-null    float64\n",
      " 9   engine-type        205 non-null    object \n",
      " 10  engine-size        205 non-null    int64  \n",
      " 11  horsepower         203 non-null    object \n",
      " 12  city-mpg           205 non-null    int64  \n",
      " 13  highway-mpg        205 non-null    int64  \n",
      " 14  price              205 non-null    int64  \n",
      "dtypes: float64(2), int64(5), object(8)\n",
      "memory usage: 24.1+ KB\n"
     ]
    }
   ],
   "source": [
    "car.info()"
   ]
  },
  {
   "cell_type": "markdown",
   "id": "3b1e7724",
   "metadata": {},
   "source": [
    "#### To show particular data type of column"
   ]
  },
  {
   "cell_type": "code",
   "execution_count": 32,
   "id": "f4496d81",
   "metadata": {
    "scrolled": true
   },
   "outputs": [
    {
     "data": {
      "text/plain": [
       "dtype('O')"
      ]
     },
     "execution_count": 32,
     "metadata": {},
     "output_type": "execute_result"
    }
   ],
   "source": [
    "car['horsepower'].dtype"
   ]
  },
  {
   "cell_type": "markdown",
   "id": "1acd4233",
   "metadata": {},
   "source": [
    "##### To change data type of particular column from object to float and its the permanent change"
   ]
  },
  {
   "cell_type": "code",
   "execution_count": 33,
   "id": "4ecdf8cc",
   "metadata": {
    "scrolled": true
   },
   "outputs": [],
   "source": [
    "car['horsepower']=car['horsepower'].astype('float')"
   ]
  },
  {
   "cell_type": "code",
   "execution_count": 34,
   "id": "6cd283ea",
   "metadata": {
    "scrolled": true
   },
   "outputs": [
    {
     "data": {
      "text/plain": [
       "dtype('float64')"
      ]
     },
     "execution_count": 34,
     "metadata": {},
     "output_type": "execute_result"
    }
   ],
   "source": [
    "car['horsepower'].dtype"
   ]
  },
  {
   "cell_type": "markdown",
   "id": "2fef856f",
   "metadata": {},
   "source": [
    "#### To check how many percent null values in the columns ' horsepower ', if its greater than 40% then we drop the null value with the mean () and if its less 40% then we replace the column with mean   the particular column from the dataset"
   ]
  },
  {
   "cell_type": "code",
   "execution_count": 35,
   "id": "67019b16",
   "metadata": {
    "scrolled": true
   },
   "outputs": [
    {
     "data": {
      "text/plain": [
       "0.975609756097561"
      ]
     },
     "execution_count": 35,
     "metadata": {},
     "output_type": "execute_result"
    }
   ],
   "source": [
    "car['horsepower'].isnull().sum()*100/car.shape[0]"
   ]
  },
  {
   "cell_type": "markdown",
   "id": "b15f0c7d",
   "metadata": {},
   "source": [
    "#### To replace null values of horsepower column with mean of horsepower column permanently\n",
    "#### Find mean/Average of horsepower column"
   ]
  },
  {
   "cell_type": "code",
   "execution_count": 36,
   "id": "593fc150",
   "metadata": {
    "scrolled": true
   },
   "outputs": [],
   "source": [
    "m=car['horsepower'].mean()\n",
    "car['horsepower'].fillna(m,inplace=True)"
   ]
  },
  {
   "cell_type": "code",
   "execution_count": 37,
   "id": "8548f840",
   "metadata": {
    "scrolled": true
   },
   "outputs": [
    {
     "data": {
      "text/plain": [
       "symboling            0\n",
       "normalized-losses    0\n",
       "make                 0\n",
       "fuel-type            0\n",
       "body-style           0\n",
       "drive-wheels         0\n",
       "engine-location      0\n",
       "width                0\n",
       "height               0\n",
       "engine-type          0\n",
       "engine-size          0\n",
       "horsepower           0\n",
       "city-mpg             0\n",
       "highway-mpg          0\n",
       "price                0\n",
       "dtype: int64"
      ]
     },
     "execution_count": 37,
     "metadata": {},
     "output_type": "execute_result"
    }
   ],
   "source": [
    "# Check the null values\n",
    "car.isnull().sum()"
   ]
  },
  {
   "cell_type": "markdown",
   "id": "d47ca1a4",
   "metadata": {},
   "source": [
    "#### Similar process apply of normalized losses column"
   ]
  },
  {
   "cell_type": "code",
   "execution_count": 38,
   "id": "06464a91",
   "metadata": {
    "scrolled": true
   },
   "outputs": [
    {
     "name": "stdout",
     "output_type": "stream",
     "text": [
      "?\n",
      "?\n",
      "?\n",
      "?\n",
      "?\n",
      "?\n",
      "?\n",
      "?\n",
      "?\n",
      "?\n",
      "?\n",
      "?\n",
      "?\n",
      "?\n",
      "?\n",
      "?\n",
      "?\n",
      "?\n",
      "?\n",
      "?\n",
      "?\n",
      "?\n",
      "?\n",
      "?\n",
      "?\n",
      "?\n",
      "?\n",
      "?\n",
      "?\n",
      "?\n",
      "?\n",
      "?\n",
      "?\n",
      "?\n",
      "?\n",
      "?\n",
      "?\n",
      "?\n",
      "?\n",
      "?\n",
      "?\n"
     ]
    }
   ],
   "source": [
    "for data in car['normalized-losses']:\n",
    "    if not(str(data).isnumeric()):\n",
    "        print(data)"
   ]
  },
  {
   "cell_type": "code",
   "execution_count": 39,
   "id": "e0d0ad13",
   "metadata": {
    "scrolled": true
   },
   "outputs": [],
   "source": [
    "car['normalized-losses'].replace(\"?\",np.nan,inplace=True)"
   ]
  },
  {
   "cell_type": "code",
   "execution_count": 40,
   "id": "671cf3db",
   "metadata": {
    "scrolled": true
   },
   "outputs": [
    {
     "data": {
      "text/plain": [
       "array([nan, '164', '158', '192', '188', '121', '98', '81', '118', '148',\n",
       "       '110', '145', '137', '101', '78', '106', '85', '107', '104', '113',\n",
       "       '150', '129', '115', '93', '142', '161', '153', '125', '128',\n",
       "       '122', '103', '168', '108', '194', '231', '119', '154', '74',\n",
       "       '186', '83', '102', '89', '87', '77', '91', '134', '65', '197',\n",
       "       '90', '94', '256', '95'], dtype=object)"
      ]
     },
     "execution_count": 40,
     "metadata": {},
     "output_type": "execute_result"
    }
   ],
   "source": [
    "car['normalized-losses'].unique()"
   ]
  },
  {
   "cell_type": "code",
   "execution_count": 41,
   "id": "0b5109f4",
   "metadata": {
    "scrolled": true
   },
   "outputs": [
    {
     "data": {
      "image/png": "[encoded data removed]",
      "text/plain": [
       "<Figure size 432x288 with 2 Axes>"
      ]
     },
     "metadata": {
      "needs_background": "light"
     },
     "output_type": "display_data"
    }
   ],
   "source": [
    "sns.heatmap(car.isnull())\n",
    "plt.show()"
   ]
  },
  {
   "cell_type": "code",
   "execution_count": 42,
   "id": "35ce4b8d",
   "metadata": {
    "scrolled": true
   },
   "outputs": [
    {
     "data": {
      "text/plain": [
       "161    11\n",
       "91      8\n",
       "150     7\n",
       "134     6\n",
       "104     6\n",
       "128     6\n",
       "65      5\n",
       "102     5\n",
       "85      5\n",
       "103     5\n",
       "168     5\n",
       "95      5\n",
       "94      5\n",
       "74      5\n",
       "122     4\n",
       "148     4\n",
       "118     4\n",
       "93      4\n",
       "106     4\n",
       "154     3\n",
       "137     3\n",
       "115     3\n",
       "101     3\n",
       "83      3\n",
       "125     3\n",
       "194     2\n",
       "192     2\n",
       "188     2\n",
       "158     2\n",
       "129     2\n",
       "81      2\n",
       "153     2\n",
       "164     2\n",
       "197     2\n",
       "89      2\n",
       "87      2\n",
       "110     2\n",
       "119     2\n",
       "108     2\n",
       "145     2\n",
       "113     2\n",
       "142     1\n",
       "186     1\n",
       "78      1\n",
       "90      1\n",
       "107     1\n",
       "256     1\n",
       "77      1\n",
       "231     1\n",
       "121     1\n",
       "98      1\n",
       "Name: normalized-losses, dtype: int64"
      ]
     },
     "execution_count": 42,
     "metadata": {},
     "output_type": "execute_result"
    }
   ],
   "source": [
    "car['normalized-losses'].value_counts()"
   ]
  },
  {
   "cell_type": "code",
   "execution_count": 43,
   "id": "4c095cc9",
   "metadata": {
    "scrolled": true
   },
   "outputs": [
    {
     "data": {
      "text/plain": [
       "dtype('O')"
      ]
     },
     "execution_count": 43,
     "metadata": {},
     "output_type": "execute_result"
    }
   ],
   "source": [
    "car['normalized-losses'].dtype"
   ]
  },
  {
   "cell_type": "markdown",
   "id": "7b1f2af6",
   "metadata": {},
   "source": [
    "#### To change data type of particular column from object to float and its the permanent change"
   ]
  },
  {
   "cell_type": "code",
   "execution_count": 44,
   "id": "f6e41aab",
   "metadata": {
    "scrolled": true
   },
   "outputs": [],
   "source": [
    "car['normalized-losses']=car['normalized-losses'].astype('float')"
   ]
  },
  {
   "cell_type": "code",
   "execution_count": 45,
   "id": "9f37d629",
   "metadata": {
    "scrolled": true
   },
   "outputs": [
    {
     "data": {
      "text/plain": [
       "20.0"
      ]
     },
     "execution_count": 45,
     "metadata": {},
     "output_type": "execute_result"
    }
   ],
   "source": [
    "car['normalized-losses'].isnull().sum()*100/car.shape[0]"
   ]
  },
  {
   "cell_type": "markdown",
   "id": "14abf765",
   "metadata": {},
   "source": [
    "#### To replace null values of horsepower column with mean of horsepower column permanently\n",
    "#### Find mean/Average of horsepower column"
   ]
  },
  {
   "cell_type": "code",
   "execution_count": 46,
   "id": "18e3a91d",
   "metadata": {
    "scrolled": true
   },
   "outputs": [],
   "source": [
    "m=car['normalized-losses'].mean()\n",
    "car['normalized-losses'].fillna(m,inplace=True)"
   ]
  },
  {
   "cell_type": "code",
   "execution_count": 47,
   "id": "64f07f36",
   "metadata": {
    "scrolled": true
   },
   "outputs": [
    {
     "data": {
      "image/png": "[encoded data removed]",
      "text/plain": [
       "<Figure size 432x288 with 2 Axes>"
      ]
     },
     "metadata": {
      "needs_background": "light"
     },
     "output_type": "display_data"
    }
   ],
   "source": [
    "sns.heatmap(car.isnull())\n",
    "plt.show()"
   ]
  },
  {
   "cell_type": "markdown",
   "id": "b9dc2e38",
   "metadata": {},
   "source": [
    "#### To convert the columns in to the list "
   ]
  },
  {
   "cell_type": "code",
   "execution_count": 48,
   "id": "8ba8584a",
   "metadata": {
    "scrolled": true
   },
   "outputs": [
    {
     "data": {
      "text/plain": [
       "Index(['symboling', 'normalized-losses', 'make', 'fuel-type', 'body-style',\n",
       "       'drive-wheels', 'engine-location', 'width', 'height', 'engine-type',\n",
       "       'engine-size', 'horsepower', 'city-mpg', 'highway-mpg', 'price'],\n",
       "      dtype='object')"
      ]
     },
     "execution_count": 48,
     "metadata": {},
     "output_type": "execute_result"
    }
   ],
   "source": [
    "columns=car.columns\n",
    "columns"
   ]
  },
  {
   "cell_type": "markdown",
   "id": "fe0687e3",
   "metadata": {},
   "source": [
    "#### show all the unique values in the columns in one ser of program"
   ]
  },
  {
   "cell_type": "code",
   "execution_count": 49,
   "id": "f476b79e",
   "metadata": {
    "scrolled": true
   },
   "outputs": [
    {
     "name": "stdout",
     "output_type": "stream",
     "text": [
      "symboling\n",
      "[ 3  1  2  0 -1 -2]\n",
      "normalized-losses\n",
      "[122. 164. 158. 192. 188. 121.  98.  81. 118. 148. 110. 145. 137. 101.\n",
      "  78. 106.  85. 107. 104. 113. 150. 129. 115.  93. 142. 161. 153. 125.\n",
      " 128. 103. 168. 108. 194. 231. 119. 154.  74. 186.  83. 102.  89.  87.\n",
      "  77.  91. 134.  65. 197.  90.  94. 256.  95.]\n",
      "make\n",
      "['alfa-romero' 'audi' 'bmw' 'chevrolet' 'dodge' 'honda' 'isuzu' 'jaguar'\n",
      " 'mazda' 'mercedes-benz' 'mercury' 'mitsubishi' 'nissan' 'peugot'\n",
      " 'plymouth' 'porsche' 'renault' 'saab' 'subaru' 'toyota' 'volkswagen'\n",
      " 'volvo']\n",
      "fuel-type\n",
      "['gas' 'diesel']\n",
      "body-style\n",
      "['convertible' 'hatchback' 'sedan' 'wagon' 'hardtop']\n",
      "drive-wheels\n",
      "['rwd' 'fwd' '4wd']\n",
      "engine-location\n",
      "['front' 'rear']\n",
      "width\n",
      "[64.1 65.5 66.2 66.4 66.3 71.4 67.9 64.8 66.9 70.9 60.3 63.6 63.8 64.6\n",
      " 63.9 64.  65.2 62.5 66.  61.8 69.6 70.6 64.2 65.7 66.5 66.1 70.3 71.7\n",
      " 70.5 72.  68.  64.4 65.4 68.4 68.3 65.  72.3 66.6 63.4 65.6 67.7 67.2\n",
      " 68.9 68.8]\n",
      "height\n",
      "[48.8 52.4 54.3 53.1 55.7 55.9 52.  53.7 56.3 53.2 50.8 50.6 59.8 50.2\n",
      " 52.6 54.5 58.3 53.3 54.1 51.  53.5 51.4 52.8 47.8 49.6 55.5 54.4 56.5\n",
      " 58.7 54.9 56.7 55.4 54.8 49.4 51.6 54.7 55.1 56.1 49.7 56.  50.5 55.2\n",
      " 52.5 53.  59.1 53.9 55.6 56.2 57.5]\n",
      "engine-type\n",
      "['dohc' 'ohcv' 'ohc' 'l' 'rotor' 'ohcf' 'dohcv']\n",
      "engine-size\n",
      "[130 152 109 136 131 108 164 209  61  90  98 122 156  92  79 110 111 119\n",
      " 258 326  91  70  80 140 134 183 234 308 304  97 103 120 181 151 194 203\n",
      " 132 121 146 171 161 141 173 145]\n",
      "horsepower\n",
      "[111.         154.         102.         115.         110.\n",
      " 140.         160.         101.         121.         182.\n",
      "  48.          70.          68.          88.         145.\n",
      "  58.          76.          60.          86.         100.\n",
      "  78.          90.         176.         262.         135.\n",
      "  84.          64.         120.          72.         123.\n",
      " 155.         184.         175.         116.          69.\n",
      "  55.          97.         152.         200.          95.\n",
      " 142.         143.         207.         288.         104.25615764\n",
      "  73.          82.          94.          62.          56.\n",
      " 112.          92.         161.         156.          52.\n",
      "  85.         114.         162.         134.         106.        ]\n",
      "city-mpg\n",
      "[21 19 24 18 17 16 23 20 15 47 38 37 31 49 30 27 25 13 26 36 22 14 45 28\n",
      " 32 35 34 29 33]\n",
      "highway-mpg\n",
      "[27 26 30 22 25 20 29 28 53 43 41 38 24 54 42 34 33 31 19 17 23 32 39 18\n",
      " 16 37 50 36 47 46]\n",
      "price\n",
      "[13495 16500 13950 17450 15250 17710 18920 23875 12000 16430 16925 20970\n",
      " 21105 24565 30760 41315 36880  5151  6295  6575  5572  6377  7957  6229\n",
      "  6692  7609  8558  8921 12964  6479  6855  5399  6529  7129  7295  7895\n",
      "  9095  8845 10295 12945 10345  6785 10000 23000 11048 32250 35550 36000\n",
      "  5195  6095  6795  6695  7395 10945 11845 13645 15645  8495 10595 10245\n",
      " 10795 11245 18280 18344 25552 28248 28176 31600 34184 35056 40960 45400\n",
      " 16503  5389  6189  6669  7689  9959  8499 12629 14869 14489  6989  8189\n",
      "  9279  5499  7099  6649  6849  7349  7299  7799  7499  7999  8249  8949\n",
      "  9549 13499 14399 17199 19699 18399 11900 13200 12440 13860 15580 16900\n",
      " 16695 17075 16630 17950 18150 12764 22018 32528 34028 37028  9295  9895\n",
      " 11850 12170 15040 15510 18620  5118  7053  7603  7126  7775  9960  9233\n",
      " 11259  7463 10198  8013 11694  5348  6338  6488  6918  7898  8778  6938\n",
      "  7198  7788  7738  8358  9258  8058  8238  9298  9538  8449  9639  9989\n",
      " 11199 11549 17669  8948 10698  9988 10898 11248 16558 15998 15690 15750\n",
      "  7975  7995  8195  9495  9995 11595  9980 13295 13845 12290 12940 13415\n",
      " 15985 16515 18420 18950 16845 19045 21485 22470 22625]\n"
     ]
    }
   ],
   "source": [
    "for col in columns:\n",
    "    print(col)\n",
    "    print(car[col].unique())"
   ]
  },
  {
   "cell_type": "markdown",
   "id": "3870e300",
   "metadata": {},
   "source": [
    "# 2.) Outlier\n",
    "#### Handle of Outlier\n",
    "#### Lower Whisker  <= Data_values <= Upper Whisker\n",
    "## Step of find outliers\n",
    "    1.) Arrange the data in order from lowest to highest and  find Q1 and Q3\n",
    "      a.) Q1 = (N+1)/4th term\n",
    "      b.) Q3 = (N+1) * 3/4 th term\n",
    "    \n",
    "    2.) Find the interquartile range (IQR = Q3 - Q1)\n",
    "    3.) Lower Whisker = Q1 - 1.5 * IQR (Smaller than Lower Whisker, consider as outlier)\n",
    "    4.) Upper Whisker = Q3 + 1.5 * IQR (Large than Upper Whisker,consider as outlier)"
   ]
  },
  {
   "cell_type": "code",
   "execution_count": 50,
   "id": "669e42c4",
   "metadata": {
    "scrolled": true
   },
   "outputs": [],
   "source": [
    "L=[9,9,10,10,10,11,12,36] #Create the list"
   ]
  },
  {
   "cell_type": "code",
   "execution_count": 51,
   "id": "8bdd86d3",
   "metadata": {
    "scrolled": true
   },
   "outputs": [],
   "source": [
    "df=pd.Series(L) # to change the list into 1D array :- Series"
   ]
  },
  {
   "cell_type": "code",
   "execution_count": 52,
   "id": "14a4ba8d",
   "metadata": {
    "scrolled": true
   },
   "outputs": [
    {
     "name": "stdout",
     "output_type": "stream",
     "text": [
      "0     9\n",
      "1     9\n",
      "2    10\n",
      "3    10\n",
      "4    10\n",
      "5    11\n",
      "6    12\n",
      "7    36\n",
      "dtype: int64\n"
     ]
    }
   ],
   "source": [
    "print(df)"
   ]
  },
  {
   "cell_type": "code",
   "execution_count": 53,
   "id": "a6ee4b5d",
   "metadata": {
    "scrolled": true
   },
   "outputs": [
    {
     "name": "stdout",
     "output_type": "stream",
     "text": [
      "First Quantile :  9.75\n",
      "Third Quantile :  11.25\n",
      "InterQuantile Range :  1.5\n",
      "Lower Whisker:  7.5 \n",
      " Upper Whisker:  13.5\n"
     ]
    }
   ],
   "source": [
    "#Find Outlier\n",
    "Q1=df.quantile(0.25)   # Frist Quantile : 25% means (N+1)*25% th terms\n",
    "Q3=df.quantile(0.75)   # Third Quantile : 75% means (N+1)*75% th terms\n",
    "# Find InterQuantile Range\n",
    "IQR=Q3-Q1  #Inter-Qunatlie Range\n",
    "print('First Quantile : ',Q1)\n",
    "print('Third Quantile : ',Q3)\n",
    "print(\"InterQuantile Range : \",IQR)\n",
    "Lower_Whisker=Q1-1.5*IQR\n",
    "Upper_Whisker=Q3+1.5*IQR\n",
    "print('Lower Whisker: ',Lower_Whisker,'\\n Upper Whisker: ',Upper_Whisker)"
   ]
  },
  {
   "cell_type": "code",
   "execution_count": 54,
   "id": "e5fe020f",
   "metadata": {
    "scrolled": true
   },
   "outputs": [
    {
     "data": {
      "image/png": "[encoded data removed]",
      "text/plain": [
       "<Figure size 432x288 with 1 Axes>"
      ]
     },
     "metadata": {
      "needs_background": "light"
     },
     "output_type": "display_data"
    }
   ],
   "source": [
    "sns.boxplot(data=df,x=df)\n",
    "plt.xticks(df)\n",
    "plt.show()"
   ]
  },
  {
   "cell_type": "markdown",
   "id": "67f746c2",
   "metadata": {},
   "source": [
    "### Access those records whose  > 12"
   ]
  },
  {
   "cell_type": "code",
   "execution_count": 55,
   "id": "212bed28",
   "metadata": {
    "scrolled": true
   },
   "outputs": [
    {
     "data": {
      "text/plain": [
       "7    36\n",
       "dtype: int64"
      ]
     },
     "execution_count": 55,
     "metadata": {},
     "output_type": "execute_result"
    }
   ],
   "source": [
    "df[df>12]"
   ]
  },
  {
   "cell_type": "markdown",
   "id": "fe223274",
   "metadata": {},
   "source": [
    "#### Delete records no. 7 which is outlier"
   ]
  },
  {
   "cell_type": "code",
   "execution_count": 56,
   "id": "a92ab430",
   "metadata": {
    "scrolled": true
   },
   "outputs": [],
   "source": [
    "df.drop(7,inplace=True)"
   ]
  },
  {
   "cell_type": "code",
   "execution_count": 57,
   "id": "0bb0c334",
   "metadata": {
    "scrolled": true
   },
   "outputs": [
    {
     "data": {
      "image/png": "[encoded data removed]",
      "text/plain": [
       "<Figure size 432x288 with 1 Axes>"
      ]
     },
     "metadata": {
      "needs_background": "light"
     },
     "output_type": "display_data"
    }
   ],
   "source": [
    "sns.boxplot(data=df,x=df)\n",
    "plt.xticks(df)\n",
    "plt.show()"
   ]
  },
  {
   "cell_type": "markdown",
   "id": "3efe5ecd",
   "metadata": {},
   "source": [
    "### Now finding the outlier in the Automobile_dataset.csv"
   ]
  },
  {
   "cell_type": "code",
   "execution_count": 58,
   "id": "861fe3b2",
   "metadata": {
    "scrolled": true
   },
   "outputs": [
    {
     "data": {
      "text/plain": [
       "Index(['symboling', 'normalized-losses', 'make', 'fuel-type', 'body-style',\n",
       "       'drive-wheels', 'engine-location', 'width', 'height', 'engine-type',\n",
       "       'engine-size', 'horsepower', 'city-mpg', 'highway-mpg', 'price'],\n",
       "      dtype='object')"
      ]
     },
     "execution_count": 58,
     "metadata": {},
     "output_type": "execute_result"
    }
   ],
   "source": [
    "# We check outlier on target variable means output variable (numerical Type)\n",
    "car.columns"
   ]
  },
  {
   "cell_type": "markdown",
   "id": "eed76d50",
   "metadata": {},
   "source": [
    "#### To check the outlier"
   ]
  },
  {
   "cell_type": "code",
   "execution_count": 59,
   "id": "0efe51ac",
   "metadata": {
    "scrolled": true
   },
   "outputs": [
    {
     "data": {
      "image/png": "[encoded data removed]",
      "text/plain": [
       "<Figure size 432x288 with 1 Axes>"
      ]
     },
     "metadata": {
      "needs_background": "light"
     },
     "output_type": "display_data"
    }
   ],
   "source": [
    "\n",
    "sns.boxplot(data=car,x='price')  # Here price is target variable means output Variable\n",
    "plt.show()"
   ]
  },
  {
   "cell_type": "code",
   "execution_count": 60,
   "id": "9f5a6530",
   "metadata": {
    "scrolled": true
   },
   "outputs": [
    {
     "data": {
      "image/png": "[encoded data removed]",
      "text/plain": [
       "<Figure size 720x720 with 1 Axes>"
      ]
     },
     "metadata": {
      "needs_background": "light"
     },
     "output_type": "display_data"
    }
   ],
   "source": [
    "plt.figure(figsize=(10,10))\n",
    "sns.boxplot(data=car,x='price',y='make')  # Here price is target variable means output Variable\n",
    "plt.show()"
   ]
  },
  {
   "cell_type": "code",
   "execution_count": 61,
   "id": "2342d49d",
   "metadata": {
    "scrolled": true
   },
   "outputs": [
    {
     "data": {
      "text/html": [
       "<div>\n",
       "<style scoped>\n",
       "    .dataframe tbody tr th:only-of-type {\n",
       "        vertical-align: middle;\n",
       "    }\n",
       "\n",
       "    .dataframe tbody tr th {\n",
       "        vertical-align: top;\n",
       "    }\n",
       "\n",
       "    .dataframe thead th {\n",
       "        text-align: right;\n",
       "    }\n",
       "</style>\n",
       "<table border=\"1\" class=\"dataframe\">\n",
       "  <thead>\n",
       "    <tr style=\"text-align: right;\">\n",
       "      <th></th>\n",
       "      <th>symboling</th>\n",
       "      <th>normalized-losses</th>\n",
       "      <th>make</th>\n",
       "      <th>fuel-type</th>\n",
       "      <th>body-style</th>\n",
       "      <th>drive-wheels</th>\n",
       "      <th>engine-location</th>\n",
       "      <th>width</th>\n",
       "      <th>height</th>\n",
       "      <th>engine-type</th>\n",
       "      <th>engine-size</th>\n",
       "      <th>horsepower</th>\n",
       "      <th>city-mpg</th>\n",
       "      <th>highway-mpg</th>\n",
       "      <th>price</th>\n",
       "    </tr>\n",
       "  </thead>\n",
       "  <tbody>\n",
       "    <tr>\n",
       "      <th>45</th>\n",
       "      <td>0</td>\n",
       "      <td>122.0</td>\n",
       "      <td>isuzu</td>\n",
       "      <td>gas</td>\n",
       "      <td>sedan</td>\n",
       "      <td>fwd</td>\n",
       "      <td>front</td>\n",
       "      <td>63.6</td>\n",
       "      <td>52.0</td>\n",
       "      <td>ohc</td>\n",
       "      <td>90</td>\n",
       "      <td>70.0</td>\n",
       "      <td>38</td>\n",
       "      <td>43</td>\n",
       "      <td>23000</td>\n",
       "    </tr>\n",
       "  </tbody>\n",
       "</table>\n",
       "</div>"
      ],
      "text/plain": [
       "    symboling  normalized-losses   make fuel-type body-style drive-wheels  \\\n",
       "45          0              122.0  isuzu       gas      sedan          fwd   \n",
       "\n",
       "   engine-location  width  height engine-type  engine-size  horsepower  \\\n",
       "45           front   63.6    52.0         ohc           90        70.0   \n",
       "\n",
       "    city-mpg  highway-mpg  price  \n",
       "45        38           43  23000  "
      ]
     },
     "execution_count": 61,
     "metadata": {},
     "output_type": "execute_result"
    }
   ],
   "source": [
    "car[(car['make']=='isuzu') & (car['price']>=20000)]"
   ]
  },
  {
   "cell_type": "code",
   "execution_count": 62,
   "id": "9b75c570",
   "metadata": {
    "scrolled": true
   },
   "outputs": [],
   "source": [
    "# to remove the records no.45 permanently from the dataset\n",
    "car.drop(45,inplace=True)"
   ]
  },
  {
   "cell_type": "code",
   "execution_count": 63,
   "id": "8dfa53ac",
   "metadata": {
    "scrolled": true
   },
   "outputs": [
    {
     "data": {
      "image/png": "[encoded data removed]",
      "text/plain": [
       "<Figure size 720x720 with 1 Axes>"
      ]
     },
     "metadata": {
      "needs_background": "light"
     },
     "output_type": "display_data"
    }
   ],
   "source": [
    "plt.figure(figsize=(10,10))\n",
    "sns.boxplot(data=car,x='price',y='make')  # Here price is target variable means output Variable\n",
    "plt.show()"
   ]
  },
  {
   "cell_type": "markdown",
   "id": "63c7496b",
   "metadata": {},
   "source": [
    "### Toyota Outlier "
   ]
  },
  {
   "cell_type": "code",
   "execution_count": 64,
   "id": "f0ef9e94",
   "metadata": {
    "scrolled": true
   },
   "outputs": [
    {
     "data": {
      "text/html": [
       "<div>\n",
       "<style scoped>\n",
       "    .dataframe tbody tr th:only-of-type {\n",
       "        vertical-align: middle;\n",
       "    }\n",
       "\n",
       "    .dataframe tbody tr th {\n",
       "        vertical-align: top;\n",
       "    }\n",
       "\n",
       "    .dataframe thead th {\n",
       "        text-align: right;\n",
       "    }\n",
       "</style>\n",
       "<table border=\"1\" class=\"dataframe\">\n",
       "  <thead>\n",
       "    <tr style=\"text-align: right;\">\n",
       "      <th></th>\n",
       "      <th>symboling</th>\n",
       "      <th>normalized-losses</th>\n",
       "      <th>make</th>\n",
       "      <th>fuel-type</th>\n",
       "      <th>body-style</th>\n",
       "      <th>drive-wheels</th>\n",
       "      <th>engine-location</th>\n",
       "      <th>width</th>\n",
       "      <th>height</th>\n",
       "      <th>engine-type</th>\n",
       "      <th>engine-size</th>\n",
       "      <th>horsepower</th>\n",
       "      <th>city-mpg</th>\n",
       "      <th>highway-mpg</th>\n",
       "      <th>price</th>\n",
       "    </tr>\n",
       "  </thead>\n",
       "  <tbody>\n",
       "    <tr>\n",
       "      <th>172</th>\n",
       "      <td>2</td>\n",
       "      <td>134.0</td>\n",
       "      <td>toyota</td>\n",
       "      <td>gas</td>\n",
       "      <td>convertible</td>\n",
       "      <td>rwd</td>\n",
       "      <td>front</td>\n",
       "      <td>65.6</td>\n",
       "      <td>53.0</td>\n",
       "      <td>ohc</td>\n",
       "      <td>146</td>\n",
       "      <td>116.0</td>\n",
       "      <td>24</td>\n",
       "      <td>30</td>\n",
       "      <td>17669</td>\n",
       "    </tr>\n",
       "    <tr>\n",
       "      <th>178</th>\n",
       "      <td>3</td>\n",
       "      <td>197.0</td>\n",
       "      <td>toyota</td>\n",
       "      <td>gas</td>\n",
       "      <td>hatchback</td>\n",
       "      <td>rwd</td>\n",
       "      <td>front</td>\n",
       "      <td>67.7</td>\n",
       "      <td>52.0</td>\n",
       "      <td>dohc</td>\n",
       "      <td>171</td>\n",
       "      <td>161.0</td>\n",
       "      <td>20</td>\n",
       "      <td>24</td>\n",
       "      <td>16558</td>\n",
       "    </tr>\n",
       "    <tr>\n",
       "      <th>179</th>\n",
       "      <td>3</td>\n",
       "      <td>197.0</td>\n",
       "      <td>toyota</td>\n",
       "      <td>gas</td>\n",
       "      <td>hatchback</td>\n",
       "      <td>rwd</td>\n",
       "      <td>front</td>\n",
       "      <td>67.7</td>\n",
       "      <td>52.0</td>\n",
       "      <td>dohc</td>\n",
       "      <td>171</td>\n",
       "      <td>161.0</td>\n",
       "      <td>19</td>\n",
       "      <td>24</td>\n",
       "      <td>15998</td>\n",
       "    </tr>\n",
       "    <tr>\n",
       "      <th>180</th>\n",
       "      <td>-1</td>\n",
       "      <td>90.0</td>\n",
       "      <td>toyota</td>\n",
       "      <td>gas</td>\n",
       "      <td>sedan</td>\n",
       "      <td>rwd</td>\n",
       "      <td>front</td>\n",
       "      <td>66.5</td>\n",
       "      <td>54.1</td>\n",
       "      <td>dohc</td>\n",
       "      <td>171</td>\n",
       "      <td>156.0</td>\n",
       "      <td>20</td>\n",
       "      <td>24</td>\n",
       "      <td>15690</td>\n",
       "    </tr>\n",
       "    <tr>\n",
       "      <th>181</th>\n",
       "      <td>-1</td>\n",
       "      <td>122.0</td>\n",
       "      <td>toyota</td>\n",
       "      <td>gas</td>\n",
       "      <td>wagon</td>\n",
       "      <td>rwd</td>\n",
       "      <td>front</td>\n",
       "      <td>66.5</td>\n",
       "      <td>54.1</td>\n",
       "      <td>dohc</td>\n",
       "      <td>161</td>\n",
       "      <td>156.0</td>\n",
       "      <td>19</td>\n",
       "      <td>24</td>\n",
       "      <td>15750</td>\n",
       "    </tr>\n",
       "  </tbody>\n",
       "</table>\n",
       "</div>"
      ],
      "text/plain": [
       "     symboling  normalized-losses    make fuel-type   body-style drive-wheels  \\\n",
       "172          2              134.0  toyota       gas  convertible          rwd   \n",
       "178          3              197.0  toyota       gas    hatchback          rwd   \n",
       "179          3              197.0  toyota       gas    hatchback          rwd   \n",
       "180         -1               90.0  toyota       gas        sedan          rwd   \n",
       "181         -1              122.0  toyota       gas        wagon          rwd   \n",
       "\n",
       "    engine-location  width  height engine-type  engine-size  horsepower  \\\n",
       "172           front   65.6    53.0         ohc          146       116.0   \n",
       "178           front   67.7    52.0        dohc          171       161.0   \n",
       "179           front   67.7    52.0        dohc          171       161.0   \n",
       "180           front   66.5    54.1        dohc          171       156.0   \n",
       "181           front   66.5    54.1        dohc          161       156.0   \n",
       "\n",
       "     city-mpg  highway-mpg  price  \n",
       "172        24           30  17669  \n",
       "178        20           24  16558  \n",
       "179        19           24  15998  \n",
       "180        20           24  15690  \n",
       "181        19           24  15750  "
      ]
     },
     "execution_count": 64,
     "metadata": {},
     "output_type": "execute_result"
    }
   ],
   "source": [
    "car[(car['make']=='toyota') & (car['price']>=12000)]"
   ]
  },
  {
   "cell_type": "code",
   "execution_count": 65,
   "id": "218e07e9",
   "metadata": {
    "scrolled": true
   },
   "outputs": [],
   "source": [
    "car.drop([172,178,179,180,181],inplace=True)"
   ]
  },
  {
   "cell_type": "code",
   "execution_count": 66,
   "id": "1f6e0865",
   "metadata": {
    "scrolled": true
   },
   "outputs": [
    {
     "data": {
      "image/png": "[encoded data removed]",
      "text/plain": [
       "<Figure size 720x720 with 1 Axes>"
      ]
     },
     "metadata": {
      "needs_background": "light"
     },
     "output_type": "display_data"
    }
   ],
   "source": [
    "plt.figure(figsize=(10,10))\n",
    "sns.boxplot(data=car,x='price',y='make')  # Here price is target variable means output Variable\n",
    "plt.show()"
   ]
  },
  {
   "cell_type": "markdown",
   "id": "883339e1",
   "metadata": {},
   "source": [
    "## Plymoth Outlier "
   ]
  },
  {
   "cell_type": "code",
   "execution_count": 67,
   "id": "b1e0eb64",
   "metadata": {
    "scrolled": true
   },
   "outputs": [
    {
     "data": {
      "text/html": [
       "<div>\n",
       "<style scoped>\n",
       "    .dataframe tbody tr th:only-of-type {\n",
       "        vertical-align: middle;\n",
       "    }\n",
       "\n",
       "    .dataframe tbody tr th {\n",
       "        vertical-align: top;\n",
       "    }\n",
       "\n",
       "    .dataframe thead th {\n",
       "        text-align: right;\n",
       "    }\n",
       "</style>\n",
       "<table border=\"1\" class=\"dataframe\">\n",
       "  <thead>\n",
       "    <tr style=\"text-align: right;\">\n",
       "      <th></th>\n",
       "      <th>symboling</th>\n",
       "      <th>normalized-losses</th>\n",
       "      <th>make</th>\n",
       "      <th>fuel-type</th>\n",
       "      <th>body-style</th>\n",
       "      <th>drive-wheels</th>\n",
       "      <th>engine-location</th>\n",
       "      <th>width</th>\n",
       "      <th>height</th>\n",
       "      <th>engine-type</th>\n",
       "      <th>engine-size</th>\n",
       "      <th>horsepower</th>\n",
       "      <th>city-mpg</th>\n",
       "      <th>highway-mpg</th>\n",
       "      <th>price</th>\n",
       "    </tr>\n",
       "  </thead>\n",
       "  <tbody>\n",
       "    <tr>\n",
       "      <th>124</th>\n",
       "      <td>3</td>\n",
       "      <td>122.0</td>\n",
       "      <td>plymouth</td>\n",
       "      <td>gas</td>\n",
       "      <td>hatchback</td>\n",
       "      <td>rwd</td>\n",
       "      <td>front</td>\n",
       "      <td>66.3</td>\n",
       "      <td>50.2</td>\n",
       "      <td>ohc</td>\n",
       "      <td>156</td>\n",
       "      <td>145.0</td>\n",
       "      <td>19</td>\n",
       "      <td>24</td>\n",
       "      <td>12764</td>\n",
       "    </tr>\n",
       "  </tbody>\n",
       "</table>\n",
       "</div>"
      ],
      "text/plain": [
       "     symboling  normalized-losses      make fuel-type body-style drive-wheels  \\\n",
       "124          3              122.0  plymouth       gas  hatchback          rwd   \n",
       "\n",
       "    engine-location  width  height engine-type  engine-size  horsepower  \\\n",
       "124           front   66.3    50.2         ohc          156       145.0   \n",
       "\n",
       "     city-mpg  highway-mpg  price  \n",
       "124        19           24  12764  "
      ]
     },
     "execution_count": 67,
     "metadata": {},
     "output_type": "execute_result"
    }
   ],
   "source": [
    "car[(car['make']=='plymouth') & (car['price']>=10000)]"
   ]
  },
  {
   "cell_type": "code",
   "execution_count": 68,
   "id": "399ac170",
   "metadata": {
    "scrolled": true
   },
   "outputs": [],
   "source": [
    "car.drop(124,inplace=True)"
   ]
  },
  {
   "cell_type": "code",
   "execution_count": 69,
   "id": "4ff97fd9",
   "metadata": {
    "scrolled": true
   },
   "outputs": [
    {
     "data": {
      "image/png": "[encoded data removed]",
      "text/plain": [
       "<Figure size 720x720 with 1 Axes>"
      ]
     },
     "metadata": {
      "needs_background": "light"
     },
     "output_type": "display_data"
    }
   ],
   "source": [
    "plt.figure(figsize=(10,10))\n",
    "sns.boxplot(data=car,x='price',y='make')  # Here price is target variable means output Variable\n",
    "plt.show()"
   ]
  },
  {
   "cell_type": "markdown",
   "id": "82087106",
   "metadata": {},
   "source": [
    "## Mitsubishi Outlier "
   ]
  },
  {
   "cell_type": "code",
   "execution_count": 70,
   "id": "6354b025",
   "metadata": {
    "scrolled": true
   },
   "outputs": [
    {
     "data": {
      "text/html": [
       "<div>\n",
       "<style scoped>\n",
       "    .dataframe tbody tr th:only-of-type {\n",
       "        vertical-align: middle;\n",
       "    }\n",
       "\n",
       "    .dataframe tbody tr th {\n",
       "        vertical-align: top;\n",
       "    }\n",
       "\n",
       "    .dataframe thead th {\n",
       "        text-align: right;\n",
       "    }\n",
       "</style>\n",
       "<table border=\"1\" class=\"dataframe\">\n",
       "  <thead>\n",
       "    <tr style=\"text-align: right;\">\n",
       "      <th></th>\n",
       "      <th>symboling</th>\n",
       "      <th>normalized-losses</th>\n",
       "      <th>make</th>\n",
       "      <th>fuel-type</th>\n",
       "      <th>body-style</th>\n",
       "      <th>drive-wheels</th>\n",
       "      <th>engine-location</th>\n",
       "      <th>width</th>\n",
       "      <th>height</th>\n",
       "      <th>engine-type</th>\n",
       "      <th>engine-size</th>\n",
       "      <th>horsepower</th>\n",
       "      <th>city-mpg</th>\n",
       "      <th>highway-mpg</th>\n",
       "      <th>price</th>\n",
       "    </tr>\n",
       "  </thead>\n",
       "  <tbody>\n",
       "    <tr>\n",
       "      <th>82</th>\n",
       "      <td>3</td>\n",
       "      <td>122.0</td>\n",
       "      <td>mitsubishi</td>\n",
       "      <td>gas</td>\n",
       "      <td>hatchback</td>\n",
       "      <td>fwd</td>\n",
       "      <td>front</td>\n",
       "      <td>66.3</td>\n",
       "      <td>50.2</td>\n",
       "      <td>ohc</td>\n",
       "      <td>156</td>\n",
       "      <td>145.0</td>\n",
       "      <td>19</td>\n",
       "      <td>24</td>\n",
       "      <td>12629</td>\n",
       "    </tr>\n",
       "    <tr>\n",
       "      <th>83</th>\n",
       "      <td>3</td>\n",
       "      <td>122.0</td>\n",
       "      <td>mitsubishi</td>\n",
       "      <td>gas</td>\n",
       "      <td>hatchback</td>\n",
       "      <td>fwd</td>\n",
       "      <td>front</td>\n",
       "      <td>66.3</td>\n",
       "      <td>50.2</td>\n",
       "      <td>ohc</td>\n",
       "      <td>156</td>\n",
       "      <td>145.0</td>\n",
       "      <td>19</td>\n",
       "      <td>24</td>\n",
       "      <td>14869</td>\n",
       "    </tr>\n",
       "    <tr>\n",
       "      <th>84</th>\n",
       "      <td>3</td>\n",
       "      <td>122.0</td>\n",
       "      <td>mitsubishi</td>\n",
       "      <td>gas</td>\n",
       "      <td>hatchback</td>\n",
       "      <td>fwd</td>\n",
       "      <td>front</td>\n",
       "      <td>66.3</td>\n",
       "      <td>50.2</td>\n",
       "      <td>ohc</td>\n",
       "      <td>156</td>\n",
       "      <td>145.0</td>\n",
       "      <td>19</td>\n",
       "      <td>24</td>\n",
       "      <td>14489</td>\n",
       "    </tr>\n",
       "  </tbody>\n",
       "</table>\n",
       "</div>"
      ],
      "text/plain": [
       "    symboling  normalized-losses        make fuel-type body-style  \\\n",
       "82          3              122.0  mitsubishi       gas  hatchback   \n",
       "83          3              122.0  mitsubishi       gas  hatchback   \n",
       "84          3              122.0  mitsubishi       gas  hatchback   \n",
       "\n",
       "   drive-wheels engine-location  width  height engine-type  engine-size  \\\n",
       "82          fwd           front   66.3    50.2         ohc          156   \n",
       "83          fwd           front   66.3    50.2         ohc          156   \n",
       "84          fwd           front   66.3    50.2         ohc          156   \n",
       "\n",
       "    horsepower  city-mpg  highway-mpg  price  \n",
       "82       145.0        19           24  12629  \n",
       "83       145.0        19           24  14869  \n",
       "84       145.0        19           24  14489  "
      ]
     },
     "execution_count": 70,
     "metadata": {},
     "output_type": "execute_result"
    }
   ],
   "source": [
    "car[(car['make']=='mitsubishi') & (car['price']>=11000)]"
   ]
  },
  {
   "cell_type": "code",
   "execution_count": 71,
   "id": "ea4ea683",
   "metadata": {
    "scrolled": true
   },
   "outputs": [],
   "source": [
    "car.drop([82,83,84],inplace=True)"
   ]
  },
  {
   "cell_type": "code",
   "execution_count": 72,
   "id": "104eecb4",
   "metadata": {
    "scrolled": true
   },
   "outputs": [
    {
     "data": {
      "image/png": "[encoded data removed]",
      "text/plain": [
       "<Figure size 720x720 with 1 Axes>"
      ]
     },
     "metadata": {
      "needs_background": "light"
     },
     "output_type": "display_data"
    }
   ],
   "source": [
    "plt.figure(figsize=(10,10))\n",
    "sns.boxplot(data=car,x='price',y='make')  # Here price is target variable means output Variable\n",
    "plt.show()"
   ]
  },
  {
   "cell_type": "code",
   "execution_count": 73,
   "id": "d24c5476",
   "metadata": {
    "scrolled": true
   },
   "outputs": [
    {
     "data": {
      "text/html": [
       "<div>\n",
       "<style scoped>\n",
       "    .dataframe tbody tr th:only-of-type {\n",
       "        vertical-align: middle;\n",
       "    }\n",
       "\n",
       "    .dataframe tbody tr th {\n",
       "        vertical-align: top;\n",
       "    }\n",
       "\n",
       "    .dataframe thead th {\n",
       "        text-align: right;\n",
       "    }\n",
       "</style>\n",
       "<table border=\"1\" class=\"dataframe\">\n",
       "  <thead>\n",
       "    <tr style=\"text-align: right;\">\n",
       "      <th></th>\n",
       "      <th>symboling</th>\n",
       "      <th>normalized-losses</th>\n",
       "      <th>make</th>\n",
       "      <th>fuel-type</th>\n",
       "      <th>body-style</th>\n",
       "      <th>drive-wheels</th>\n",
       "      <th>engine-location</th>\n",
       "      <th>width</th>\n",
       "      <th>height</th>\n",
       "      <th>engine-type</th>\n",
       "      <th>engine-size</th>\n",
       "      <th>horsepower</th>\n",
       "      <th>city-mpg</th>\n",
       "      <th>highway-mpg</th>\n",
       "      <th>price</th>\n",
       "    </tr>\n",
       "  </thead>\n",
       "  <tbody>\n",
       "    <tr>\n",
       "      <th>29</th>\n",
       "      <td>3</td>\n",
       "      <td>145.0</td>\n",
       "      <td>dodge</td>\n",
       "      <td>gas</td>\n",
       "      <td>hatchback</td>\n",
       "      <td>fwd</td>\n",
       "      <td>front</td>\n",
       "      <td>66.3</td>\n",
       "      <td>50.2</td>\n",
       "      <td>ohc</td>\n",
       "      <td>156</td>\n",
       "      <td>145.0</td>\n",
       "      <td>19</td>\n",
       "      <td>24</td>\n",
       "      <td>12964</td>\n",
       "    </tr>\n",
       "  </tbody>\n",
       "</table>\n",
       "</div>"
      ],
      "text/plain": [
       "    symboling  normalized-losses   make fuel-type body-style drive-wheels  \\\n",
       "29          3              145.0  dodge       gas  hatchback          fwd   \n",
       "\n",
       "   engine-location  width  height engine-type  engine-size  horsepower  \\\n",
       "29           front   66.3    50.2         ohc          156       145.0   \n",
       "\n",
       "    city-mpg  highway-mpg  price  \n",
       "29        19           24  12964  "
      ]
     },
     "execution_count": 73,
     "metadata": {},
     "output_type": "execute_result"
    }
   ],
   "source": [
    "car[(car['make']=='dodge') & (car['price']>=11000)]"
   ]
  },
  {
   "cell_type": "code",
   "execution_count": 74,
   "id": "09099e7b",
   "metadata": {
    "scrolled": true
   },
   "outputs": [],
   "source": [
    "car.drop(29,inplace=True)"
   ]
  },
  {
   "cell_type": "code",
   "execution_count": 75,
   "id": "441ff78b",
   "metadata": {
    "scrolled": true
   },
   "outputs": [
    {
     "data": {
      "image/png": "[encoded data removed]",
      "text/plain": [
       "<Figure size 720x720 with 1 Axes>"
      ]
     },
     "metadata": {
      "needs_background": "light"
     },
     "output_type": "display_data"
    }
   ],
   "source": [
    "plt.figure(figsize=(10,10))\n",
    "sns.boxplot(data=car,x='price',y='make')  # Here price is target variable means output Variable\n",
    "plt.show()"
   ]
  },
  {
   "cell_type": "code",
   "execution_count": 76,
   "id": "4b250c8f",
   "metadata": {
    "scrolled": true
   },
   "outputs": [
    {
     "data": {
      "text/html": [
       "<div>\n",
       "<style scoped>\n",
       "    .dataframe tbody tr th:only-of-type {\n",
       "        vertical-align: middle;\n",
       "    }\n",
       "\n",
       "    .dataframe tbody tr th {\n",
       "        vertical-align: top;\n",
       "    }\n",
       "\n",
       "    .dataframe thead th {\n",
       "        text-align: right;\n",
       "    }\n",
       "</style>\n",
       "<table border=\"1\" class=\"dataframe\">\n",
       "  <thead>\n",
       "    <tr style=\"text-align: right;\">\n",
       "      <th></th>\n",
       "      <th>symboling</th>\n",
       "      <th>normalized-losses</th>\n",
       "      <th>make</th>\n",
       "      <th>fuel-type</th>\n",
       "      <th>body-style</th>\n",
       "      <th>drive-wheels</th>\n",
       "      <th>engine-location</th>\n",
       "      <th>width</th>\n",
       "      <th>height</th>\n",
       "      <th>engine-type</th>\n",
       "      <th>engine-size</th>\n",
       "      <th>horsepower</th>\n",
       "      <th>city-mpg</th>\n",
       "      <th>highway-mpg</th>\n",
       "      <th>price</th>\n",
       "    </tr>\n",
       "  </thead>\n",
       "  <tbody>\n",
       "    <tr>\n",
       "      <th>41</th>\n",
       "      <td>0</td>\n",
       "      <td>85.0</td>\n",
       "      <td>honda</td>\n",
       "      <td>gas</td>\n",
       "      <td>sedan</td>\n",
       "      <td>fwd</td>\n",
       "      <td>front</td>\n",
       "      <td>65.2</td>\n",
       "      <td>54.1</td>\n",
       "      <td>ohc</td>\n",
       "      <td>110</td>\n",
       "      <td>101.0</td>\n",
       "      <td>24</td>\n",
       "      <td>28</td>\n",
       "      <td>12945</td>\n",
       "    </tr>\n",
       "  </tbody>\n",
       "</table>\n",
       "</div>"
      ],
      "text/plain": [
       "    symboling  normalized-losses   make fuel-type body-style drive-wheels  \\\n",
       "41          0               85.0  honda       gas      sedan          fwd   \n",
       "\n",
       "   engine-location  width  height engine-type  engine-size  horsepower  \\\n",
       "41           front   65.2    54.1         ohc          110       101.0   \n",
       "\n",
       "    city-mpg  highway-mpg  price  \n",
       "41        24           28  12945  "
      ]
     },
     "execution_count": 76,
     "metadata": {},
     "output_type": "execute_result"
    }
   ],
   "source": [
    "car[(car['make']=='honda') & (car['price']>=11000)]"
   ]
  },
  {
   "cell_type": "code",
   "execution_count": 77,
   "id": "fb6d2ae8",
   "metadata": {
    "scrolled": true
   },
   "outputs": [],
   "source": [
    "car.drop(41,inplace=True)"
   ]
  },
  {
   "cell_type": "code",
   "execution_count": 78,
   "id": "d9145146",
   "metadata": {
    "scrolled": true
   },
   "outputs": [
    {
     "data": {
      "image/png": "[encoded data removed]",
      "text/plain": [
       "<Figure size 720x720 with 1 Axes>"
      ]
     },
     "metadata": {
      "needs_background": "light"
     },
     "output_type": "display_data"
    }
   ],
   "source": [
    "plt.figure(figsize=(10,10))\n",
    "sns.boxplot(data=car,x='price',y='make')  # Here price is target variable means output Variable\n",
    "plt.show()"
   ]
  },
  {
   "cell_type": "markdown",
   "id": "740b80b2",
   "metadata": {},
   "source": [
    "# step 3 : Cleaning"
   ]
  },
  {
   "cell_type": "markdown",
   "id": "bab678da",
   "metadata": {},
   "source": [
    "### Handle Categorical  Data;\n",
    "       Categorical Data means Non-NUmerical data means object type data means string type.\n",
    "       Machne already understand only numerical data, not understand categorical data means\n",
    "       Non-numeric data means string type object type now we converts categorical  data to \n",
    "       numercial data how do this"
   ]
  },
  {
   "cell_type": "code",
   "execution_count": 79,
   "id": "a4fd3487",
   "metadata": {
    "scrolled": true
   },
   "outputs": [],
   "source": [
    "# There are 2 types of methods use to \n",
    "# Numerical type\n",
    "# 1. One-Hot Encoding        2. Label Encoding"
   ]
  },
  {
   "cell_type": "code",
   "execution_count": 80,
   "id": "94b37a3d",
   "metadata": {
    "scrolled": true
   },
   "outputs": [
    {
     "name": "stdout",
     "output_type": "stream",
     "text": [
      "<class 'pandas.core.frame.DataFrame'>\n",
      "Int64Index: 193 entries, 0 to 204\n",
      "Data columns (total 15 columns):\n",
      " #   Column             Non-Null Count  Dtype  \n",
      "---  ------             --------------  -----  \n",
      " 0   symboling          193 non-null    int64  \n",
      " 1   normalized-losses  193 non-null    float64\n",
      " 2   make               193 non-null    object \n",
      " 3   fuel-type          193 non-null    object \n",
      " 4   body-style         193 non-null    object \n",
      " 5   drive-wheels       193 non-null    object \n",
      " 6   engine-location    193 non-null    object \n",
      " 7   width              193 non-null    float64\n",
      " 8   height             193 non-null    float64\n",
      " 9   engine-type        193 non-null    object \n",
      " 10  engine-size        193 non-null    int64  \n",
      " 11  horsepower         193 non-null    float64\n",
      " 12  city-mpg           193 non-null    int64  \n",
      " 13  highway-mpg        193 non-null    int64  \n",
      " 14  price              193 non-null    int64  \n",
      "dtypes: float64(4), int64(5), object(6)\n",
      "memory usage: 28.2+ KB\n"
     ]
    }
   ],
   "source": [
    "car.info()"
   ]
  },
  {
   "cell_type": "markdown",
   "id": "2291b809",
   "metadata": {},
   "source": [
    "### 1. One-Hot Encoding\n",
    "         Apply one hot encoding on fuel-type column : temperory change\n",
    "         get_dumies() inbuilt methods of pandas"
   ]
  },
  {
   "cell_type": "code",
   "execution_count": 81,
   "id": "e4c7fefd",
   "metadata": {
    "scrolled": true
   },
   "outputs": [
    {
     "data": {
      "text/html": [
       "<div>\n",
       "<style scoped>\n",
       "    .dataframe tbody tr th:only-of-type {\n",
       "        vertical-align: middle;\n",
       "    }\n",
       "\n",
       "    .dataframe tbody tr th {\n",
       "        vertical-align: top;\n",
       "    }\n",
       "\n",
       "    .dataframe thead th {\n",
       "        text-align: right;\n",
       "    }\n",
       "</style>\n",
       "<table border=\"1\" class=\"dataframe\">\n",
       "  <thead>\n",
       "    <tr style=\"text-align: right;\">\n",
       "      <th></th>\n",
       "      <th>diesel</th>\n",
       "      <th>gas</th>\n",
       "    </tr>\n",
       "  </thead>\n",
       "  <tbody>\n",
       "    <tr>\n",
       "      <th>0</th>\n",
       "      <td>0</td>\n",
       "      <td>1</td>\n",
       "    </tr>\n",
       "    <tr>\n",
       "      <th>1</th>\n",
       "      <td>0</td>\n",
       "      <td>1</td>\n",
       "    </tr>\n",
       "    <tr>\n",
       "      <th>2</th>\n",
       "      <td>0</td>\n",
       "      <td>1</td>\n",
       "    </tr>\n",
       "    <tr>\n",
       "      <th>3</th>\n",
       "      <td>0</td>\n",
       "      <td>1</td>\n",
       "    </tr>\n",
       "    <tr>\n",
       "      <th>4</th>\n",
       "      <td>0</td>\n",
       "      <td>1</td>\n",
       "    </tr>\n",
       "    <tr>\n",
       "      <th>...</th>\n",
       "      <td>...</td>\n",
       "      <td>...</td>\n",
       "    </tr>\n",
       "    <tr>\n",
       "      <th>200</th>\n",
       "      <td>0</td>\n",
       "      <td>1</td>\n",
       "    </tr>\n",
       "    <tr>\n",
       "      <th>201</th>\n",
       "      <td>0</td>\n",
       "      <td>1</td>\n",
       "    </tr>\n",
       "    <tr>\n",
       "      <th>202</th>\n",
       "      <td>0</td>\n",
       "      <td>1</td>\n",
       "    </tr>\n",
       "    <tr>\n",
       "      <th>203</th>\n",
       "      <td>1</td>\n",
       "      <td>0</td>\n",
       "    </tr>\n",
       "    <tr>\n",
       "      <th>204</th>\n",
       "      <td>0</td>\n",
       "      <td>1</td>\n",
       "    </tr>\n",
       "  </tbody>\n",
       "</table>\n",
       "<p>193 rows × 2 columns</p>\n",
       "</div>"
      ],
      "text/plain": [
       "     diesel  gas\n",
       "0         0    1\n",
       "1         0    1\n",
       "2         0    1\n",
       "3         0    1\n",
       "4         0    1\n",
       "..      ...  ...\n",
       "200       0    1\n",
       "201       0    1\n",
       "202       0    1\n",
       "203       1    0\n",
       "204       0    1\n",
       "\n",
       "[193 rows x 2 columns]"
      ]
     },
     "execution_count": 81,
     "metadata": {},
     "output_type": "execute_result"
    }
   ],
   "source": [
    " pd.get_dummies(car['fuel-type'])  # Convert value of the fuel-type from object to numeric type but temporary"
   ]
  },
  {
   "cell_type": "markdown",
   "id": "f1f4455a",
   "metadata": {},
   "source": [
    "###  2.)Label Encoding : It is second methods of the numeric categorical type data\n",
    "    First call label Encoder inbuilt class from sklearn, preprocessing "
   ]
  },
  {
   "cell_type": "code",
   "execution_count": 82,
   "id": "4e37a31d",
   "metadata": {
    "scrolled": true
   },
   "outputs": [],
   "source": [
    "from sklearn.preprocessing  import LabelEncoder\n",
    "# From filename.classname import classname"
   ]
  },
  {
   "cell_type": "code",
   "execution_count": 83,
   "id": "15d2ff53",
   "metadata": {
    "scrolled": true
   },
   "outputs": [
    {
     "data": {
      "text/plain": [
       "array([1, 1, 1, 1, 1, 1, 1, 1, 1, 1, 1, 1, 1, 1, 1, 1, 1, 1, 1, 1, 1, 1,\n",
       "       1, 1, 1, 1, 1, 1, 1, 1, 1, 1, 1, 1, 1, 1, 1, 1, 1, 1, 1, 1, 1, 1,\n",
       "       1, 1, 1, 1, 1, 1, 1, 1, 1, 1, 1, 1, 1, 1, 1, 1, 0, 1, 1, 0, 0, 0,\n",
       "       0, 0, 1, 1, 1, 1, 1, 1, 1, 1, 1, 1, 1, 1, 1, 1, 1, 1, 0, 1, 1, 1,\n",
       "       1, 1, 1, 1, 1, 1, 1, 1, 1, 1, 1, 1, 1, 1, 0, 1, 0, 1, 0, 1, 0, 1,\n",
       "       0, 1, 1, 1, 1, 1, 1, 1, 1, 1, 1, 1, 1, 1, 1, 1, 1, 1, 1, 1, 1, 1,\n",
       "       1, 1, 1, 1, 1, 1, 1, 1, 1, 1, 1, 1, 1, 1, 1, 1, 1, 1, 1, 0, 0, 1,\n",
       "       1, 1, 1, 1, 1, 1, 1, 1, 1, 1, 1, 1, 0, 1, 1, 1, 0, 1, 0, 1, 1, 0,\n",
       "       1, 1, 1, 1, 0, 1, 1, 1, 1, 1, 1, 1, 1, 1, 1, 0, 1])"
      ]
     },
     "execution_count": 83,
     "metadata": {},
     "output_type": "execute_result"
    }
   ],
   "source": [
    "# Create object of LabelEncoder class\n",
    "le=LabelEncoder()\n",
    "le.fit_transform(car['fuel-type'])"
   ]
  },
  {
   "cell_type": "code",
   "execution_count": 84,
   "id": "473ed0a5",
   "metadata": {
    "scrolled": true
   },
   "outputs": [
    {
     "data": {
      "text/plain": [
       "array([ 0,  0,  0,  1,  1,  1,  1,  1,  1,  1,  2,  2,  2,  2,  2,  2,  2,\n",
       "        2,  3,  3,  3,  4,  4,  4,  4,  4,  4,  4,  4,  5,  5,  5,  5,  5,\n",
       "        5,  5,  5,  5,  5,  5,  5,  6,  6,  6,  7,  7,  7,  8,  8,  8,  8,\n",
       "        8,  8,  8,  8,  8,  8,  8,  8,  8,  8,  8,  8,  8,  9,  9,  9,  9,\n",
       "        9,  9,  9,  9, 10, 11, 11, 11, 11, 11, 11, 11, 11, 11, 11, 12, 12,\n",
       "       12, 12, 12, 12, 12, 12, 12, 12, 12, 12, 12, 12, 12, 12, 12, 12, 13,\n",
       "       13, 13, 13, 13, 13, 13, 13, 13, 13, 13, 14, 14, 14, 14, 14, 14, 15,\n",
       "       15, 15, 15, 15, 16, 16, 17, 17, 17, 17, 17, 17, 18, 18, 18, 18, 18,\n",
       "       18, 18, 18, 18, 18, 18, 18, 19, 19, 19, 19, 19, 19, 19, 19, 19, 19,\n",
       "       19, 19, 19, 19, 19, 19, 19, 19, 19, 19, 19, 19, 19, 19, 19, 19, 19,\n",
       "       20, 20, 20, 20, 20, 20, 20, 20, 20, 20, 20, 20, 21, 21, 21, 21, 21,\n",
       "       21, 21, 21, 21, 21, 21])"
      ]
     },
     "execution_count": 84,
     "metadata": {},
     "output_type": "execute_result"
    }
   ],
   "source": [
    "# Create object of LabelEncoder class\n",
    "le=LabelEncoder()\n",
    "le.fit_transform(car['make'])"
   ]
  },
  {
   "cell_type": "code",
   "execution_count": 85,
   "id": "11c3c0d2",
   "metadata": {
    "scrolled": true
   },
   "outputs": [
    {
     "data": {
      "text/plain": [
       "array(['alfa-romero', 'audi', 'bmw', 'chevrolet', 'dodge', 'honda',\n",
       "       'isuzu', 'jaguar', 'mazda', 'mercedes-benz', 'mercury',\n",
       "       'mitsubishi', 'nissan', 'peugot', 'plymouth', 'porsche', 'renault',\n",
       "       'saab', 'subaru', 'toyota', 'volkswagen', 'volvo'], dtype=object)"
      ]
     },
     "execution_count": 85,
     "metadata": {},
     "output_type": "execute_result"
    }
   ],
   "source": [
    "car['make'].unique()"
   ]
  },
  {
   "cell_type": "markdown",
   "id": "538b772b",
   "metadata": {},
   "source": [
    "### Split the data type from the above table \n",
    "    Seperate the numercial data (int and float) and categorical data(object type)\n",
    "    First create dataframe name car_cat which hold object type data means categorical data"
   ]
  },
  {
   "cell_type": "code",
   "execution_count": 86,
   "id": "7f2bcb44",
   "metadata": {
    "scrolled": true
   },
   "outputs": [
    {
     "name": "stdout",
     "output_type": "stream",
     "text": [
      "<class 'pandas.core.frame.DataFrame'>\n",
      "Int64Index: 193 entries, 0 to 204\n",
      "Data columns (total 6 columns):\n",
      " #   Column           Non-Null Count  Dtype \n",
      "---  ------           --------------  ----- \n",
      " 0   make             193 non-null    object\n",
      " 1   fuel-type        193 non-null    object\n",
      " 2   body-style       193 non-null    object\n",
      " 3   drive-wheels     193 non-null    object\n",
      " 4   engine-location  193 non-null    object\n",
      " 5   engine-type      193 non-null    object\n",
      "dtypes: object(6)\n",
      "memory usage: 14.6+ KB\n"
     ]
    }
   ],
   "source": [
    "car_cat= car.select_dtypes(object)\n",
    "#Here car_cat is a new dataframe for categorical type data\n",
    "car_cat.info()"
   ]
  },
  {
   "cell_type": "code",
   "execution_count": 87,
   "id": "e1fcdf08",
   "metadata": {
    "scrolled": true
   },
   "outputs": [
    {
     "name": "stdout",
     "output_type": "stream",
     "text": [
      "<class 'pandas.core.frame.DataFrame'>\n",
      "Int64Index: 193 entries, 0 to 204\n",
      "Data columns (total 9 columns):\n",
      " #   Column             Non-Null Count  Dtype  \n",
      "---  ------             --------------  -----  \n",
      " 0   symboling          193 non-null    int64  \n",
      " 1   normalized-losses  193 non-null    float64\n",
      " 2   width              193 non-null    float64\n",
      " 3   height             193 non-null    float64\n",
      " 4   engine-size        193 non-null    int64  \n",
      " 5   horsepower         193 non-null    float64\n",
      " 6   city-mpg           193 non-null    int64  \n",
      " 7   highway-mpg        193 non-null    int64  \n",
      " 8   price              193 non-null    int64  \n",
      "dtypes: float64(4), int64(5)\n",
      "memory usage: 19.1 KB\n"
     ]
    }
   ],
   "source": [
    "# Then create second dataframe name car_num which hold int and float type data means numerical data\n",
    "car_num=car.select_dtypes(['int64','float64'])\n",
    "car_num.info()"
   ]
  },
  {
   "cell_type": "code",
   "execution_count": 88,
   "id": "16c53b01",
   "metadata": {
    "scrolled": true
   },
   "outputs": [],
   "source": [
    "# Here all categorical type data converts into numeric type\n",
    "for col in car_cat:\n",
    "    # Create obejct of LabelEncoder class\n",
    "    le=LabelEncoder()\n",
    "    car_cat[col]=le.fit_transform(car_cat[col])"
   ]
  },
  {
   "cell_type": "code",
   "execution_count": 89,
   "id": "88aa4739",
   "metadata": {
    "scrolled": true
   },
   "outputs": [
    {
     "name": "stdout",
     "output_type": "stream",
     "text": [
      "<class 'pandas.core.frame.DataFrame'>\n",
      "Int64Index: 193 entries, 0 to 204\n",
      "Data columns (total 6 columns):\n",
      " #   Column           Non-Null Count  Dtype\n",
      "---  ------           --------------  -----\n",
      " 0   make             193 non-null    int32\n",
      " 1   fuel-type        193 non-null    int32\n",
      " 2   body-style       193 non-null    int32\n",
      " 3   drive-wheels     193 non-null    int32\n",
      " 4   engine-location  193 non-null    int32\n",
      " 5   engine-type      193 non-null    int32\n",
      "dtypes: int32(6)\n",
      "memory usage: 10.1 KB\n"
     ]
    }
   ],
   "source": [
    "car_cat.info()"
   ]
  },
  {
   "cell_type": "markdown",
   "id": "34192e3b",
   "metadata": {},
   "source": [
    "###  Step 4.) Hnadling skewness\n",
    "    formula : skewness SUM(X-mean)**3/N\n",
    "### Skewness types \n",
    "    1.) Positive       2.) Negative\n",
    "#### If mean,median and mode all are same ,then its known as skewness."
   ]
  },
  {
   "cell_type": "code",
   "execution_count": 90,
   "id": "65725d3d",
   "metadata": {
    "scrolled": true
   },
   "outputs": [],
   "source": [
    "#Normal Distribution means  data are Equally distributed on both sides\n",
    "#Normal Distribution curve is apply only numeric type data\n",
    "#Normal Distribution is also a frequency curve .\n",
    "#for Normal Distribution curve : use inbuilt method distplot()and histplot :\n",
    "#distplot()/histplot() inbuilt method of seaborn library\n",
    "#sns.distplot(columnname) columnname should be numeric"
   ]
  },
  {
   "cell_type": "code",
   "execution_count": 91,
   "id": "2fa10aee",
   "metadata": {
    "scrolled": true
   },
   "outputs": [
    {
     "data": {
      "text/plain": [
       "Index(['symboling', 'normalized-losses', 'width', 'height', 'engine-size',\n",
       "       'horsepower', 'city-mpg', 'highway-mpg', 'price'],\n",
       "      dtype='object')"
      ]
     },
     "execution_count": 91,
     "metadata": {},
     "output_type": "execute_result"
    }
   ],
   "source": [
    "car_num.columns"
   ]
  },
  {
   "cell_type": "code",
   "execution_count": 92,
   "id": "a8f1d90d",
   "metadata": {
    "scrolled": true
   },
   "outputs": [
    {
     "name": "stdout",
     "output_type": "stream",
     "text": [
      "Skewness of column symboling : 0.2164328257301786\n",
      "Skewness of column normalized-losses : 0.8529589096850014\n",
      "Skewness of column width : 0.9219710534705245\n",
      "Skewness of column height : 0.00804949114390977\n",
      "Skewness of column engine-size : 2.0827139128099392\n",
      "Skewness of column horsepower : 1.5885868417887317\n",
      "Skewness of column city-mpg : 0.5971659062531333\n",
      "Skewness of column highway-mpg : 0.4719670300837074\n",
      "Skewness of column price : 1.8253731777872693\n"
     ]
    }
   ],
   "source": [
    "# Find skewness : use inbuilt method skew() : call inbuilt module \n",
    "# To check the skewness value in each and every numerical column \n",
    "for col in car_num:\n",
    "    print('Skewness of column {} : {}'.format(col,car_num[col].skew()))"
   ]
  },
  {
   "cell_type": "code",
   "execution_count": 93,
   "id": "19e1d18a",
   "metadata": {
    "scrolled": false
   },
   "outputs": [
    {
     "name": "stdout",
     "output_type": "stream",
     "text": [
      "Skewness of column symboling : 0.2164328257301786\n",
      "Histogram: symboling\n"
     ]
    },
    {
     "data": {
      "image/png": "[encoded data removed]",
      "text/plain": [
       "<Figure size 432x288 with 1 Axes>"
      ]
     },
     "metadata": {
      "needs_background": "light"
     },
     "output_type": "display_data"
    },
    {
     "data": {
      "image/png": "[encoded data removed]",
      "text/plain": [
       "<Figure size 432x288 with 1 Axes>"
      ]
     },
     "metadata": {
      "needs_background": "light"
     },
     "output_type": "display_data"
    },
    {
     "name": "stdout",
     "output_type": "stream",
     "text": [
      "Skewness of column normalized-losses : 0.8529589096850014\n",
      "Histogram: normalized-losses\n"
     ]
    },
    {
     "data": {
      "image/png": "[encoded data removed]",
      "text/plain": [
       "<Figure size 432x288 with 1 Axes>"
      ]
     },
     "metadata": {
      "needs_background": "light"
     },
     "output_type": "display_data"
    },
    {
     "data": {
      "image/png": "[encoded data removed]",
      "text/plain": [
       "<Figure size 432x288 with 1 Axes>"
      ]
     },
     "metadata": {
      "needs_background": "light"
     },
     "output_type": "display_data"
    },
    {
     "name": "stdout",
     "output_type": "stream",
     "text": [
      "Skewness of column width : 0.9219710534705245\n",
      "Histogram: width\n"
     ]
    },
    {
     "data": {
      "image/png": "[encoded data removed]",
      "text/plain": [
       "<Figure size 432x288 with 1 Axes>"
      ]
     },
     "metadata": {
      "needs_background": "light"
     },
     "output_type": "display_data"
    },
    {
     "data": {
      "image/png": "[encoded data removed]",
      "text/plain": [
       "<Figure size 432x288 with 1 Axes>"
      ]
     },
     "metadata": {
      "needs_background": "light"
     },
     "output_type": "display_data"
    },
    {
     "name": "stdout",
     "output_type": "stream",
     "text": [
      "Skewness of column height : 0.00804949114390977\n",
      "Histogram: height\n"
     ]
    },
    {
     "data": {
      "image/png": "[encoded data removed]",
      "text/plain": [
       "<Figure size 432x288 with 1 Axes>"
      ]
     },
     "metadata": {
      "needs_background": "light"
     },
     "output_type": "display_data"
    },
    {
     "data": {
      "image/png": "[encoded data removed]",
      "text/plain": [
       "<Figure size 432x288 with 1 Axes>"
      ]
     },
     "metadata": {
      "needs_background": "light"
     },
     "output_type": "display_data"
    },
    {
     "name": "stdout",
     "output_type": "stream",
     "text": [
      "Skewness of column engine-size : 2.0827139128099392\n",
      "Histogram: engine-size\n"
     ]
    },
    {
     "data": {
      "image/png": "[encoded data removed]",
      "text/plain": [
       "<Figure size 432x288 with 1 Axes>"
      ]
     },
     "metadata": {
      "needs_background": "light"
     },
     "output_type": "display_data"
    },
    {
     "data": {
      "image/png": "[encoded data removed]",
      "text/plain": [
       "<Figure size 432x288 with 1 Axes>"
      ]
     },
     "metadata": {
      "needs_background": "light"
     },
     "output_type": "display_data"
    },
    {
     "name": "stdout",
     "output_type": "stream",
     "text": [
      "Skewness of column horsepower : 1.5885868417887317\n",
      "Histogram: horsepower\n"
     ]
    },
    {
     "data": {
      "image/png": "[encoded data removed]",
      "text/plain": [
       "<Figure size 432x288 with 1 Axes>"
      ]
     },
     "metadata": {
      "needs_background": "light"
     },
     "output_type": "display_data"
    },
    {
     "data": {
      "image/png": "[encoded data removed]",
      "text/plain": [
       "<Figure size 432x288 with 1 Axes>"
      ]
     },
     "metadata": {
      "needs_background": "light"
     },
     "output_type": "display_data"
    },
    {
     "name": "stdout",
     "output_type": "stream",
     "text": [
      "Skewness of column city-mpg : 0.5971659062531333\n",
      "Histogram: city-mpg\n"
     ]
    },
    {
     "data": {
      "image/png": "[encoded data removed]",
      "text/plain": [
       "<Figure size 432x288 with 1 Axes>"
      ]
     },
     "metadata": {
      "needs_background": "light"
     },
     "output_type": "display_data"
    },
    {
     "data": {
      "image/png": "[encoded data removed]",
      "text/plain": [
       "<Figure size 432x288 with 1 Axes>"
      ]
     },
     "metadata": {
      "needs_background": "light"
     },
     "output_type": "display_data"
    },
    {
     "name": "stdout",
     "output_type": "stream",
     "text": [
      "Skewness of column highway-mpg : 0.4719670300837074\n",
      "Histogram: highway-mpg\n"
     ]
    },
    {
     "data": {
      "image/png": "[encoded data removed]",
      "text/plain": [
       "<Figure size 432x288 with 1 Axes>"
      ]
     },
     "metadata": {
      "needs_background": "light"
     },
     "output_type": "display_data"
    },
    {
     "data": {
      "image/png": "[encoded data removed]",
      "text/plain": [
       "<Figure size 432x288 with 1 Axes>"
      ]
     },
     "metadata": {
      "needs_background": "light"
     },
     "output_type": "display_data"
    },
    {
     "name": "stdout",
     "output_type": "stream",
     "text": [
      "Skewness of column price : 1.8253731777872693\n",
      "Histogram: price\n"
     ]
    },
    {
     "data": {
      "image/png": "[encoded data removed]",
      "text/plain": [
       "<Figure size 432x288 with 1 Axes>"
      ]
     },
     "metadata": {
      "needs_background": "light"
     },
     "output_type": "display_data"
    },
    {
     "data": {
      "image/png": "[encoded data removed]",
      "text/plain": [
       "<Figure size 432x288 with 1 Axes>"
      ]
     },
     "metadata": {
      "needs_background": "light"
     },
     "output_type": "display_data"
    }
   ],
   "source": [
    "for col in car_num:\n",
    "    print('Skewness of column {} : {}'.format(col,car_num[col].skew()))\n",
    "    print(\"Histogram:\" ,col)\n",
    "    sns.histplot(car_num[col])\n",
    "    plt.show()\n",
    "    sns.distplot(car_num[col])\n",
    "    plt.show()\n",
    "    "
   ]
  },
  {
   "cell_type": "code",
   "execution_count": 94,
   "id": "5b0baf8b",
   "metadata": {
    "scrolled": true
   },
   "outputs": [],
   "source": [
    "# Before apply transformation of skew column , first check correlation between each and every munerical\n",
    "# type input with output\n",
    "# In this dataset, output means target  : Price"
   ]
  },
  {
   "cell_type": "code",
   "execution_count": 95,
   "id": "88283597",
   "metadata": {
    "scrolled": true
   },
   "outputs": [
    {
     "data": {
      "image/png": "[encoded data removed]",
      "text/plain": [
       "<Figure size 432x288 with 2 Axes>"
      ]
     },
     "metadata": {
      "needs_background": "light"
     },
     "output_type": "display_data"
    }
   ],
   "source": [
    "sns.heatmap(car_num.corr(),annot=True)\n",
    "plt.show()"
   ]
  },
  {
   "cell_type": "code",
   "execution_count": 96,
   "id": "ad1e45a7",
   "metadata": {
    "scrolled": true
   },
   "outputs": [
    {
     "name": "stdout",
     "output_type": "stream",
     "text": [
      "symboling\n",
      "[ 3  1  2  0 -1 -2]\n",
      "normalized-losses\n",
      "[122. 164. 158. 192. 188. 121.  98.  81. 118. 148. 110. 137. 101.  78.\n",
      " 106.  85. 107. 145. 104. 113. 150. 129. 115.  93. 142. 161. 153. 125.\n",
      " 128. 103. 168. 108. 194. 231. 119. 154.  74. 186.  83. 102.  89.  87.\n",
      "  77.  91. 134.  65.  94. 256.  95.]\n",
      "width\n",
      "[64.1 65.5 66.2 66.4 66.3 71.4 67.9 64.8 66.9 70.9 60.3 63.6 63.8 64.6\n",
      " 63.9 64.  65.2 62.5 66.  61.8 69.6 70.6 64.2 65.7 66.5 66.1 70.3 71.7\n",
      " 70.5 72.  68.  64.4 65.4 68.4 68.3 65.  72.3 66.6 63.4 65.6 67.2 68.9\n",
      " 68.8]\n",
      "height\n",
      "[48.8 52.4 54.3 53.1 55.7 55.9 52.  53.7 56.3 53.2 50.8 50.6 59.8 52.6\n",
      " 54.5 58.3 53.3 54.1 51.  53.5 51.4 52.8 47.8 49.6 55.5 54.4 56.5 58.7\n",
      " 54.9 56.7 55.4 54.8 49.4 51.6 54.7 55.1 56.1 49.7 56.  50.2 50.5 55.2\n",
      " 52.5 53.  59.1 53.9 55.6 56.2 57.5]\n",
      "engine-size\n",
      "[130 152 109 136 131 108 164 209  61  90  98 122  92  79 110 111 119 258\n",
      " 326  91  70  80 140 134 183 234 308 304  97 103 120 181 151 194 203 132\n",
      " 121 146 141 173 145]\n",
      "horsepower\n",
      "[111.         154.         102.         115.         110.\n",
      " 140.         160.         101.         121.         182.\n",
      "  48.          70.          68.          88.          58.\n",
      "  76.          60.          86.         100.          78.\n",
      "  90.         176.         262.         135.          84.\n",
      "  64.         120.          72.         123.         155.\n",
      " 184.         175.         116.          69.          55.\n",
      "  97.         152.         200.          95.         142.\n",
      " 143.         207.         288.         104.25615764  73.\n",
      "  82.          94.          62.          56.         112.\n",
      "  92.          52.          85.         114.         162.\n",
      " 134.         106.        ]\n",
      "city-mpg\n",
      "[21 19 24 18 17 16 23 20 15 47 38 37 31 49 30 27 25 13 26 36 22 14 45 28\n",
      " 32 35 34 29 33]\n",
      "highway-mpg\n",
      "[27 26 30 22 25 20 29 28 53 43 41 38 54 42 34 33 31 19 17 23 32 39 18 16\n",
      " 24 37 50 36 47 46]\n",
      "price\n",
      "[13495 16500 13950 17450 15250 17710 18920 23875 12000 16430 16925 20970\n",
      " 21105 24565 30760 41315 36880  5151  6295  6575  5572  6377  7957  6229\n",
      "  6692  7609  8558  8921  6479  6855  5399  6529  7129  7295  7895  9095\n",
      "  8845 10295 10345  6785 10000 11048 32250 35550 36000  5195  6095  6795\n",
      "  6695  7395 10945 11845 13645 15645  8495 10595 10245 10795 11245 18280\n",
      " 18344 25552 28248 28176 31600 34184 35056 40960 45400 16503  5389  6189\n",
      "  6669  7689  9959  8499  6989  8189  9279  5499  7099  6649  6849  7349\n",
      "  7299  7799  7499  7999  8249  8949  9549 13499 14399 17199 19699 18399\n",
      " 11900 13200 12440 13860 15580 16900 16695 17075 16630 17950 18150 22018\n",
      " 32528 34028 37028  9295  9895 11850 12170 15040 15510 18620  5118  7053\n",
      "  7603  7126  7775  9960  9233 11259  7463 10198  8013 11694  5348  6338\n",
      "  6488  6918  7898  8778  6938  7198  7788  7738  8358  9258  8058  8238\n",
      "  9298  9538  8449  9639  9989 11199 11549  8948 10698  9988 10898 11248\n",
      "  7975  7995  8195  9495  9995 11595  9980 13295 13845 12290 12940 13415\n",
      " 15985 16515 18420 18950 16845 19045 21485 22470 22625]\n"
     ]
    }
   ],
   "source": [
    "for col in car_num:\n",
    "    print(col)\n",
    "    print(car_num[col].unique())"
   ]
  },
  {
   "cell_type": "markdown",
   "id": "e7db4674",
   "metadata": {},
   "source": [
    "# we saw : - \n",
    " good correlation width,engine-size,horsepower,city-mpg,highway-mpg with\n",
    "target variable price and also find skewness in this column but we will not \n",
    "apply transformation to reduce skewness .\n",
    "but bad correlation between symboling and normalised-losses with price and \n",
    "also find skewness in those column so apply transformation to reduce skewness\n",
    "and the skewness of height is close to zero so not apply transformation \n",
    "in this column "
   ]
  },
  {
   "cell_type": "code",
   "execution_count": 97,
   "id": "ffb6d6b5",
   "metadata": {
    "scrolled": true
   },
   "outputs": [
    {
     "data": {
      "text/plain": [
       "nan"
      ]
     },
     "execution_count": 97,
     "metadata": {},
     "output_type": "execute_result"
    }
   ],
   "source": [
    "#There are 2 types of transformation to reduce skewness\n",
    "# 1. sqrt()    2. log( )\n",
    "#call this method with the help of numpy library.\n",
    "#Rule : -\n",
    "np.sqrt(-1)"
   ]
  },
  {
   "cell_type": "code",
   "execution_count": 98,
   "id": "c1a4af6e",
   "metadata": {
    "scrolled": true
   },
   "outputs": [],
   "source": [
    "# apply sqrt() transfromation on normalized losses to reduce the skewness permanently\n",
    "car_num['normalized-losses']=np.log(car_num['normalized-losses'])"
   ]
  },
  {
   "cell_type": "code",
   "execution_count": 99,
   "id": "79885936",
   "metadata": {
    "scrolled": true
   },
   "outputs": [
    {
     "data": {
      "text/plain": [
       "0.020836595504623242"
      ]
     },
     "execution_count": 99,
     "metadata": {},
     "output_type": "execute_result"
    }
   ],
   "source": [
    "# Check the skewness of car_num['normalized-losses'] column after \n",
    "car_num['normalized-losses'].skew()"
   ]
  },
  {
   "cell_type": "markdown",
   "id": "e73b7de4",
   "metadata": {},
   "source": [
    "### Finally we concatenate of 2 DataFrame car_num and car_cat hold in  new DataFrame    car_new : use concat()  : inbuilt function of pandas "
   ]
  },
  {
   "cell_type": "code",
   "execution_count": 100,
   "id": "ce25735b",
   "metadata": {
    "scrolled": true
   },
   "outputs": [
    {
     "data": {
      "text/html": [
       "<div>\n",
       "<style scoped>\n",
       "    .dataframe tbody tr th:only-of-type {\n",
       "        vertical-align: middle;\n",
       "    }\n",
       "\n",
       "    .dataframe tbody tr th {\n",
       "        vertical-align: top;\n",
       "    }\n",
       "\n",
       "    .dataframe thead th {\n",
       "        text-align: right;\n",
       "    }\n",
       "</style>\n",
       "<table border=\"1\" class=\"dataframe\">\n",
       "  <thead>\n",
       "    <tr style=\"text-align: right;\">\n",
       "      <th></th>\n",
       "      <th>symboling</th>\n",
       "      <th>normalized-losses</th>\n",
       "      <th>width</th>\n",
       "      <th>height</th>\n",
       "      <th>engine-size</th>\n",
       "      <th>horsepower</th>\n",
       "      <th>city-mpg</th>\n",
       "      <th>highway-mpg</th>\n",
       "      <th>price</th>\n",
       "      <th>make</th>\n",
       "      <th>fuel-type</th>\n",
       "      <th>body-style</th>\n",
       "      <th>drive-wheels</th>\n",
       "      <th>engine-location</th>\n",
       "      <th>engine-type</th>\n",
       "    </tr>\n",
       "  </thead>\n",
       "  <tbody>\n",
       "    <tr>\n",
       "      <th>0</th>\n",
       "      <td>3</td>\n",
       "      <td>4.804021</td>\n",
       "      <td>64.1</td>\n",
       "      <td>48.8</td>\n",
       "      <td>130</td>\n",
       "      <td>111.0</td>\n",
       "      <td>21</td>\n",
       "      <td>27</td>\n",
       "      <td>13495</td>\n",
       "      <td>0</td>\n",
       "      <td>1</td>\n",
       "      <td>0</td>\n",
       "      <td>2</td>\n",
       "      <td>0</td>\n",
       "      <td>0</td>\n",
       "    </tr>\n",
       "    <tr>\n",
       "      <th>1</th>\n",
       "      <td>3</td>\n",
       "      <td>4.804021</td>\n",
       "      <td>64.1</td>\n",
       "      <td>48.8</td>\n",
       "      <td>130</td>\n",
       "      <td>111.0</td>\n",
       "      <td>21</td>\n",
       "      <td>27</td>\n",
       "      <td>16500</td>\n",
       "      <td>0</td>\n",
       "      <td>1</td>\n",
       "      <td>0</td>\n",
       "      <td>2</td>\n",
       "      <td>0</td>\n",
       "      <td>0</td>\n",
       "    </tr>\n",
       "    <tr>\n",
       "      <th>2</th>\n",
       "      <td>1</td>\n",
       "      <td>4.804021</td>\n",
       "      <td>65.5</td>\n",
       "      <td>52.4</td>\n",
       "      <td>152</td>\n",
       "      <td>154.0</td>\n",
       "      <td>19</td>\n",
       "      <td>26</td>\n",
       "      <td>16500</td>\n",
       "      <td>0</td>\n",
       "      <td>1</td>\n",
       "      <td>2</td>\n",
       "      <td>2</td>\n",
       "      <td>0</td>\n",
       "      <td>5</td>\n",
       "    </tr>\n",
       "    <tr>\n",
       "      <th>3</th>\n",
       "      <td>2</td>\n",
       "      <td>5.099866</td>\n",
       "      <td>66.2</td>\n",
       "      <td>54.3</td>\n",
       "      <td>109</td>\n",
       "      <td>102.0</td>\n",
       "      <td>24</td>\n",
       "      <td>30</td>\n",
       "      <td>13950</td>\n",
       "      <td>1</td>\n",
       "      <td>1</td>\n",
       "      <td>3</td>\n",
       "      <td>1</td>\n",
       "      <td>0</td>\n",
       "      <td>3</td>\n",
       "    </tr>\n",
       "    <tr>\n",
       "      <th>4</th>\n",
       "      <td>2</td>\n",
       "      <td>5.099866</td>\n",
       "      <td>66.4</td>\n",
       "      <td>54.3</td>\n",
       "      <td>136</td>\n",
       "      <td>115.0</td>\n",
       "      <td>18</td>\n",
       "      <td>22</td>\n",
       "      <td>17450</td>\n",
       "      <td>1</td>\n",
       "      <td>1</td>\n",
       "      <td>3</td>\n",
       "      <td>0</td>\n",
       "      <td>0</td>\n",
       "      <td>3</td>\n",
       "    </tr>\n",
       "    <tr>\n",
       "      <th>...</th>\n",
       "      <td>...</td>\n",
       "      <td>...</td>\n",
       "      <td>...</td>\n",
       "      <td>...</td>\n",
       "      <td>...</td>\n",
       "      <td>...</td>\n",
       "      <td>...</td>\n",
       "      <td>...</td>\n",
       "      <td>...</td>\n",
       "      <td>...</td>\n",
       "      <td>...</td>\n",
       "      <td>...</td>\n",
       "      <td>...</td>\n",
       "      <td>...</td>\n",
       "      <td>...</td>\n",
       "    </tr>\n",
       "    <tr>\n",
       "      <th>200</th>\n",
       "      <td>-1</td>\n",
       "      <td>4.553877</td>\n",
       "      <td>68.9</td>\n",
       "      <td>55.5</td>\n",
       "      <td>141</td>\n",
       "      <td>114.0</td>\n",
       "      <td>23</td>\n",
       "      <td>28</td>\n",
       "      <td>16845</td>\n",
       "      <td>21</td>\n",
       "      <td>1</td>\n",
       "      <td>3</td>\n",
       "      <td>2</td>\n",
       "      <td>0</td>\n",
       "      <td>3</td>\n",
       "    </tr>\n",
       "    <tr>\n",
       "      <th>201</th>\n",
       "      <td>-1</td>\n",
       "      <td>4.553877</td>\n",
       "      <td>68.8</td>\n",
       "      <td>55.5</td>\n",
       "      <td>141</td>\n",
       "      <td>160.0</td>\n",
       "      <td>19</td>\n",
       "      <td>25</td>\n",
       "      <td>19045</td>\n",
       "      <td>21</td>\n",
       "      <td>1</td>\n",
       "      <td>3</td>\n",
       "      <td>2</td>\n",
       "      <td>0</td>\n",
       "      <td>3</td>\n",
       "    </tr>\n",
       "    <tr>\n",
       "      <th>202</th>\n",
       "      <td>-1</td>\n",
       "      <td>4.553877</td>\n",
       "      <td>68.9</td>\n",
       "      <td>55.5</td>\n",
       "      <td>173</td>\n",
       "      <td>134.0</td>\n",
       "      <td>18</td>\n",
       "      <td>23</td>\n",
       "      <td>21485</td>\n",
       "      <td>21</td>\n",
       "      <td>1</td>\n",
       "      <td>3</td>\n",
       "      <td>2</td>\n",
       "      <td>0</td>\n",
       "      <td>5</td>\n",
       "    </tr>\n",
       "    <tr>\n",
       "      <th>203</th>\n",
       "      <td>-1</td>\n",
       "      <td>4.553877</td>\n",
       "      <td>68.9</td>\n",
       "      <td>55.5</td>\n",
       "      <td>145</td>\n",
       "      <td>106.0</td>\n",
       "      <td>26</td>\n",
       "      <td>27</td>\n",
       "      <td>22470</td>\n",
       "      <td>21</td>\n",
       "      <td>0</td>\n",
       "      <td>3</td>\n",
       "      <td>2</td>\n",
       "      <td>0</td>\n",
       "      <td>3</td>\n",
       "    </tr>\n",
       "    <tr>\n",
       "      <th>204</th>\n",
       "      <td>-1</td>\n",
       "      <td>4.553877</td>\n",
       "      <td>68.9</td>\n",
       "      <td>55.5</td>\n",
       "      <td>141</td>\n",
       "      <td>114.0</td>\n",
       "      <td>19</td>\n",
       "      <td>25</td>\n",
       "      <td>22625</td>\n",
       "      <td>21</td>\n",
       "      <td>1</td>\n",
       "      <td>3</td>\n",
       "      <td>2</td>\n",
       "      <td>0</td>\n",
       "      <td>3</td>\n",
       "    </tr>\n",
       "  </tbody>\n",
       "</table>\n",
       "<p>193 rows × 15 columns</p>\n",
       "</div>"
      ],
      "text/plain": [
       "     symboling  normalized-losses  width  height  engine-size  horsepower  \\\n",
       "0            3           4.804021   64.1    48.8          130       111.0   \n",
       "1            3           4.804021   64.1    48.8          130       111.0   \n",
       "2            1           4.804021   65.5    52.4          152       154.0   \n",
       "3            2           5.099866   66.2    54.3          109       102.0   \n",
       "4            2           5.099866   66.4    54.3          136       115.0   \n",
       "..         ...                ...    ...     ...          ...         ...   \n",
       "200         -1           4.553877   68.9    55.5          141       114.0   \n",
       "201         -1           4.553877   68.8    55.5          141       160.0   \n",
       "202         -1           4.553877   68.9    55.5          173       134.0   \n",
       "203         -1           4.553877   68.9    55.5          145       106.0   \n",
       "204         -1           4.553877   68.9    55.5          141       114.0   \n",
       "\n",
       "     city-mpg  highway-mpg  price  make  fuel-type  body-style  drive-wheels  \\\n",
       "0          21           27  13495     0          1           0             2   \n",
       "1          21           27  16500     0          1           0             2   \n",
       "2          19           26  16500     0          1           2             2   \n",
       "3          24           30  13950     1          1           3             1   \n",
       "4          18           22  17450     1          1           3             0   \n",
       "..        ...          ...    ...   ...        ...         ...           ...   \n",
       "200        23           28  16845    21          1           3             2   \n",
       "201        19           25  19045    21          1           3             2   \n",
       "202        18           23  21485    21          1           3             2   \n",
       "203        26           27  22470    21          0           3             2   \n",
       "204        19           25  22625    21          1           3             2   \n",
       "\n",
       "     engine-location  engine-type  \n",
       "0                  0            0  \n",
       "1                  0            0  \n",
       "2                  0            5  \n",
       "3                  0            3  \n",
       "4                  0            3  \n",
       "..               ...          ...  \n",
       "200                0            3  \n",
       "201                0            3  \n",
       "202                0            5  \n",
       "203                0            3  \n",
       "204                0            3  \n",
       "\n",
       "[193 rows x 15 columns]"
      ]
     },
     "execution_count": 100,
     "metadata": {},
     "output_type": "execute_result"
    }
   ],
   "source": [
    "car_new=pd.concat([car_num,car_cat],axis=1)\n",
    "car_new\n",
    "# Concatenate means to join 2 or more DataFrame\n",
    "# Join column wise means axis=1"
   ]
  },
  {
   "cell_type": "code",
   "execution_count": 101,
   "id": "c8bbe818",
   "metadata": {
    "scrolled": true
   },
   "outputs": [
    {
     "data": {
      "text/html": [
       "<div>\n",
       "<style scoped>\n",
       "    .dataframe tbody tr th:only-of-type {\n",
       "        vertical-align: middle;\n",
       "    }\n",
       "\n",
       "    .dataframe tbody tr th {\n",
       "        vertical-align: top;\n",
       "    }\n",
       "\n",
       "    .dataframe thead th {\n",
       "        text-align: right;\n",
       "    }\n",
       "</style>\n",
       "<table border=\"1\" class=\"dataframe\">\n",
       "  <thead>\n",
       "    <tr style=\"text-align: right;\">\n",
       "      <th></th>\n",
       "      <th>symboling</th>\n",
       "      <th>normalized-losses</th>\n",
       "      <th>width</th>\n",
       "      <th>height</th>\n",
       "      <th>engine-size</th>\n",
       "      <th>horsepower</th>\n",
       "      <th>city-mpg</th>\n",
       "      <th>highway-mpg</th>\n",
       "      <th>price</th>\n",
       "      <th>make</th>\n",
       "      <th>fuel-type</th>\n",
       "      <th>body-style</th>\n",
       "      <th>drive-wheels</th>\n",
       "      <th>engine-location</th>\n",
       "      <th>engine-type</th>\n",
       "    </tr>\n",
       "  </thead>\n",
       "  <tbody>\n",
       "    <tr>\n",
       "      <th>0</th>\n",
       "      <td>3</td>\n",
       "      <td>4.804021</td>\n",
       "      <td>64.1</td>\n",
       "      <td>48.8</td>\n",
       "      <td>130</td>\n",
       "      <td>111.0</td>\n",
       "      <td>21</td>\n",
       "      <td>27</td>\n",
       "      <td>13495</td>\n",
       "      <td>0</td>\n",
       "      <td>1</td>\n",
       "      <td>0</td>\n",
       "      <td>2</td>\n",
       "      <td>0</td>\n",
       "      <td>0</td>\n",
       "    </tr>\n",
       "    <tr>\n",
       "      <th>1</th>\n",
       "      <td>3</td>\n",
       "      <td>4.804021</td>\n",
       "      <td>64.1</td>\n",
       "      <td>48.8</td>\n",
       "      <td>130</td>\n",
       "      <td>111.0</td>\n",
       "      <td>21</td>\n",
       "      <td>27</td>\n",
       "      <td>16500</td>\n",
       "      <td>0</td>\n",
       "      <td>1</td>\n",
       "      <td>0</td>\n",
       "      <td>2</td>\n",
       "      <td>0</td>\n",
       "      <td>0</td>\n",
       "    </tr>\n",
       "    <tr>\n",
       "      <th>2</th>\n",
       "      <td>1</td>\n",
       "      <td>4.804021</td>\n",
       "      <td>65.5</td>\n",
       "      <td>52.4</td>\n",
       "      <td>152</td>\n",
       "      <td>154.0</td>\n",
       "      <td>19</td>\n",
       "      <td>26</td>\n",
       "      <td>16500</td>\n",
       "      <td>0</td>\n",
       "      <td>1</td>\n",
       "      <td>2</td>\n",
       "      <td>2</td>\n",
       "      <td>0</td>\n",
       "      <td>5</td>\n",
       "    </tr>\n",
       "    <tr>\n",
       "      <th>3</th>\n",
       "      <td>2</td>\n",
       "      <td>5.099866</td>\n",
       "      <td>66.2</td>\n",
       "      <td>54.3</td>\n",
       "      <td>109</td>\n",
       "      <td>102.0</td>\n",
       "      <td>24</td>\n",
       "      <td>30</td>\n",
       "      <td>13950</td>\n",
       "      <td>1</td>\n",
       "      <td>1</td>\n",
       "      <td>3</td>\n",
       "      <td>1</td>\n",
       "      <td>0</td>\n",
       "      <td>3</td>\n",
       "    </tr>\n",
       "    <tr>\n",
       "      <th>4</th>\n",
       "      <td>2</td>\n",
       "      <td>5.099866</td>\n",
       "      <td>66.4</td>\n",
       "      <td>54.3</td>\n",
       "      <td>136</td>\n",
       "      <td>115.0</td>\n",
       "      <td>18</td>\n",
       "      <td>22</td>\n",
       "      <td>17450</td>\n",
       "      <td>1</td>\n",
       "      <td>1</td>\n",
       "      <td>3</td>\n",
       "      <td>0</td>\n",
       "      <td>0</td>\n",
       "      <td>3</td>\n",
       "    </tr>\n",
       "  </tbody>\n",
       "</table>\n",
       "</div>"
      ],
      "text/plain": [
       "   symboling  normalized-losses  width  height  engine-size  horsepower  \\\n",
       "0          3           4.804021   64.1    48.8          130       111.0   \n",
       "1          3           4.804021   64.1    48.8          130       111.0   \n",
       "2          1           4.804021   65.5    52.4          152       154.0   \n",
       "3          2           5.099866   66.2    54.3          109       102.0   \n",
       "4          2           5.099866   66.4    54.3          136       115.0   \n",
       "\n",
       "   city-mpg  highway-mpg  price  make  fuel-type  body-style  drive-wheels  \\\n",
       "0        21           27  13495     0          1           0             2   \n",
       "1        21           27  16500     0          1           0             2   \n",
       "2        19           26  16500     0          1           2             2   \n",
       "3        24           30  13950     1          1           3             1   \n",
       "4        18           22  17450     1          1           3             0   \n",
       "\n",
       "   engine-location  engine-type  \n",
       "0                0            0  \n",
       "1                0            0  \n",
       "2                0            5  \n",
       "3                0            3  \n",
       "4                0            3  "
      ]
     },
     "execution_count": 101,
     "metadata": {},
     "output_type": "execute_result"
    }
   ],
   "source": [
    "car_new.head()"
   ]
  },
  {
   "cell_type": "code",
   "execution_count": 102,
   "id": "84255fe2",
   "metadata": {
    "scrolled": true
   },
   "outputs": [
    {
     "name": "stdout",
     "output_type": "stream",
     "text": [
      "<class 'pandas.core.frame.DataFrame'>\n",
      "Int64Index: 193 entries, 0 to 204\n",
      "Data columns (total 15 columns):\n",
      " #   Column             Non-Null Count  Dtype  \n",
      "---  ------             --------------  -----  \n",
      " 0   symboling          193 non-null    int64  \n",
      " 1   normalized-losses  193 non-null    float64\n",
      " 2   width              193 non-null    float64\n",
      " 3   height             193 non-null    float64\n",
      " 4   engine-size        193 non-null    int64  \n",
      " 5   horsepower         193 non-null    float64\n",
      " 6   city-mpg           193 non-null    int64  \n",
      " 7   highway-mpg        193 non-null    int64  \n",
      " 8   price              193 non-null    int64  \n",
      " 9   make               193 non-null    int32  \n",
      " 10  fuel-type          193 non-null    int32  \n",
      " 11  body-style         193 non-null    int32  \n",
      " 12  drive-wheels       193 non-null    int32  \n",
      " 13  engine-location    193 non-null    int32  \n",
      " 14  engine-type        193 non-null    int32  \n",
      "dtypes: float64(4), int32(6), int64(5)\n",
      "memory usage: 23.7 KB\n"
     ]
    }
   ],
   "source": [
    "car_new.info()"
   ]
  },
  {
   "cell_type": "markdown",
   "id": "0c3b9898",
   "metadata": {},
   "source": [
    "# Step 4.) Scaling\n",
    "     Scaling means unit of all the columns should be same, so apply scaling on column in given    dataset \n",
    "    For example :\n",
    "             n1=1000 meter here unit : meter of variable n1\n",
    "             n2=20 km      here unit : Kilo- meter of variable n2\n",
    "             \n",
    "             1 km = 1000 meter \n",
    "             20 km = 1000 * 20 = 20000 meter\n",
    "             n2= 20000m\n",
    "             n1 > n2"
   ]
  },
  {
   "cell_type": "code",
   "execution_count": 103,
   "id": "b25aba31",
   "metadata": {
    "scrolled": true
   },
   "outputs": [
    {
     "name": "stdout",
     "output_type": "stream",
     "text": [
      "n2 is greater :  20000\n"
     ]
    }
   ],
   "source": [
    "n1=1000 #  unit : m\n",
    "n2 = 20 # unit : km\n",
    "n2= 1000 * n2\n",
    "if n1 > n2:\n",
    "    print(\"n1 is greater : \",n1)\n",
    "else:\n",
    "    print(\"n2 is greater : \",n2)"
   ]
  },
  {
   "cell_type": "markdown",
   "id": "bf32bcb6",
   "metadata": {},
   "source": [
    "###  There are two types of methods :\n",
    "     1. MinMaxScaler  : Normalization\n",
    "     2. StandardScaler : Standardization\n",
    "     \n",
    "     \n",
    "#### Mostly we are use StandardScaler Method, why? because values are under 0s and 1s"
   ]
  },
  {
   "cell_type": "markdown",
   "id": "1cce93b0",
   "metadata": {},
   "source": [
    "## 1. MinMaxScaler : \n",
    "      Formula of MinMaxScaler  = (X-min(X)) / (Max(X) - min(X))"
   ]
  },
  {
   "cell_type": "raw",
   "id": "c27ca77a",
   "metadata": {},
   "source": [
    " from sklearn.preprocessing import MinMaxScaler\n",
    " #### Note: MinMaxScaler inbuilt class which define inbuilt package sklearn.preprocessing \n",
    "\n",
    "`\n",
    "for col in car_new:\n",
    "    # Create object of MinMaxScaler class\n",
    "    mx=MinMaxScaler()\n",
    "    car_new[col]=mx.fit_transform(car_new[[col]])  # Change Permanent\n",
    "    \n",
    "    #fit_transform() inbuilt method of MinMaxScaler Class\n",
    "  "
   ]
  },
  {
   "cell_type": "code",
   "execution_count": 105,
   "id": "4ff44750",
   "metadata": {
    "scrolled": true
   },
   "outputs": [
    {
     "data": {
      "text/html": [
       "<div>\n",
       "<style scoped>\n",
       "    .dataframe tbody tr th:only-of-type {\n",
       "        vertical-align: middle;\n",
       "    }\n",
       "\n",
       "    .dataframe tbody tr th {\n",
       "        vertical-align: top;\n",
       "    }\n",
       "\n",
       "    .dataframe thead th {\n",
       "        text-align: right;\n",
       "    }\n",
       "</style>\n",
       "<table border=\"1\" class=\"dataframe\">\n",
       "  <thead>\n",
       "    <tr style=\"text-align: right;\">\n",
       "      <th></th>\n",
       "      <th>symboling</th>\n",
       "      <th>normalized-losses</th>\n",
       "      <th>width</th>\n",
       "      <th>height</th>\n",
       "      <th>engine-size</th>\n",
       "      <th>horsepower</th>\n",
       "      <th>city-mpg</th>\n",
       "      <th>highway-mpg</th>\n",
       "      <th>price</th>\n",
       "      <th>make</th>\n",
       "      <th>fuel-type</th>\n",
       "      <th>body-style</th>\n",
       "      <th>drive-wheels</th>\n",
       "      <th>engine-location</th>\n",
       "      <th>engine-type</th>\n",
       "    </tr>\n",
       "  </thead>\n",
       "  <tbody>\n",
       "    <tr>\n",
       "      <th>0</th>\n",
       "      <td>3</td>\n",
       "      <td>4.804021</td>\n",
       "      <td>64.1</td>\n",
       "      <td>48.8</td>\n",
       "      <td>130</td>\n",
       "      <td>111.0</td>\n",
       "      <td>21</td>\n",
       "      <td>27</td>\n",
       "      <td>13495</td>\n",
       "      <td>0</td>\n",
       "      <td>1</td>\n",
       "      <td>0</td>\n",
       "      <td>2</td>\n",
       "      <td>0</td>\n",
       "      <td>0</td>\n",
       "    </tr>\n",
       "    <tr>\n",
       "      <th>1</th>\n",
       "      <td>3</td>\n",
       "      <td>4.804021</td>\n",
       "      <td>64.1</td>\n",
       "      <td>48.8</td>\n",
       "      <td>130</td>\n",
       "      <td>111.0</td>\n",
       "      <td>21</td>\n",
       "      <td>27</td>\n",
       "      <td>16500</td>\n",
       "      <td>0</td>\n",
       "      <td>1</td>\n",
       "      <td>0</td>\n",
       "      <td>2</td>\n",
       "      <td>0</td>\n",
       "      <td>0</td>\n",
       "    </tr>\n",
       "    <tr>\n",
       "      <th>2</th>\n",
       "      <td>1</td>\n",
       "      <td>4.804021</td>\n",
       "      <td>65.5</td>\n",
       "      <td>52.4</td>\n",
       "      <td>152</td>\n",
       "      <td>154.0</td>\n",
       "      <td>19</td>\n",
       "      <td>26</td>\n",
       "      <td>16500</td>\n",
       "      <td>0</td>\n",
       "      <td>1</td>\n",
       "      <td>2</td>\n",
       "      <td>2</td>\n",
       "      <td>0</td>\n",
       "      <td>5</td>\n",
       "    </tr>\n",
       "    <tr>\n",
       "      <th>3</th>\n",
       "      <td>2</td>\n",
       "      <td>5.099866</td>\n",
       "      <td>66.2</td>\n",
       "      <td>54.3</td>\n",
       "      <td>109</td>\n",
       "      <td>102.0</td>\n",
       "      <td>24</td>\n",
       "      <td>30</td>\n",
       "      <td>13950</td>\n",
       "      <td>1</td>\n",
       "      <td>1</td>\n",
       "      <td>3</td>\n",
       "      <td>1</td>\n",
       "      <td>0</td>\n",
       "      <td>3</td>\n",
       "    </tr>\n",
       "    <tr>\n",
       "      <th>4</th>\n",
       "      <td>2</td>\n",
       "      <td>5.099866</td>\n",
       "      <td>66.4</td>\n",
       "      <td>54.3</td>\n",
       "      <td>136</td>\n",
       "      <td>115.0</td>\n",
       "      <td>18</td>\n",
       "      <td>22</td>\n",
       "      <td>17450</td>\n",
       "      <td>1</td>\n",
       "      <td>1</td>\n",
       "      <td>3</td>\n",
       "      <td>0</td>\n",
       "      <td>0</td>\n",
       "      <td>3</td>\n",
       "    </tr>\n",
       "    <tr>\n",
       "      <th>...</th>\n",
       "      <td>...</td>\n",
       "      <td>...</td>\n",
       "      <td>...</td>\n",
       "      <td>...</td>\n",
       "      <td>...</td>\n",
       "      <td>...</td>\n",
       "      <td>...</td>\n",
       "      <td>...</td>\n",
       "      <td>...</td>\n",
       "      <td>...</td>\n",
       "      <td>...</td>\n",
       "      <td>...</td>\n",
       "      <td>...</td>\n",
       "      <td>...</td>\n",
       "      <td>...</td>\n",
       "    </tr>\n",
       "    <tr>\n",
       "      <th>200</th>\n",
       "      <td>-1</td>\n",
       "      <td>4.553877</td>\n",
       "      <td>68.9</td>\n",
       "      <td>55.5</td>\n",
       "      <td>141</td>\n",
       "      <td>114.0</td>\n",
       "      <td>23</td>\n",
       "      <td>28</td>\n",
       "      <td>16845</td>\n",
       "      <td>21</td>\n",
       "      <td>1</td>\n",
       "      <td>3</td>\n",
       "      <td>2</td>\n",
       "      <td>0</td>\n",
       "      <td>3</td>\n",
       "    </tr>\n",
       "    <tr>\n",
       "      <th>201</th>\n",
       "      <td>-1</td>\n",
       "      <td>4.553877</td>\n",
       "      <td>68.8</td>\n",
       "      <td>55.5</td>\n",
       "      <td>141</td>\n",
       "      <td>160.0</td>\n",
       "      <td>19</td>\n",
       "      <td>25</td>\n",
       "      <td>19045</td>\n",
       "      <td>21</td>\n",
       "      <td>1</td>\n",
       "      <td>3</td>\n",
       "      <td>2</td>\n",
       "      <td>0</td>\n",
       "      <td>3</td>\n",
       "    </tr>\n",
       "    <tr>\n",
       "      <th>202</th>\n",
       "      <td>-1</td>\n",
       "      <td>4.553877</td>\n",
       "      <td>68.9</td>\n",
       "      <td>55.5</td>\n",
       "      <td>173</td>\n",
       "      <td>134.0</td>\n",
       "      <td>18</td>\n",
       "      <td>23</td>\n",
       "      <td>21485</td>\n",
       "      <td>21</td>\n",
       "      <td>1</td>\n",
       "      <td>3</td>\n",
       "      <td>2</td>\n",
       "      <td>0</td>\n",
       "      <td>5</td>\n",
       "    </tr>\n",
       "    <tr>\n",
       "      <th>203</th>\n",
       "      <td>-1</td>\n",
       "      <td>4.553877</td>\n",
       "      <td>68.9</td>\n",
       "      <td>55.5</td>\n",
       "      <td>145</td>\n",
       "      <td>106.0</td>\n",
       "      <td>26</td>\n",
       "      <td>27</td>\n",
       "      <td>22470</td>\n",
       "      <td>21</td>\n",
       "      <td>0</td>\n",
       "      <td>3</td>\n",
       "      <td>2</td>\n",
       "      <td>0</td>\n",
       "      <td>3</td>\n",
       "    </tr>\n",
       "    <tr>\n",
       "      <th>204</th>\n",
       "      <td>-1</td>\n",
       "      <td>4.553877</td>\n",
       "      <td>68.9</td>\n",
       "      <td>55.5</td>\n",
       "      <td>141</td>\n",
       "      <td>114.0</td>\n",
       "      <td>19</td>\n",
       "      <td>25</td>\n",
       "      <td>22625</td>\n",
       "      <td>21</td>\n",
       "      <td>1</td>\n",
       "      <td>3</td>\n",
       "      <td>2</td>\n",
       "      <td>0</td>\n",
       "      <td>3</td>\n",
       "    </tr>\n",
       "  </tbody>\n",
       "</table>\n",
       "<p>193 rows × 15 columns</p>\n",
       "</div>"
      ],
      "text/plain": [
       "     symboling  normalized-losses  width  height  engine-size  horsepower  \\\n",
       "0            3           4.804021   64.1    48.8          130       111.0   \n",
       "1            3           4.804021   64.1    48.8          130       111.0   \n",
       "2            1           4.804021   65.5    52.4          152       154.0   \n",
       "3            2           5.099866   66.2    54.3          109       102.0   \n",
       "4            2           5.099866   66.4    54.3          136       115.0   \n",
       "..         ...                ...    ...     ...          ...         ...   \n",
       "200         -1           4.553877   68.9    55.5          141       114.0   \n",
       "201         -1           4.553877   68.8    55.5          141       160.0   \n",
       "202         -1           4.553877   68.9    55.5          173       134.0   \n",
       "203         -1           4.553877   68.9    55.5          145       106.0   \n",
       "204         -1           4.553877   68.9    55.5          141       114.0   \n",
       "\n",
       "     city-mpg  highway-mpg  price  make  fuel-type  body-style  drive-wheels  \\\n",
       "0          21           27  13495     0          1           0             2   \n",
       "1          21           27  16500     0          1           0             2   \n",
       "2          19           26  16500     0          1           2             2   \n",
       "3          24           30  13950     1          1           3             1   \n",
       "4          18           22  17450     1          1           3             0   \n",
       "..        ...          ...    ...   ...        ...         ...           ...   \n",
       "200        23           28  16845    21          1           3             2   \n",
       "201        19           25  19045    21          1           3             2   \n",
       "202        18           23  21485    21          1           3             2   \n",
       "203        26           27  22470    21          0           3             2   \n",
       "204        19           25  22625    21          1           3             2   \n",
       "\n",
       "     engine-location  engine-type  \n",
       "0                  0            0  \n",
       "1                  0            0  \n",
       "2                  0            5  \n",
       "3                  0            3  \n",
       "4                  0            3  \n",
       "..               ...          ...  \n",
       "200                0            3  \n",
       "201                0            3  \n",
       "202                0            5  \n",
       "203                0            3  \n",
       "204                0            3  \n",
       "\n",
       "[193 rows x 15 columns]"
      ]
     },
     "execution_count": 105,
     "metadata": {},
     "output_type": "execute_result"
    }
   ],
   "source": [
    "car_new"
   ]
  },
  {
   "cell_type": "markdown",
   "id": "3a1ef11c",
   "metadata": {},
   "source": [
    "## 2.) StandardScaler Method\n",
    "       Standard Scaler work on Z-SCORE FORMULA\n",
    "       Formula of Z-SCORE= (X-mean(X)/Standard Deviation(X))\n",
    "       Use this formula then value can be +ve or -ve or Zero any means this method is best \n",
    "       for scaling means almost use standardization mean standard scaler method"
   ]
  },
  {
   "cell_type": "markdown",
   "id": "954041b9",
   "metadata": {},
   "source": [
    "####  Apply standardscaler on whole dataset car_new"
   ]
  },
  {
   "cell_type": "code",
   "execution_count": 108,
   "id": "02f66b9f",
   "metadata": {
    "scrolled": true
   },
   "outputs": [],
   "source": [
    "from sklearn.preprocessing import StandardScaler\n",
    "# StandardScaler inbuilt class which define in sklearn.preprocessing"
   ]
  },
  {
   "cell_type": "code",
   "execution_count": 109,
   "id": "0bdf47ae",
   "metadata": {
    "scrolled": true
   },
   "outputs": [],
   "source": [
    "for col in car_new:\n",
    "    # Create  an obejcts of standardScaler class\n",
    "    ss=StandardScaler()\n",
    "    car_new[col]=ss.fit_transform(car_new[[col]])  # Change Permanent\n",
    "    #fit_transform() inbuilt method of StandardScaler Class"
   ]
  },
  {
   "cell_type": "code",
   "execution_count": 110,
   "id": "84441deb",
   "metadata": {
    "scrolled": true
   },
   "outputs": [
    {
     "data": {
      "text/html": [
       "<div>\n",
       "<style scoped>\n",
       "    .dataframe tbody tr th:only-of-type {\n",
       "        vertical-align: middle;\n",
       "    }\n",
       "\n",
       "    .dataframe tbody tr th {\n",
       "        vertical-align: top;\n",
       "    }\n",
       "\n",
       "    .dataframe thead th {\n",
       "        text-align: right;\n",
       "    }\n",
       "</style>\n",
       "<table border=\"1\" class=\"dataframe\">\n",
       "  <thead>\n",
       "    <tr style=\"text-align: right;\">\n",
       "      <th></th>\n",
       "      <th>symboling</th>\n",
       "      <th>normalized-losses</th>\n",
       "      <th>width</th>\n",
       "      <th>height</th>\n",
       "      <th>engine-size</th>\n",
       "      <th>horsepower</th>\n",
       "      <th>city-mpg</th>\n",
       "      <th>highway-mpg</th>\n",
       "      <th>price</th>\n",
       "      <th>make</th>\n",
       "      <th>fuel-type</th>\n",
       "      <th>body-style</th>\n",
       "      <th>drive-wheels</th>\n",
       "      <th>engine-location</th>\n",
       "      <th>engine-type</th>\n",
       "    </tr>\n",
       "  </thead>\n",
       "  <tbody>\n",
       "    <tr>\n",
       "      <th>0</th>\n",
       "      <td>1.867513</td>\n",
       "      <td>0.146538</td>\n",
       "      <td>-0.817748</td>\n",
       "      <td>-2.071007</td>\n",
       "      <td>0.107874</td>\n",
       "      <td>0.224311</td>\n",
       "      <td>-0.680796</td>\n",
       "      <td>-0.585808</td>\n",
       "      <td>0.050194</td>\n",
       "      <td>-1.930113</td>\n",
       "      <td>0.34001</td>\n",
       "      <td>-3.112000</td>\n",
       "      <td>1.229517</td>\n",
       "      <td>-0.125656</td>\n",
       "      <td>-3.103277</td>\n",
       "    </tr>\n",
       "    <tr>\n",
       "      <th>1</th>\n",
       "      <td>1.867513</td>\n",
       "      <td>0.146538</td>\n",
       "      <td>-0.817748</td>\n",
       "      <td>-2.071007</td>\n",
       "      <td>0.107874</td>\n",
       "      <td>0.224311</td>\n",
       "      <td>-0.680796</td>\n",
       "      <td>-0.585808</td>\n",
       "      <td>0.422324</td>\n",
       "      <td>-1.930113</td>\n",
       "      <td>0.34001</td>\n",
       "      <td>-3.112000</td>\n",
       "      <td>1.229517</td>\n",
       "      <td>-0.125656</td>\n",
       "      <td>-3.103277</td>\n",
       "    </tr>\n",
       "    <tr>\n",
       "      <th>2</th>\n",
       "      <td>0.187187</td>\n",
       "      <td>0.146538</td>\n",
       "      <td>-0.178224</td>\n",
       "      <td>-0.591990</td>\n",
       "      <td>0.631937</td>\n",
       "      <td>1.321612</td>\n",
       "      <td>-0.987075</td>\n",
       "      <td>-0.731505</td>\n",
       "      <td>0.422324</td>\n",
       "      <td>-1.930113</td>\n",
       "      <td>0.34001</td>\n",
       "      <td>-0.752016</td>\n",
       "      <td>1.229517</td>\n",
       "      <td>-0.125656</td>\n",
       "      <td>1.938242</td>\n",
       "    </tr>\n",
       "    <tr>\n",
       "      <th>3</th>\n",
       "      <td>1.027350</td>\n",
       "      <td>1.312799</td>\n",
       "      <td>0.141538</td>\n",
       "      <td>0.188602</td>\n",
       "      <td>-0.392369</td>\n",
       "      <td>-0.005357</td>\n",
       "      <td>-0.221378</td>\n",
       "      <td>-0.148717</td>\n",
       "      <td>0.106540</td>\n",
       "      <td>-1.771124</td>\n",
       "      <td>0.34001</td>\n",
       "      <td>0.427976</td>\n",
       "      <td>-0.568186</td>\n",
       "      <td>-0.125656</td>\n",
       "      <td>-0.078366</td>\n",
       "    </tr>\n",
       "    <tr>\n",
       "      <th>4</th>\n",
       "      <td>1.027350</td>\n",
       "      <td>1.312799</td>\n",
       "      <td>0.232898</td>\n",
       "      <td>0.188602</td>\n",
       "      <td>0.250800</td>\n",
       "      <td>0.326386</td>\n",
       "      <td>-1.140215</td>\n",
       "      <td>-1.314294</td>\n",
       "      <td>0.539969</td>\n",
       "      <td>-1.771124</td>\n",
       "      <td>0.34001</td>\n",
       "      <td>0.427976</td>\n",
       "      <td>-2.365889</td>\n",
       "      <td>-0.125656</td>\n",
       "      <td>-0.078366</td>\n",
       "    </tr>\n",
       "    <tr>\n",
       "      <th>5</th>\n",
       "      <td>1.027350</td>\n",
       "      <td>0.146538</td>\n",
       "      <td>0.187218</td>\n",
       "      <td>-0.304403</td>\n",
       "      <td>0.250800</td>\n",
       "      <td>0.198792</td>\n",
       "      <td>-0.987075</td>\n",
       "      <td>-0.877202</td>\n",
       "      <td>0.267528</td>\n",
       "      <td>-1.771124</td>\n",
       "      <td>0.34001</td>\n",
       "      <td>0.427976</td>\n",
       "      <td>-0.568186</td>\n",
       "      <td>-0.125656</td>\n",
       "      <td>-0.078366</td>\n",
       "    </tr>\n",
       "    <tr>\n",
       "      <th>6</th>\n",
       "      <td>0.187187</td>\n",
       "      <td>1.165871</td>\n",
       "      <td>2.516912</td>\n",
       "      <td>0.763776</td>\n",
       "      <td>0.250800</td>\n",
       "      <td>0.198792</td>\n",
       "      <td>-0.987075</td>\n",
       "      <td>-0.877202</td>\n",
       "      <td>0.572167</td>\n",
       "      <td>-1.771124</td>\n",
       "      <td>0.34001</td>\n",
       "      <td>0.427976</td>\n",
       "      <td>-0.568186</td>\n",
       "      <td>-0.125656</td>\n",
       "      <td>-0.078366</td>\n",
       "    </tr>\n",
       "    <tr>\n",
       "      <th>7</th>\n",
       "      <td>0.187187</td>\n",
       "      <td>0.146538</td>\n",
       "      <td>2.516912</td>\n",
       "      <td>0.763776</td>\n",
       "      <td>0.250800</td>\n",
       "      <td>0.198792</td>\n",
       "      <td>-0.987075</td>\n",
       "      <td>-0.877202</td>\n",
       "      <td>0.722010</td>\n",
       "      <td>-1.771124</td>\n",
       "      <td>0.34001</td>\n",
       "      <td>1.607969</td>\n",
       "      <td>-0.568186</td>\n",
       "      <td>-0.125656</td>\n",
       "      <td>-0.078366</td>\n",
       "    </tr>\n",
       "    <tr>\n",
       "      <th>8</th>\n",
       "      <td>0.187187</td>\n",
       "      <td>1.165871</td>\n",
       "      <td>2.516912</td>\n",
       "      <td>0.845943</td>\n",
       "      <td>0.131695</td>\n",
       "      <td>0.964351</td>\n",
       "      <td>-1.293354</td>\n",
       "      <td>-1.605688</td>\n",
       "      <td>1.335622</td>\n",
       "      <td>-1.771124</td>\n",
       "      <td>0.34001</td>\n",
       "      <td>0.427976</td>\n",
       "      <td>-0.568186</td>\n",
       "      <td>-0.125656</td>\n",
       "      <td>-0.078366</td>\n",
       "    </tr>\n",
       "    <tr>\n",
       "      <th>9</th>\n",
       "      <td>-0.652977</td>\n",
       "      <td>0.146538</td>\n",
       "      <td>0.918102</td>\n",
       "      <td>-0.756325</td>\n",
       "      <td>0.131695</td>\n",
       "      <td>1.474724</td>\n",
       "      <td>-1.446494</td>\n",
       "      <td>-1.314294</td>\n",
       "      <td>-0.134943</td>\n",
       "      <td>-1.771124</td>\n",
       "      <td>0.34001</td>\n",
       "      <td>-0.752016</td>\n",
       "      <td>-2.365889</td>\n",
       "      <td>-0.125656</td>\n",
       "      <td>-0.078366</td>\n",
       "    </tr>\n",
       "  </tbody>\n",
       "</table>\n",
       "</div>"
      ],
      "text/plain": [
       "   symboling  normalized-losses     width    height  engine-size  horsepower  \\\n",
       "0   1.867513           0.146538 -0.817748 -2.071007     0.107874    0.224311   \n",
       "1   1.867513           0.146538 -0.817748 -2.071007     0.107874    0.224311   \n",
       "2   0.187187           0.146538 -0.178224 -0.591990     0.631937    1.321612   \n",
       "3   1.027350           1.312799  0.141538  0.188602    -0.392369   -0.005357   \n",
       "4   1.027350           1.312799  0.232898  0.188602     0.250800    0.326386   \n",
       "5   1.027350           0.146538  0.187218 -0.304403     0.250800    0.198792   \n",
       "6   0.187187           1.165871  2.516912  0.763776     0.250800    0.198792   \n",
       "7   0.187187           0.146538  2.516912  0.763776     0.250800    0.198792   \n",
       "8   0.187187           1.165871  2.516912  0.845943     0.131695    0.964351   \n",
       "9  -0.652977           0.146538  0.918102 -0.756325     0.131695    1.474724   \n",
       "\n",
       "   city-mpg  highway-mpg     price      make  fuel-type  body-style  \\\n",
       "0 -0.680796    -0.585808  0.050194 -1.930113    0.34001   -3.112000   \n",
       "1 -0.680796    -0.585808  0.422324 -1.930113    0.34001   -3.112000   \n",
       "2 -0.987075    -0.731505  0.422324 -1.930113    0.34001   -0.752016   \n",
       "3 -0.221378    -0.148717  0.106540 -1.771124    0.34001    0.427976   \n",
       "4 -1.140215    -1.314294  0.539969 -1.771124    0.34001    0.427976   \n",
       "5 -0.987075    -0.877202  0.267528 -1.771124    0.34001    0.427976   \n",
       "6 -0.987075    -0.877202  0.572167 -1.771124    0.34001    0.427976   \n",
       "7 -0.987075    -0.877202  0.722010 -1.771124    0.34001    1.607969   \n",
       "8 -1.293354    -1.605688  1.335622 -1.771124    0.34001    0.427976   \n",
       "9 -1.446494    -1.314294 -0.134943 -1.771124    0.34001   -0.752016   \n",
       "\n",
       "   drive-wheels  engine-location  engine-type  \n",
       "0      1.229517        -0.125656    -3.103277  \n",
       "1      1.229517        -0.125656    -3.103277  \n",
       "2      1.229517        -0.125656     1.938242  \n",
       "3     -0.568186        -0.125656    -0.078366  \n",
       "4     -2.365889        -0.125656    -0.078366  \n",
       "5     -0.568186        -0.125656    -0.078366  \n",
       "6     -0.568186        -0.125656    -0.078366  \n",
       "7     -0.568186        -0.125656    -0.078366  \n",
       "8     -0.568186        -0.125656    -0.078366  \n",
       "9     -2.365889        -0.125656    -0.078366  "
      ]
     },
     "execution_count": 110,
     "metadata": {},
     "output_type": "execute_result"
    }
   ],
   "source": [
    "car_new.head(10)"
   ]
  },
  {
   "cell_type": "markdown",
   "id": "a8f567df",
   "metadata": {},
   "source": [
    "# Step 5.) Feature Engineering \n",
    "        Feature Engineering means to add new columns according to requirement in existing dataset."
   ]
  },
  {
   "cell_type": "code",
   "execution_count": 111,
   "id": "895b766b",
   "metadata": {
    "scrolled": true
   },
   "outputs": [],
   "source": [
    "car_new['Area']=car_new['width']*car_new['height']"
   ]
  },
  {
   "cell_type": "code",
   "execution_count": 112,
   "id": "54098930",
   "metadata": {
    "scrolled": true
   },
   "outputs": [
    {
     "data": {
      "text/html": [
       "<div>\n",
       "<style scoped>\n",
       "    .dataframe tbody tr th:only-of-type {\n",
       "        vertical-align: middle;\n",
       "    }\n",
       "\n",
       "    .dataframe tbody tr th {\n",
       "        vertical-align: top;\n",
       "    }\n",
       "\n",
       "    .dataframe thead th {\n",
       "        text-align: right;\n",
       "    }\n",
       "</style>\n",
       "<table border=\"1\" class=\"dataframe\">\n",
       "  <thead>\n",
       "    <tr style=\"text-align: right;\">\n",
       "      <th></th>\n",
       "      <th>symboling</th>\n",
       "      <th>normalized-losses</th>\n",
       "      <th>width</th>\n",
       "      <th>height</th>\n",
       "      <th>engine-size</th>\n",
       "      <th>horsepower</th>\n",
       "      <th>city-mpg</th>\n",
       "      <th>highway-mpg</th>\n",
       "      <th>price</th>\n",
       "      <th>make</th>\n",
       "      <th>fuel-type</th>\n",
       "      <th>body-style</th>\n",
       "      <th>drive-wheels</th>\n",
       "      <th>engine-location</th>\n",
       "      <th>engine-type</th>\n",
       "      <th>Area</th>\n",
       "    </tr>\n",
       "  </thead>\n",
       "  <tbody>\n",
       "    <tr>\n",
       "      <th>0</th>\n",
       "      <td>1.867513</td>\n",
       "      <td>0.146538</td>\n",
       "      <td>-0.817748</td>\n",
       "      <td>-2.071007</td>\n",
       "      <td>0.107874</td>\n",
       "      <td>0.224311</td>\n",
       "      <td>-0.680796</td>\n",
       "      <td>-0.585808</td>\n",
       "      <td>0.050194</td>\n",
       "      <td>-1.930113</td>\n",
       "      <td>0.34001</td>\n",
       "      <td>-3.112000</td>\n",
       "      <td>1.229517</td>\n",
       "      <td>-0.125656</td>\n",
       "      <td>-3.103277</td>\n",
       "      <td>1.693561</td>\n",
       "    </tr>\n",
       "    <tr>\n",
       "      <th>1</th>\n",
       "      <td>1.867513</td>\n",
       "      <td>0.146538</td>\n",
       "      <td>-0.817748</td>\n",
       "      <td>-2.071007</td>\n",
       "      <td>0.107874</td>\n",
       "      <td>0.224311</td>\n",
       "      <td>-0.680796</td>\n",
       "      <td>-0.585808</td>\n",
       "      <td>0.422324</td>\n",
       "      <td>-1.930113</td>\n",
       "      <td>0.34001</td>\n",
       "      <td>-3.112000</td>\n",
       "      <td>1.229517</td>\n",
       "      <td>-0.125656</td>\n",
       "      <td>-3.103277</td>\n",
       "      <td>1.693561</td>\n",
       "    </tr>\n",
       "    <tr>\n",
       "      <th>2</th>\n",
       "      <td>0.187187</td>\n",
       "      <td>0.146538</td>\n",
       "      <td>-0.178224</td>\n",
       "      <td>-0.591990</td>\n",
       "      <td>0.631937</td>\n",
       "      <td>1.321612</td>\n",
       "      <td>-0.987075</td>\n",
       "      <td>-0.731505</td>\n",
       "      <td>0.422324</td>\n",
       "      <td>-1.930113</td>\n",
       "      <td>0.34001</td>\n",
       "      <td>-0.752016</td>\n",
       "      <td>1.229517</td>\n",
       "      <td>-0.125656</td>\n",
       "      <td>1.938242</td>\n",
       "      <td>0.105507</td>\n",
       "    </tr>\n",
       "    <tr>\n",
       "      <th>3</th>\n",
       "      <td>1.027350</td>\n",
       "      <td>1.312799</td>\n",
       "      <td>0.141538</td>\n",
       "      <td>0.188602</td>\n",
       "      <td>-0.392369</td>\n",
       "      <td>-0.005357</td>\n",
       "      <td>-0.221378</td>\n",
       "      <td>-0.148717</td>\n",
       "      <td>0.106540</td>\n",
       "      <td>-1.771124</td>\n",
       "      <td>0.34001</td>\n",
       "      <td>0.427976</td>\n",
       "      <td>-0.568186</td>\n",
       "      <td>-0.125656</td>\n",
       "      <td>-0.078366</td>\n",
       "      <td>0.026694</td>\n",
       "    </tr>\n",
       "    <tr>\n",
       "      <th>4</th>\n",
       "      <td>1.027350</td>\n",
       "      <td>1.312799</td>\n",
       "      <td>0.232898</td>\n",
       "      <td>0.188602</td>\n",
       "      <td>0.250800</td>\n",
       "      <td>0.326386</td>\n",
       "      <td>-1.140215</td>\n",
       "      <td>-1.314294</td>\n",
       "      <td>0.539969</td>\n",
       "      <td>-1.771124</td>\n",
       "      <td>0.34001</td>\n",
       "      <td>0.427976</td>\n",
       "      <td>-2.365889</td>\n",
       "      <td>-0.125656</td>\n",
       "      <td>-0.078366</td>\n",
       "      <td>0.043925</td>\n",
       "    </tr>\n",
       "  </tbody>\n",
       "</table>\n",
       "</div>"
      ],
      "text/plain": [
       "   symboling  normalized-losses     width    height  engine-size  horsepower  \\\n",
       "0   1.867513           0.146538 -0.817748 -2.071007     0.107874    0.224311   \n",
       "1   1.867513           0.146538 -0.817748 -2.071007     0.107874    0.224311   \n",
       "2   0.187187           0.146538 -0.178224 -0.591990     0.631937    1.321612   \n",
       "3   1.027350           1.312799  0.141538  0.188602    -0.392369   -0.005357   \n",
       "4   1.027350           1.312799  0.232898  0.188602     0.250800    0.326386   \n",
       "\n",
       "   city-mpg  highway-mpg     price      make  fuel-type  body-style  \\\n",
       "0 -0.680796    -0.585808  0.050194 -1.930113    0.34001   -3.112000   \n",
       "1 -0.680796    -0.585808  0.422324 -1.930113    0.34001   -3.112000   \n",
       "2 -0.987075    -0.731505  0.422324 -1.930113    0.34001   -0.752016   \n",
       "3 -0.221378    -0.148717  0.106540 -1.771124    0.34001    0.427976   \n",
       "4 -1.140215    -1.314294  0.539969 -1.771124    0.34001    0.427976   \n",
       "\n",
       "   drive-wheels  engine-location  engine-type      Area  \n",
       "0      1.229517        -0.125656    -3.103277  1.693561  \n",
       "1      1.229517        -0.125656    -3.103277  1.693561  \n",
       "2      1.229517        -0.125656     1.938242  0.105507  \n",
       "3     -0.568186        -0.125656    -0.078366  0.026694  \n",
       "4     -2.365889        -0.125656    -0.078366  0.043925  "
      ]
     },
     "execution_count": 112,
     "metadata": {},
     "output_type": "execute_result"
    }
   ],
   "source": [
    "car_new.head()"
   ]
  },
  {
   "cell_type": "code",
   "execution_count": null,
   "id": "72ab347b",
   "metadata": {
    "scrolled": true
   },
   "outputs": [],
   "source": []
  },
  {
   "cell_type": "code",
   "execution_count": null,
   "id": "3baddad3",
   "metadata": {
    "scrolled": true
   },
   "outputs": [],
   "source": []
  },
  {
   "cell_type": "code",
   "execution_count": null,
   "id": "36023809",
   "metadata": {
    "scrolled": true
   },
   "outputs": [],
   "source": []
  },
  {
   "cell_type": "code",
   "execution_count": null,
   "id": "d6b74aa5",
   "metadata": {
    "scrolled": true
   },
   "outputs": [],
   "source": []
  },
  {
   "cell_type": "code",
   "execution_count": null,
   "id": "f9ac7c8b",
   "metadata": {
    "scrolled": true
   },
   "outputs": [],
   "source": []
  }
 ],
 "metadata": {
  "kernelspec": {
   "display_name": "Python 3",
   "language": "python",
   "name": "python3"
  },
  "language_info": {
   "codemirror_mode": {
    "name": "ipython",
    "version": 3
   },
   "file_extension": ".py",
   "mimetype": "text/x-python",
   "name": "python",
   "nbconvert_exporter": "python",
   "pygments_lexer": "ipython3",
   "version": "3.8.8"
  }
 },
 "nbformat": 4,
 "nbformat_minor": 5
}
